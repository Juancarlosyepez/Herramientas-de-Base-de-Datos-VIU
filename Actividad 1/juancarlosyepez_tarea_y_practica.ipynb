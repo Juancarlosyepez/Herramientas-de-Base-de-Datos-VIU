{
  "nbformat": 4,
  "nbformat_minor": 0,
  "metadata": {
    "kernelspec": {
      "display_name": "Python 3",
      "language": "python",
      "name": "python3"
    },
    "language_info": {
      "codemirror_mode": {
        "name": "ipython",
        "version": 3
      },
      "file_extension": ".py",
      "mimetype": "text/x-python",
      "name": "python",
      "nbconvert_exporter": "python",
      "pygments_lexer": "ipython3",
      "version": "3.7.11"
    },
    "colab": {
      "name": "juancarlosyepez_tarea_y_practica.ipynb",
      "provenance": [],
      "collapsed_sections": [
        "YI9DmbaW1c0Z",
        "kSJTZ3bN1c0a",
        "gAMrDsNs1c0e",
        "0iQYyQCg1c0g",
        "B2fT8KfT1c0l"
      ]
    }
  },
  "cells": [
    {
      "cell_type": "markdown",
      "metadata": {
        "id": "E604TADY1c0C"
      },
      "source": [
        "# Consultas SQL\n",
        "---------------------\n",
        "Abordemos las consultas SQL con un caso práctico.\n",
        "Consideremos la tienda de venta de productos para mascotas **Love4Pets**, la cual ha creado una base de datos SQL con el fin de llevar un control de sus empleados, ventas y suministro de productos."
      ]
    },
    {
      "cell_type": "code",
      "metadata": {
        "scrolled": true,
        "id": "H2xirzzA1c0I"
      },
      "source": [
        "%load_ext sql\n",
        "%sql sqlite:///love4pets.db"
      ],
      "execution_count": null,
      "outputs": []
    },
    {
      "cell_type": "markdown",
      "metadata": {
        "id": "iNaorio41c0J"
      },
      "source": [
        "La base de datos **love4pets.db** contiene diferentes tablas, cada una almacena información relativa a un aspecto de la empresa, agrupando esta información en forma de campos.\n",
        "\n",
        "Por ejemplo **love4pets.db** tiene una tabla **departamento** que está formada por el código del departamento y el nombre que este departamento posee en la empresa. Podemos ver estos campos a continuación:"
      ]
    },
    {
      "cell_type": "code",
      "metadata": {
        "scrolled": false,
        "id": "qla8kG0m1c0K",
        "outputId": "1f1a7ca6-8d94-4fdb-86d2-123ee1634fc9"
      },
      "source": [
        "%sql select * from departamento;"
      ],
      "execution_count": null,
      "outputs": [
        {
          "name": "stdout",
          "output_type": "stream",
          "text": [
            " * sqlite:///love4pets.db\n",
            "Done.\n"
          ]
        },
        {
          "data": {
            "text/html": [
              "<table>\n",
              "    <tr>\n",
              "        <th>departamento_id</th>\n",
              "        <th>nombre</th>\n",
              "    </tr>\n",
              "    <tr>\n",
              "        <td>1</td>\n",
              "        <td>finanzas</td>\n",
              "    </tr>\n",
              "    <tr>\n",
              "        <td>2</td>\n",
              "        <td>ventas</td>\n",
              "    </tr>\n",
              "    <tr>\n",
              "        <td>3</td>\n",
              "        <td>recursos humanos</td>\n",
              "    </tr>\n",
              "    <tr>\n",
              "        <td>4</td>\n",
              "        <td>marketing</td>\n",
              "    </tr>\n",
              "    <tr>\n",
              "        <td>5</td>\n",
              "        <td>veterinario</td>\n",
              "    </tr>\n",
              "    <tr>\n",
              "        <td>6</td>\n",
              "        <td>informatica</td>\n",
              "    </tr>\n",
              "    <tr>\n",
              "        <td>7</td>\n",
              "        <td>investigacion</td>\n",
              "    </tr>\n",
              "</table>"
            ],
            "text/plain": [
              "[(1, 'finanzas'),\n",
              " (2, 'ventas'),\n",
              " (3, 'recursos humanos'),\n",
              " (4, 'marketing'),\n",
              " (5, 'veterinario'),\n",
              " (6, 'informatica'),\n",
              " (7, 'investigacion')]"
            ]
          },
          "execution_count": 4,
          "metadata": {},
          "output_type": "execute_result"
        }
      ]
    },
    {
      "cell_type": "code",
      "metadata": {
        "id": "J0nCtDm31c0L",
        "outputId": "a4be48bb-a962-46af-a531-584c08109514"
      },
      "source": [
        "%sql select * from detalle_orden"
      ],
      "execution_count": null,
      "outputs": [
        {
          "name": "stdout",
          "output_type": "stream",
          "text": [
            " * sqlite:///love4pets.db\n",
            "Done.\n"
          ]
        },
        {
          "data": {
            "text/html": [
              "<table>\n",
              "    <tr>\n",
              "        <th>detalle_id</th>\n",
              "        <th>orden_id</th>\n",
              "        <th>producto_id</th>\n",
              "        <th>cantidad</th>\n",
              "        <th>precio</th>\n",
              "    </tr>\n",
              "    <tr>\n",
              "        <td>1</td>\n",
              "        <td>1</td>\n",
              "        <td>1</td>\n",
              "        <td>2</td>\n",
              "        <td>7</td>\n",
              "    </tr>\n",
              "    <tr>\n",
              "        <td>2</td>\n",
              "        <td>1</td>\n",
              "        <td>3</td>\n",
              "        <td>2</td>\n",
              "        <td>3</td>\n",
              "    </tr>\n",
              "    <tr>\n",
              "        <td>3</td>\n",
              "        <td>1</td>\n",
              "        <td>5</td>\n",
              "        <td>1</td>\n",
              "        <td>13</td>\n",
              "    </tr>\n",
              "    <tr>\n",
              "        <td>4</td>\n",
              "        <td>2</td>\n",
              "        <td>3</td>\n",
              "        <td>3</td>\n",
              "        <td>3</td>\n",
              "    </tr>\n",
              "    <tr>\n",
              "        <td>5</td>\n",
              "        <td>2</td>\n",
              "        <td>5</td>\n",
              "        <td>1</td>\n",
              "        <td>13</td>\n",
              "    </tr>\n",
              "    <tr>\n",
              "        <td>6</td>\n",
              "        <td>3</td>\n",
              "        <td>8</td>\n",
              "        <td>2</td>\n",
              "        <td>15</td>\n",
              "    </tr>\n",
              "    <tr>\n",
              "        <td>7</td>\n",
              "        <td>4</td>\n",
              "        <td>5</td>\n",
              "        <td>1</td>\n",
              "        <td>13</td>\n",
              "    </tr>\n",
              "    <tr>\n",
              "        <td>8</td>\n",
              "        <td>5</td>\n",
              "        <td>8</td>\n",
              "        <td>1</td>\n",
              "        <td>15</td>\n",
              "    </tr>\n",
              "    <tr>\n",
              "        <td>9</td>\n",
              "        <td>6</td>\n",
              "        <td>5</td>\n",
              "        <td>2</td>\n",
              "        <td>13</td>\n",
              "    </tr>\n",
              "    <tr>\n",
              "        <td>10</td>\n",
              "        <td>7</td>\n",
              "        <td>4</td>\n",
              "        <td>3</td>\n",
              "        <td>12</td>\n",
              "    </tr>\n",
              "    <tr>\n",
              "        <td>11</td>\n",
              "        <td>8</td>\n",
              "        <td>5</td>\n",
              "        <td>1</td>\n",
              "        <td>13</td>\n",
              "    </tr>\n",
              "    <tr>\n",
              "        <td>12</td>\n",
              "        <td>8</td>\n",
              "        <td>2</td>\n",
              "        <td>3</td>\n",
              "        <td>5</td>\n",
              "    </tr>\n",
              "    <tr>\n",
              "        <td>13</td>\n",
              "        <td>9</td>\n",
              "        <td>5</td>\n",
              "        <td>1</td>\n",
              "        <td>13</td>\n",
              "    </tr>\n",
              "    <tr>\n",
              "        <td>14</td>\n",
              "        <td>10</td>\n",
              "        <td>3</td>\n",
              "        <td>2</td>\n",
              "        <td>33</td>\n",
              "    </tr>\n",
              "    <tr>\n",
              "        <td>15</td>\n",
              "        <td>11</td>\n",
              "        <td>7</td>\n",
              "        <td>1</td>\n",
              "        <td>3</td>\n",
              "    </tr>\n",
              "    <tr>\n",
              "        <td>16</td>\n",
              "        <td>12</td>\n",
              "        <td>2</td>\n",
              "        <td>3</td>\n",
              "        <td>5</td>\n",
              "    </tr>\n",
              "    <tr>\n",
              "        <td>17</td>\n",
              "        <td>13</td>\n",
              "        <td>7</td>\n",
              "        <td>1</td>\n",
              "        <td>3</td>\n",
              "    </tr>\n",
              "    <tr>\n",
              "        <td>18</td>\n",
              "        <td>13</td>\n",
              "        <td>5</td>\n",
              "        <td>2</td>\n",
              "        <td>13</td>\n",
              "    </tr>\n",
              "    <tr>\n",
              "        <td>19</td>\n",
              "        <td>14</td>\n",
              "        <td>2</td>\n",
              "        <td>3</td>\n",
              "        <td>5</td>\n",
              "    </tr>\n",
              "    <tr>\n",
              "        <td>20</td>\n",
              "        <td>14</td>\n",
              "        <td>7</td>\n",
              "        <td>1</td>\n",
              "        <td>3</td>\n",
              "    </tr>\n",
              "    <tr>\n",
              "        <td>21</td>\n",
              "        <td>15</td>\n",
              "        <td>5</td>\n",
              "        <td>1</td>\n",
              "        <td>13</td>\n",
              "    </tr>\n",
              "    <tr>\n",
              "        <td>22</td>\n",
              "        <td>16</td>\n",
              "        <td>2</td>\n",
              "        <td>3</td>\n",
              "        <td>5</td>\n",
              "    </tr>\n",
              "    <tr>\n",
              "        <td>23</td>\n",
              "        <td>17</td>\n",
              "        <td>7</td>\n",
              "        <td>1</td>\n",
              "        <td>3</td>\n",
              "    </tr>\n",
              "    <tr>\n",
              "        <td>24</td>\n",
              "        <td>18</td>\n",
              "        <td>5</td>\n",
              "        <td>1</td>\n",
              "        <td>13</td>\n",
              "    </tr>\n",
              "    <tr>\n",
              "        <td>25</td>\n",
              "        <td>19</td>\n",
              "        <td>2</td>\n",
              "        <td>3</td>\n",
              "        <td>5</td>\n",
              "    </tr>\n",
              "    <tr>\n",
              "        <td>26</td>\n",
              "        <td>20</td>\n",
              "        <td>5</td>\n",
              "        <td>4</td>\n",
              "        <td>13</td>\n",
              "    </tr>\n",
              "    <tr>\n",
              "        <td>27</td>\n",
              "        <td>21</td>\n",
              "        <td>5</td>\n",
              "        <td>1</td>\n",
              "        <td>13</td>\n",
              "    </tr>\n",
              "    <tr>\n",
              "        <td>28</td>\n",
              "        <td>22</td>\n",
              "        <td>2</td>\n",
              "        <td>3</td>\n",
              "        <td>5</td>\n",
              "    </tr>\n",
              "    <tr>\n",
              "        <td>29</td>\n",
              "        <td>22</td>\n",
              "        <td>5</td>\n",
              "        <td>1</td>\n",
              "        <td>13</td>\n",
              "    </tr>\n",
              "    <tr>\n",
              "        <td>30</td>\n",
              "        <td>23</td>\n",
              "        <td>7</td>\n",
              "        <td>1</td>\n",
              "        <td>3</td>\n",
              "    </tr>\n",
              "    <tr>\n",
              "        <td>31</td>\n",
              "        <td>24</td>\n",
              "        <td>2</td>\n",
              "        <td>3</td>\n",
              "        <td>5</td>\n",
              "    </tr>\n",
              "    <tr>\n",
              "        <td>32</td>\n",
              "        <td>24</td>\n",
              "        <td>5</td>\n",
              "        <td>1</td>\n",
              "        <td>13</td>\n",
              "    </tr>\n",
              "    <tr>\n",
              "        <td>33</td>\n",
              "        <td>24</td>\n",
              "        <td>7</td>\n",
              "        <td>1</td>\n",
              "        <td>3</td>\n",
              "    </tr>\n",
              "</table>"
            ],
            "text/plain": [
              "[(1, 1, 1, 2, 7),\n",
              " (2, 1, 3, 2, 3),\n",
              " (3, 1, 5, 1, 13),\n",
              " (4, 2, 3, 3, 3),\n",
              " (5, 2, 5, 1, 13),\n",
              " (6, 3, 8, 2, 15),\n",
              " (7, 4, 5, 1, 13),\n",
              " (8, 5, 8, 1, 15),\n",
              " (9, 6, 5, 2, 13),\n",
              " (10, 7, 4, 3, 12),\n",
              " (11, 8, 5, 1, 13),\n",
              " (12, 8, 2, 3, 5),\n",
              " (13, 9, 5, 1, 13),\n",
              " (14, 10, 3, 2, 33),\n",
              " (15, 11, 7, 1, 3),\n",
              " (16, 12, 2, 3, 5),\n",
              " (17, 13, 7, 1, 3),\n",
              " (18, 13, 5, 2, 13),\n",
              " (19, 14, 2, 3, 5),\n",
              " (20, 14, 7, 1, 3),\n",
              " (21, 15, 5, 1, 13),\n",
              " (22, 16, 2, 3, 5),\n",
              " (23, 17, 7, 1, 3),\n",
              " (24, 18, 5, 1, 13),\n",
              " (25, 19, 2, 3, 5),\n",
              " (26, 20, 5, 4, 13),\n",
              " (27, 21, 5, 1, 13),\n",
              " (28, 22, 2, 3, 5),\n",
              " (29, 22, 5, 1, 13),\n",
              " (30, 23, 7, 1, 3),\n",
              " (31, 24, 2, 3, 5),\n",
              " (32, 24, 5, 1, 13),\n",
              " (33, 24, 7, 1, 3)]"
            ]
          },
          "execution_count": 5,
          "metadata": {},
          "output_type": "execute_result"
        }
      ]
    },
    {
      "cell_type": "markdown",
      "metadata": {
        "id": "c78NZLtn1c0M"
      },
      "source": [
        "Otras tablas existentes en **love4pets.db** son:  \n",
        "* Empleado\n",
        "* Cliente\n",
        "* Mascota\n",
        "* Producto\n",
        "* Orden o Factura\n",
        "* Detalle_orden\n",
        "* Proveedor\n",
        "* Suministro"
      ]
    },
    {
      "cell_type": "markdown",
      "metadata": {
        "id": "NdptXmug1c0M"
      },
      "source": [
        "Consultas básicas de selección\n",
        "--------\n",
        "La sintaxis básica de una consulta de selección es la siguiente:\n",
        "\n",
        "```sql\n",
        "select Campo FROM Tabla;\n",
        "```\n",
        "Pero para hacer esa consulta debemos conocer el nombre del campo que queremos consultar. Podemos mostrar el \"schema\" o diseño de la tabla con la instrucción **PRAGMA table_info(Tabla);** "
      ]
    },
    {
      "cell_type": "code",
      "metadata": {
        "scrolled": true,
        "id": "A4JRYb9f1c0O",
        "outputId": "3a16c1e0-33c2-4357-e775-fd8a444b965f"
      },
      "source": [
        "%sql PRAGMA table_info(empleado);"
      ],
      "execution_count": null,
      "outputs": [
        {
          "name": "stdout",
          "output_type": "stream",
          "text": [
            " * sqlite:///love4pets.db\n",
            "Done.\n"
          ]
        },
        {
          "data": {
            "text/html": [
              "<table>\n",
              "    <tr>\n",
              "        <th>cid</th>\n",
              "        <th>name</th>\n",
              "        <th>type</th>\n",
              "        <th>notnull</th>\n",
              "        <th>dflt_value</th>\n",
              "        <th>pk</th>\n",
              "    </tr>\n",
              "    <tr>\n",
              "        <td>0</td>\n",
              "        <td>empleado_id</td>\n",
              "        <td>INTEGER</td>\n",
              "        <td>1</td>\n",
              "        <td>None</td>\n",
              "        <td>1</td>\n",
              "    </tr>\n",
              "    <tr>\n",
              "        <td>1</td>\n",
              "        <td>nombre</td>\n",
              "        <td>TEXT</td>\n",
              "        <td>1</td>\n",
              "        <td>None</td>\n",
              "        <td>0</td>\n",
              "    </tr>\n",
              "    <tr>\n",
              "        <td>2</td>\n",
              "        <td>email</td>\n",
              "        <td>TEXT</td>\n",
              "        <td>0</td>\n",
              "        <td>None</td>\n",
              "        <td>0</td>\n",
              "    </tr>\n",
              "    <tr>\n",
              "        <td>3</td>\n",
              "        <td>telefono</td>\n",
              "        <td>TEXT</td>\n",
              "        <td>0</td>\n",
              "        <td>None</td>\n",
              "        <td>0</td>\n",
              "    </tr>\n",
              "    <tr>\n",
              "        <td>4</td>\n",
              "        <td>salario</td>\n",
              "        <td>INTEGER</td>\n",
              "        <td>1</td>\n",
              "        <td>None</td>\n",
              "        <td>0</td>\n",
              "    </tr>\n",
              "    <tr>\n",
              "        <td>5</td>\n",
              "        <td>fecha_ingreso</td>\n",
              "        <td>DATETIME</td>\n",
              "        <td>1</td>\n",
              "        <td>CURRENT_DATE</td>\n",
              "        <td>0</td>\n",
              "    </tr>\n",
              "    <tr>\n",
              "        <td>6</td>\n",
              "        <td>departamento_id</td>\n",
              "        <td>INTEGER</td>\n",
              "        <td>0</td>\n",
              "        <td>None</td>\n",
              "        <td>0</td>\n",
              "    </tr>\n",
              "</table>"
            ],
            "text/plain": [
              "[(0, 'empleado_id', 'INTEGER', 1, None, 1),\n",
              " (1, 'nombre', 'TEXT', 1, None, 0),\n",
              " (2, 'email', 'TEXT', 0, None, 0),\n",
              " (3, 'telefono', 'TEXT', 0, None, 0),\n",
              " (4, 'salario', 'INTEGER', 1, None, 0),\n",
              " (5, 'fecha_ingreso', 'DATETIME', 1, 'CURRENT_DATE', 0),\n",
              " (6, 'departamento_id', 'INTEGER', 0, None, 0)]"
            ]
          },
          "execution_count": 3,
          "metadata": {},
          "output_type": "execute_result"
        }
      ]
    },
    {
      "cell_type": "markdown",
      "metadata": {
        "id": "9fdl2NWD1c0P"
      },
      "source": [
        "Podemos observar que la Tabla **empleado** contiene los campos:\n",
        "* empleado_id\n",
        "* nombre\n",
        "* email\n",
        "* telefono\n",
        "* salario\n",
        "* fecha_ingreso\n",
        "* departamento_id\n",
        "\n",
        "Veamos ahora un ejemplo de selección a alguno de estos campos:"
      ]
    },
    {
      "cell_type": "code",
      "metadata": {
        "id": "vWZte9Vh1c0Q",
        "outputId": "c1aa425b-779f-4e8a-93fa-5ce4464f01c0"
      },
      "source": [
        "%sql select nombre FROM empleado;"
      ],
      "execution_count": null,
      "outputs": [
        {
          "name": "stdout",
          "output_type": "stream",
          "text": [
            " * sqlite:///love4pets.db\n",
            "Done.\n"
          ]
        },
        {
          "data": {
            "text/html": [
              "<table>\n",
              "    <tr>\n",
              "        <th>nombre</th>\n",
              "    </tr>\n",
              "    <tr>\n",
              "        <td>Andres Riera Herrera</td>\n",
              "    </tr>\n",
              "    <tr>\n",
              "        <td>Lucas Serrano Caballero</td>\n",
              "    </tr>\n",
              "    <tr>\n",
              "        <td>Pablo Pons Sanz</td>\n",
              "    </tr>\n",
              "    <tr>\n",
              "        <td>Saul Moreno Santos</td>\n",
              "    </tr>\n",
              "    <tr>\n",
              "        <td>Nil Soler Diez</td>\n",
              "    </tr>\n",
              "    <tr>\n",
              "        <td>Sergio Reyes Gallardo</td>\n",
              "    </tr>\n",
              "    <tr>\n",
              "        <td>Isaac Jimenez Ortiz</td>\n",
              "    </tr>\n",
              "    <tr>\n",
              "        <td>Guillermo Vidal Gomez</td>\n",
              "    </tr>\n",
              "    <tr>\n",
              "        <td>Daniel Quintero Quintero</td>\n",
              "    </tr>\n",
              "    <tr>\n",
              "        <td>Juan Manuel Olivares</td>\n",
              "    </tr>\n",
              "    <tr>\n",
              "        <td>Miguel Soto</td>\n",
              "    </tr>\n",
              "    <tr>\n",
              "        <td>Alejandro Fernandez</td>\n",
              "    </tr>\n",
              "</table>"
            ],
            "text/plain": [
              "[('Andres Riera Herrera',),\n",
              " ('Lucas Serrano Caballero',),\n",
              " ('Pablo Pons Sanz',),\n",
              " ('Saul Moreno Santos',),\n",
              " ('Nil Soler Diez',),\n",
              " ('Sergio Reyes Gallardo',),\n",
              " ('Isaac Jimenez Ortiz',),\n",
              " ('Guillermo Vidal Gomez',),\n",
              " ('Daniel Quintero Quintero',),\n",
              " ('Juan Manuel Olivares',),\n",
              " ('Miguel Soto',),\n",
              " ('Alejandro Fernandez',)]"
            ]
          },
          "execution_count": 8,
          "metadata": {},
          "output_type": "execute_result"
        }
      ]
    },
    {
      "cell_type": "markdown",
      "metadata": {
        "id": "D68qzmRt1c0Q"
      },
      "source": [
        "Podemos agregar mas campos a mostrar en una misma consulta al separar los campos por comas(,) por ejemplo:"
      ]
    },
    {
      "cell_type": "code",
      "metadata": {
        "scrolled": true,
        "id": "6_M1NEXD1c0Q",
        "outputId": "49b9b0ce-7b64-4a88-9985-cfed53f235e5"
      },
      "source": [
        "%sql select nombre, telefono FROM empleado;"
      ],
      "execution_count": null,
      "outputs": [
        {
          "name": "stdout",
          "output_type": "stream",
          "text": [
            " * sqlite:///love4pets.db\n",
            "Done.\n"
          ]
        },
        {
          "data": {
            "text/html": [
              "<table>\n",
              "    <tr>\n",
              "        <th>nombre</th>\n",
              "        <th>telefono</th>\n",
              "    </tr>\n",
              "    <tr>\n",
              "        <td>Andres Riera Herrera</td>\n",
              "        <td>200-88-76</td>\n",
              "    </tr>\n",
              "    <tr>\n",
              "        <td>Lucas Serrano Caballero</td>\n",
              "        <td>115-24-36</td>\n",
              "    </tr>\n",
              "    <tr>\n",
              "        <td>Pablo Pons Sanz</td>\n",
              "        <td>748-72-75</td>\n",
              "    </tr>\n",
              "    <tr>\n",
              "        <td>Saul Moreno Santos</td>\n",
              "        <td>346-87-27</td>\n",
              "    </tr>\n",
              "    <tr>\n",
              "        <td>Nil Soler Diez</td>\n",
              "        <td>576-84-28</td>\n",
              "    </tr>\n",
              "    <tr>\n",
              "        <td>Sergio Reyes Gallardo</td>\n",
              "        <td>598-95-67</td>\n",
              "    </tr>\n",
              "    <tr>\n",
              "        <td>Isaac Jimenez Ortiz</td>\n",
              "        <td>370-19-65</td>\n",
              "    </tr>\n",
              "    <tr>\n",
              "        <td>Guillermo Vidal Gomez</td>\n",
              "        <td>099-05-68</td>\n",
              "    </tr>\n",
              "    <tr>\n",
              "        <td>Daniel Quintero Quintero</td>\n",
              "        <td>261-97-06</td>\n",
              "    </tr>\n",
              "    <tr>\n",
              "        <td>Juan Manuel Olivares</td>\n",
              "        <td>269-37-06</td>\n",
              "    </tr>\n",
              "    <tr>\n",
              "        <td>Miguel Soto</td>\n",
              "        <td>269-92-06</td>\n",
              "    </tr>\n",
              "    <tr>\n",
              "        <td>Alejandro Fernandez</td>\n",
              "        <td>119-91-16</td>\n",
              "    </tr>\n",
              "</table>"
            ],
            "text/plain": [
              "[('Andres Riera Herrera', '200-88-76'),\n",
              " ('Lucas Serrano Caballero', '115-24-36'),\n",
              " ('Pablo Pons Sanz', '748-72-75'),\n",
              " ('Saul Moreno Santos', '346-87-27'),\n",
              " ('Nil Soler Diez', '576-84-28'),\n",
              " ('Sergio Reyes Gallardo', '598-95-67'),\n",
              " ('Isaac Jimenez Ortiz', '370-19-65'),\n",
              " ('Guillermo Vidal Gomez', '099-05-68'),\n",
              " ('Daniel Quintero Quintero', '261-97-06'),\n",
              " ('Juan Manuel Olivares', '269-37-06'),\n",
              " ('Miguel Soto', '269-92-06'),\n",
              " ('Alejandro Fernandez', '119-91-16')]"
            ]
          },
          "execution_count": 4,
          "metadata": {},
          "output_type": "execute_result"
        }
      ]
    },
    {
      "cell_type": "markdown",
      "metadata": {
        "id": "_QTDk1GX1c0R"
      },
      "source": [
        "Tambien es posible solicitar todos los campos de una tabla con el signo asterisco(*):"
      ]
    },
    {
      "cell_type": "code",
      "metadata": {
        "id": "-GWoMBIm1c0R",
        "outputId": "48766d8d-6ae1-4ed6-ed55-e5152abb56c0"
      },
      "source": [
        "%sql select * FROM empleado;"
      ],
      "execution_count": null,
      "outputs": [
        {
          "name": "stdout",
          "output_type": "stream",
          "text": [
            " * sqlite:///love4pets.db\n",
            "Done.\n"
          ]
        },
        {
          "data": {
            "text/html": [
              "<table>\n",
              "    <tr>\n",
              "        <th>empleado_id</th>\n",
              "        <th>nombre</th>\n",
              "        <th>email</th>\n",
              "        <th>telefono</th>\n",
              "        <th>salario</th>\n",
              "        <th>fecha_ingreso</th>\n",
              "        <th>departamento_id</th>\n",
              "    </tr>\n",
              "    <tr>\n",
              "        <td>1</td>\n",
              "        <td>Andres Riera Herrera</td>\n",
              "        <td>andresr@gmail.com</td>\n",
              "        <td>200-88-76</td>\n",
              "        <td>1500</td>\n",
              "        <td>2017-05-17 00:00:000</td>\n",
              "        <td>6</td>\n",
              "    </tr>\n",
              "    <tr>\n",
              "        <td>2</td>\n",
              "        <td>Lucas Serrano Caballero</td>\n",
              "        <td>lucas99@gmail.com</td>\n",
              "        <td>115-24-36</td>\n",
              "        <td>1200</td>\n",
              "        <td>2018-05-17 00:00:000</td>\n",
              "        <td>2</td>\n",
              "    </tr>\n",
              "    <tr>\n",
              "        <td>3</td>\n",
              "        <td>Pablo Pons Sanz</td>\n",
              "        <td>ppsanz@gmail.com</td>\n",
              "        <td>748-72-75</td>\n",
              "        <td>1350</td>\n",
              "        <td>2016-07-01 00:00:000</td>\n",
              "        <td>1</td>\n",
              "    </tr>\n",
              "    <tr>\n",
              "        <td>4</td>\n",
              "        <td>Saul Moreno Santos</td>\n",
              "        <td>saul.morenosantos@gmail.com</td>\n",
              "        <td>346-87-27</td>\n",
              "        <td>1600</td>\n",
              "        <td>2016-07-01 00:00:000</td>\n",
              "        <td>1</td>\n",
              "    </tr>\n",
              "    <tr>\n",
              "        <td>5</td>\n",
              "        <td>Nil Soler Diez</td>\n",
              "        <td>nilsoler@gmail.com</td>\n",
              "        <td>576-84-28</td>\n",
              "        <td>1100</td>\n",
              "        <td>2016-04-03 00:00:000</td>\n",
              "        <td>5</td>\n",
              "    </tr>\n",
              "    <tr>\n",
              "        <td>6</td>\n",
              "        <td>Sergio Reyes Gallardo</td>\n",
              "        <td>zerg@gmail.com</td>\n",
              "        <td>598-95-67</td>\n",
              "        <td>1000</td>\n",
              "        <td>2016-04-03 00:00:000</td>\n",
              "        <td>5</td>\n",
              "    </tr>\n",
              "    <tr>\n",
              "        <td>7</td>\n",
              "        <td>Isaac Jimenez Ortiz</td>\n",
              "        <td>isaacortiz@gmail.com</td>\n",
              "        <td>370-19-65</td>\n",
              "        <td>1600</td>\n",
              "        <td>2016-07-08 00:00:000</td>\n",
              "        <td>3</td>\n",
              "    </tr>\n",
              "    <tr>\n",
              "        <td>8</td>\n",
              "        <td>Guillermo Vidal Gomez</td>\n",
              "        <td>guillevidal@gmail.com</td>\n",
              "        <td>099-05-68</td>\n",
              "        <td>1400</td>\n",
              "        <td>2016-01-03 00:00:000</td>\n",
              "        <td>3</td>\n",
              "    </tr>\n",
              "    <tr>\n",
              "        <td>9</td>\n",
              "        <td>Daniel Quintero Quintero</td>\n",
              "        <td>danielquinterox2@gmail.com</td>\n",
              "        <td>261-97-06</td>\n",
              "        <td>1500</td>\n",
              "        <td>2017-03-05 00:00:000</td>\n",
              "        <td>6</td>\n",
              "    </tr>\n",
              "    <tr>\n",
              "        <td>10</td>\n",
              "        <td>Juan Manuel Olivares</td>\n",
              "        <td>juanma@gmail.com</td>\n",
              "        <td>269-37-06</td>\n",
              "        <td>1500</td>\n",
              "        <td>2017-03-05 00:00:000</td>\n",
              "        <td>None</td>\n",
              "    </tr>\n",
              "    <tr>\n",
              "        <td>11</td>\n",
              "        <td>Miguel Soto</td>\n",
              "        <td>misoto@gmail.com</td>\n",
              "        <td>269-92-06</td>\n",
              "        <td>1900</td>\n",
              "        <td>2017-03-05 00:00:000</td>\n",
              "        <td>6</td>\n",
              "    </tr>\n",
              "    <tr>\n",
              "        <td>12</td>\n",
              "        <td>Alejandro Fernandez</td>\n",
              "        <td>alefer@gmail.com</td>\n",
              "        <td>119-91-16</td>\n",
              "        <td>1850</td>\n",
              "        <td>2017-03-05 00:00:000</td>\n",
              "        <td>6</td>\n",
              "    </tr>\n",
              "</table>"
            ],
            "text/plain": [
              "[(1, 'Andres Riera Herrera', 'andresr@gmail.com', '200-88-76', 1500, '2017-05-17 00:00:000', 6),\n",
              " (2, 'Lucas Serrano Caballero', 'lucas99@gmail.com', '115-24-36', 1200, '2018-05-17 00:00:000', 2),\n",
              " (3, 'Pablo Pons Sanz', 'ppsanz@gmail.com', '748-72-75', 1350, '2016-07-01 00:00:000', 1),\n",
              " (4, 'Saul Moreno Santos', 'saul.morenosantos@gmail.com', '346-87-27', 1600, '2016-07-01 00:00:000', 1),\n",
              " (5, 'Nil Soler Diez', 'nilsoler@gmail.com', '576-84-28', 1100, '2016-04-03 00:00:000', 5),\n",
              " (6, 'Sergio Reyes Gallardo', 'zerg@gmail.com', '598-95-67', 1000, '2016-04-03 00:00:000', 5),\n",
              " (7, 'Isaac Jimenez Ortiz', 'isaacortiz@gmail.com', '370-19-65', 1600, '2016-07-08 00:00:000', 3),\n",
              " (8, 'Guillermo Vidal Gomez', 'guillevidal@gmail.com', '099-05-68', 1400, '2016-01-03 00:00:000', 3),\n",
              " (9, 'Daniel Quintero Quintero', 'danielquinterox2@gmail.com', '261-97-06', 1500, '2017-03-05 00:00:000', 6),\n",
              " (10, 'Juan Manuel Olivares', 'juanma@gmail.com', '269-37-06', 1500, '2017-03-05 00:00:000', None),\n",
              " (11, 'Miguel Soto', 'misoto@gmail.com', '269-92-06', 1900, '2017-03-05 00:00:000', 6),\n",
              " (12, 'Alejandro Fernandez', 'alefer@gmail.com', '119-91-16', 1850, '2017-03-05 00:00:000', 6)]"
            ]
          },
          "execution_count": 5,
          "metadata": {},
          "output_type": "execute_result"
        }
      ]
    },
    {
      "cell_type": "code",
      "metadata": {
        "id": "nKGd_YJN1c0S",
        "outputId": "d0485c60-35bc-47d1-f8cd-5317f67a8354"
      },
      "source": [
        "%sql select * FROM cliente"
      ],
      "execution_count": null,
      "outputs": [
        {
          "name": "stdout",
          "output_type": "stream",
          "text": [
            " * sqlite:///love4pets.db\n",
            "Done.\n"
          ]
        },
        {
          "data": {
            "text/html": [
              "<table>\n",
              "    <tr>\n",
              "        <th>cliente_id</th>\n",
              "        <th>nombre</th>\n",
              "        <th>email</th>\n",
              "        <th>telefono</th>\n",
              "        <th>contacto</th>\n",
              "        <th>telefono_contacto</th>\n",
              "        <th>ciudad</th>\n",
              "    </tr>\n",
              "    <tr>\n",
              "        <td>1</td>\n",
              "        <td>Mario Flores Gallardo</td>\n",
              "        <td>marioflores@gmail.com</td>\n",
              "        <td>036-15-36</td>\n",
              "        <td>Aintzane Alvarez Iglesias</td>\n",
              "        <td>210-35-57</td>\n",
              "        <td>Madrid</td>\n",
              "    </tr>\n",
              "    <tr>\n",
              "        <td>2</td>\n",
              "        <td>Arnau Medina Garcia</td>\n",
              "        <td>arnaumedina@gmail.com</td>\n",
              "        <td>094-10-88</td>\n",
              "        <td></td>\n",
              "        <td></td>\n",
              "        <td>Madrid</td>\n",
              "    </tr>\n",
              "    <tr>\n",
              "        <td>3</td>\n",
              "        <td>Ivan Medina Rubio</td>\n",
              "        <td>ivanmedina@gmail.com</td>\n",
              "        <td>083-08-72</td>\n",
              "        <td>Javier Domenech</td>\n",
              "        <td>488-48-46</td>\n",
              "        <td>Toledo</td>\n",
              "    </tr>\n",
              "    <tr>\n",
              "        <td>4</td>\n",
              "        <td>Jan Vargas Santana</td>\n",
              "        <td>vargasjan@gmail.com</td>\n",
              "        <td>780-65-24</td>\n",
              "        <td></td>\n",
              "        <td></td>\n",
              "        <td>Madrid</td>\n",
              "    </tr>\n",
              "    <tr>\n",
              "        <td>5</td>\n",
              "        <td>Carlos Costa Guerrero</td>\n",
              "        <td>carloscostag@gmail.com</td>\n",
              "        <td>180-65-24</td>\n",
              "        <td>Cristian Jimenez</td>\n",
              "        <td>801-28-09</td>\n",
              "        <td>Madrid</td>\n",
              "    </tr>\n",
              "    <tr>\n",
              "        <td>6</td>\n",
              "        <td>Roberto Martin Ortega</td>\n",
              "        <td>robertmartin@gmail.com</td>\n",
              "        <td>742-63-27</td>\n",
              "        <td>Jorge Vila Gallardo</td>\n",
              "        <td>564-52-13</td>\n",
              "        <td>Madrid</td>\n",
              "    </tr>\n",
              "    <tr>\n",
              "        <td>7</td>\n",
              "        <td>Gabriel Gonzalez Ortega</td>\n",
              "        <td>gabogonzo@gmail.com</td>\n",
              "        <td>780-13-14</td>\n",
              "        <td>Miguel Bosch Parra</td>\n",
              "        <td>882-17-20</td>\n",
              "        <td>Madrid</td>\n",
              "    </tr>\n",
              "    <tr>\n",
              "        <td>8</td>\n",
              "        <td>Rayan Leon Ferrer</td>\n",
              "        <td>rayito@gmail.com</td>\n",
              "        <td>430-65-24</td>\n",
              "        <td>Santiago Perez Ramos</td>\n",
              "        <td>577-21-24</td>\n",
              "        <td>Madrid</td>\n",
              "    </tr>\n",
              "    <tr>\n",
              "        <td>9</td>\n",
              "        <td>Aitor Ruiz Sanchez</td>\n",
              "        <td>aitorsanchez@gmail.com</td>\n",
              "        <td>780-77-24</td>\n",
              "        <td>Gabriel Gonzalez Ortega</td>\n",
              "        <td>784-96-31</td>\n",
              "        <td>Madrid</td>\n",
              "    </tr>\n",
              "    <tr>\n",
              "        <td>10</td>\n",
              "        <td>Eric Rubio Carrasco</td>\n",
              "        <td>ericrubio@gmail.com</td>\n",
              "        <td>780-65-79</td>\n",
              "        <td>Cristian Jimenez Martinez</td>\n",
              "        <td>147-01-12</td>\n",
              "        <td>Madrid</td>\n",
              "    </tr>\n",
              "    <tr>\n",
              "        <td>11</td>\n",
              "        <td>Alberto Sanz Ruiz</td>\n",
              "        <td>albert@gmail.com</td>\n",
              "        <td>781-15-24</td>\n",
              "        <td>Gabriel Gonzalez Ortega</td>\n",
              "        <td>028-51-21</td>\n",
              "        <td>Madrid</td>\n",
              "    </tr>\n",
              "    <tr>\n",
              "        <td>12</td>\n",
              "        <td>Jesus Medina Hernandez</td>\n",
              "        <td>jmedinah@gmail.com</td>\n",
              "        <td>782-35-25</td>\n",
              "        <td>Vctor Gonzalez Castillo</td>\n",
              "        <td>661-85-12</td>\n",
              "        <td>Madrid</td>\n",
              "    </tr>\n",
              "    <tr>\n",
              "        <td>13</td>\n",
              "        <td>Pol Moya Pena</td>\n",
              "        <td>polmoya@gmail.com</td>\n",
              "        <td>780-25-24</td>\n",
              "        <td></td>\n",
              "        <td></td>\n",
              "        <td>Toledo</td>\n",
              "    </tr>\n",
              "    <tr>\n",
              "        <td>14</td>\n",
              "        <td>Jose Gallardo Rodriguez</td>\n",
              "        <td>josegallardo@gmail.com</td>\n",
              "        <td>783-65-11</td>\n",
              "        <td>Hector Martin Morales</td>\n",
              "        <td>867-97-99</td>\n",
              "        <td>Madrid</td>\n",
              "    </tr>\n",
              "    <tr>\n",
              "        <td>15</td>\n",
              "        <td>Manuel Angel Gil</td>\n",
              "        <td>manano@gmail.com</td>\n",
              "        <td>733-65-16</td>\n",
              "        <td>Hector Navarro</td>\n",
              "        <td>067-97-91</td>\n",
              "        <td>Madrid</td>\n",
              "    </tr>\n",
              "</table>"
            ],
            "text/plain": [
              "[(1, 'Mario Flores Gallardo', 'marioflores@gmail.com', '036-15-36', 'Aintzane Alvarez Iglesias', '210-35-57', 'Madrid'),\n",
              " (2, 'Arnau Medina Garcia', 'arnaumedina@gmail.com', '094-10-88', '', '', 'Madrid'),\n",
              " (3, 'Ivan Medina Rubio', 'ivanmedina@gmail.com', '083-08-72', 'Javier Domenech', '488-48-46', 'Toledo'),\n",
              " (4, 'Jan Vargas Santana', 'vargasjan@gmail.com', '780-65-24', '', '', 'Madrid'),\n",
              " (5, 'Carlos Costa Guerrero', 'carloscostag@gmail.com', '180-65-24', 'Cristian Jimenez', '801-28-09', 'Madrid'),\n",
              " (6, 'Roberto Martin Ortega', 'robertmartin@gmail.com', '742-63-27', 'Jorge Vila Gallardo', '564-52-13', 'Madrid'),\n",
              " (7, 'Gabriel Gonzalez Ortega', 'gabogonzo@gmail.com', '780-13-14', 'Miguel Bosch Parra', '882-17-20', 'Madrid'),\n",
              " (8, 'Rayan Leon Ferrer', 'rayito@gmail.com', '430-65-24', 'Santiago Perez Ramos', '577-21-24', 'Madrid'),\n",
              " (9, 'Aitor Ruiz Sanchez', 'aitorsanchez@gmail.com', '780-77-24', 'Gabriel Gonzalez Ortega', '784-96-31', 'Madrid'),\n",
              " (10, 'Eric Rubio Carrasco', 'ericrubio@gmail.com', '780-65-79', 'Cristian Jimenez Martinez', '147-01-12', 'Madrid'),\n",
              " (11, 'Alberto Sanz Ruiz', 'albert@gmail.com', '781-15-24', 'Gabriel Gonzalez Ortega', '028-51-21', 'Madrid'),\n",
              " (12, 'Jesus Medina Hernandez', 'jmedinah@gmail.com', '782-35-25', 'Vctor Gonzalez Castillo', '661-85-12', 'Madrid'),\n",
              " (13, 'Pol Moya Pena', 'polmoya@gmail.com', '780-25-24', '', '', 'Toledo'),\n",
              " (14, 'Jose Gallardo Rodriguez', 'josegallardo@gmail.com', '783-65-11', 'Hector Martin Morales', '867-97-99', 'Madrid'),\n",
              " (15, 'Manuel Angel Gil', 'manano@gmail.com', '733-65-16', 'Hector Navarro', '067-97-91', 'Madrid')]"
            ]
          },
          "execution_count": 6,
          "metadata": {},
          "output_type": "execute_result"
        }
      ]
    },
    {
      "cell_type": "markdown",
      "metadata": {
        "id": "M6zknRoH1c0S"
      },
      "source": [
        "<div style=\"background-color: #81F781\">\n",
        " <h1> Ejercicio 1. </h1><br>\n",
        "    Complete el siguiente código para obtener un listado de los nombres, telefonos y ciudad de todos los clientes.\n",
        " <br><br>\n",
        "</div>"
      ]
    },
    {
      "cell_type": "code",
      "metadata": {
        "id": "f_OJb5PN1c0S",
        "outputId": "2c0c51fd-320f-4d1f-bae9-0dbd1d83a160"
      },
      "source": [
        "%sql select nombre, telefono, ciudad from cliente;"
      ],
      "execution_count": null,
      "outputs": [
        {
          "name": "stdout",
          "output_type": "stream",
          "text": [
            " * sqlite:///love4pets.db\n",
            "Done.\n"
          ]
        },
        {
          "data": {
            "text/html": [
              "<table>\n",
              "    <tr>\n",
              "        <th>nombre</th>\n",
              "        <th>telefono</th>\n",
              "        <th>ciudad</th>\n",
              "    </tr>\n",
              "    <tr>\n",
              "        <td>Mario Flores Gallardo</td>\n",
              "        <td>036-15-36</td>\n",
              "        <td>Madrid</td>\n",
              "    </tr>\n",
              "    <tr>\n",
              "        <td>Arnau Medina Garcia</td>\n",
              "        <td>094-10-88</td>\n",
              "        <td>Madrid</td>\n",
              "    </tr>\n",
              "    <tr>\n",
              "        <td>Ivan Medina Rubio</td>\n",
              "        <td>083-08-72</td>\n",
              "        <td>Toledo</td>\n",
              "    </tr>\n",
              "    <tr>\n",
              "        <td>Jan Vargas Santana</td>\n",
              "        <td>780-65-24</td>\n",
              "        <td>Madrid</td>\n",
              "    </tr>\n",
              "    <tr>\n",
              "        <td>Carlos Costa Guerrero</td>\n",
              "        <td>180-65-24</td>\n",
              "        <td>Madrid</td>\n",
              "    </tr>\n",
              "    <tr>\n",
              "        <td>Roberto Martin Ortega</td>\n",
              "        <td>742-63-27</td>\n",
              "        <td>Madrid</td>\n",
              "    </tr>\n",
              "    <tr>\n",
              "        <td>Gabriel Gonzalez Ortega</td>\n",
              "        <td>780-13-14</td>\n",
              "        <td>Madrid</td>\n",
              "    </tr>\n",
              "    <tr>\n",
              "        <td>Rayan Leon Ferrer</td>\n",
              "        <td>430-65-24</td>\n",
              "        <td>Madrid</td>\n",
              "    </tr>\n",
              "    <tr>\n",
              "        <td>Aitor Ruiz Sanchez</td>\n",
              "        <td>780-77-24</td>\n",
              "        <td>Madrid</td>\n",
              "    </tr>\n",
              "    <tr>\n",
              "        <td>Eric Rubio Carrasco</td>\n",
              "        <td>780-65-79</td>\n",
              "        <td>Madrid</td>\n",
              "    </tr>\n",
              "    <tr>\n",
              "        <td>Alberto Sanz Ruiz</td>\n",
              "        <td>781-15-24</td>\n",
              "        <td>Madrid</td>\n",
              "    </tr>\n",
              "    <tr>\n",
              "        <td>Jesus Medina Hernandez</td>\n",
              "        <td>782-35-25</td>\n",
              "        <td>Madrid</td>\n",
              "    </tr>\n",
              "    <tr>\n",
              "        <td>Pol Moya Pena</td>\n",
              "        <td>780-25-24</td>\n",
              "        <td>Toledo</td>\n",
              "    </tr>\n",
              "    <tr>\n",
              "        <td>Jose Gallardo Rodriguez</td>\n",
              "        <td>783-65-11</td>\n",
              "        <td>Madrid</td>\n",
              "    </tr>\n",
              "    <tr>\n",
              "        <td>Manuel Angel Gil</td>\n",
              "        <td>733-65-16</td>\n",
              "        <td>Madrid</td>\n",
              "    </tr>\n",
              "</table>"
            ],
            "text/plain": [
              "[('Mario Flores Gallardo', '036-15-36', 'Madrid'),\n",
              " ('Arnau Medina Garcia', '094-10-88', 'Madrid'),\n",
              " ('Ivan Medina Rubio', '083-08-72', 'Toledo'),\n",
              " ('Jan Vargas Santana', '780-65-24', 'Madrid'),\n",
              " ('Carlos Costa Guerrero', '180-65-24', 'Madrid'),\n",
              " ('Roberto Martin Ortega', '742-63-27', 'Madrid'),\n",
              " ('Gabriel Gonzalez Ortega', '780-13-14', 'Madrid'),\n",
              " ('Rayan Leon Ferrer', '430-65-24', 'Madrid'),\n",
              " ('Aitor Ruiz Sanchez', '780-77-24', 'Madrid'),\n",
              " ('Eric Rubio Carrasco', '780-65-79', 'Madrid'),\n",
              " ('Alberto Sanz Ruiz', '781-15-24', 'Madrid'),\n",
              " ('Jesus Medina Hernandez', '782-35-25', 'Madrid'),\n",
              " ('Pol Moya Pena', '780-25-24', 'Toledo'),\n",
              " ('Jose Gallardo Rodriguez', '783-65-11', 'Madrid'),\n",
              " ('Manuel Angel Gil', '733-65-16', 'Madrid')]"
            ]
          },
          "execution_count": 8,
          "metadata": {},
          "output_type": "execute_result"
        }
      ]
    },
    {
      "cell_type": "code",
      "metadata": {
        "id": "ULW-6Gcz1c0T",
        "outputId": "0e4c768c-9c4c-4e14-a69a-14827cfc6156"
      },
      "source": [
        "%sql PRAGMA table_info(cliente);"
      ],
      "execution_count": null,
      "outputs": [
        {
          "name": "stdout",
          "output_type": "stream",
          "text": [
            " * sqlite:///love4pets.db\n",
            "Done.\n"
          ]
        },
        {
          "data": {
            "text/html": [
              "<table>\n",
              "    <tr>\n",
              "        <th>cid</th>\n",
              "        <th>name</th>\n",
              "        <th>type</th>\n",
              "        <th>notnull</th>\n",
              "        <th>dflt_value</th>\n",
              "        <th>pk</th>\n",
              "    </tr>\n",
              "    <tr>\n",
              "        <td>0</td>\n",
              "        <td>cliente_id</td>\n",
              "        <td>INTEGER</td>\n",
              "        <td>1</td>\n",
              "        <td>None</td>\n",
              "        <td>1</td>\n",
              "    </tr>\n",
              "    <tr>\n",
              "        <td>1</td>\n",
              "        <td>nombre</td>\n",
              "        <td>TEXT</td>\n",
              "        <td>1</td>\n",
              "        <td>None</td>\n",
              "        <td>0</td>\n",
              "    </tr>\n",
              "    <tr>\n",
              "        <td>2</td>\n",
              "        <td>email</td>\n",
              "        <td>TEXT</td>\n",
              "        <td>0</td>\n",
              "        <td>None</td>\n",
              "        <td>0</td>\n",
              "    </tr>\n",
              "    <tr>\n",
              "        <td>3</td>\n",
              "        <td>telefono</td>\n",
              "        <td>TEXT</td>\n",
              "        <td>1</td>\n",
              "        <td>None</td>\n",
              "        <td>0</td>\n",
              "    </tr>\n",
              "    <tr>\n",
              "        <td>4</td>\n",
              "        <td>contacto</td>\n",
              "        <td>TEXT</td>\n",
              "        <td>0</td>\n",
              "        <td>None</td>\n",
              "        <td>0</td>\n",
              "    </tr>\n",
              "    <tr>\n",
              "        <td>5</td>\n",
              "        <td>telefono_contacto</td>\n",
              "        <td>TEXT</td>\n",
              "        <td>0</td>\n",
              "        <td>None</td>\n",
              "        <td>0</td>\n",
              "    </tr>\n",
              "    <tr>\n",
              "        <td>6</td>\n",
              "        <td>ciudad</td>\n",
              "        <td>TEXT</td>\n",
              "        <td>1</td>\n",
              "        <td>None</td>\n",
              "        <td>0</td>\n",
              "    </tr>\n",
              "</table>"
            ],
            "text/plain": [
              "[(0, 'cliente_id', 'INTEGER', 1, None, 1),\n",
              " (1, 'nombre', 'TEXT', 1, None, 0),\n",
              " (2, 'email', 'TEXT', 0, None, 0),\n",
              " (3, 'telefono', 'TEXT', 1, None, 0),\n",
              " (4, 'contacto', 'TEXT', 0, None, 0),\n",
              " (5, 'telefono_contacto', 'TEXT', 0, None, 0),\n",
              " (6, 'ciudad', 'TEXT', 1, None, 0)]"
            ]
          },
          "execution_count": 6,
          "metadata": {},
          "output_type": "execute_result"
        }
      ]
    },
    {
      "cell_type": "markdown",
      "metadata": {
        "id": "wENAbBP01c0T"
      },
      "source": [
        "### Ordenar los registros, ORDER BY\n",
        "--------\n",
        "Es posible especificar el orden en que queremos que se muestre resultado de una consulta, esto se consigue con la clausula **ORDER BY** \n",
        "```sql\n",
        "select campo1,campo2,...,campoN FROM Tabla ORDER BY campoX;\n",
        "```\n",
        "Veamos un ejemplo sobre la tabla empleado:\n",
        "\n",
        "**Liste los empleados de Love4Pets ordenados por su salario**"
      ]
    },
    {
      "cell_type": "code",
      "metadata": {
        "id": "H5rEMCn91c0T",
        "outputId": "9edf61ae-f4e4-4489-ca36-71206d46937b"
      },
      "source": [
        "%sql select nombre, salario FROM empleado ORDER BY salario;"
      ],
      "execution_count": null,
      "outputs": [
        {
          "name": "stdout",
          "output_type": "stream",
          "text": [
            " * sqlite:///love4pets.db\n",
            "Done.\n"
          ]
        },
        {
          "data": {
            "text/html": [
              "<table>\n",
              "    <tr>\n",
              "        <th>nombre</th>\n",
              "        <th>salario</th>\n",
              "    </tr>\n",
              "    <tr>\n",
              "        <td>Sergio Reyes Gallardo</td>\n",
              "        <td>1000</td>\n",
              "    </tr>\n",
              "    <tr>\n",
              "        <td>Nil Soler Diez</td>\n",
              "        <td>1100</td>\n",
              "    </tr>\n",
              "    <tr>\n",
              "        <td>Lucas Serrano Caballero</td>\n",
              "        <td>1200</td>\n",
              "    </tr>\n",
              "    <tr>\n",
              "        <td>Pablo Pons Sanz</td>\n",
              "        <td>1350</td>\n",
              "    </tr>\n",
              "    <tr>\n",
              "        <td>Guillermo Vidal Gomez</td>\n",
              "        <td>1400</td>\n",
              "    </tr>\n",
              "    <tr>\n",
              "        <td>Andres Riera Herrera</td>\n",
              "        <td>1500</td>\n",
              "    </tr>\n",
              "    <tr>\n",
              "        <td>Daniel Quintero Quintero</td>\n",
              "        <td>1500</td>\n",
              "    </tr>\n",
              "    <tr>\n",
              "        <td>Juan Manuel Olivares</td>\n",
              "        <td>1500</td>\n",
              "    </tr>\n",
              "    <tr>\n",
              "        <td>Saul Moreno Santos</td>\n",
              "        <td>1600</td>\n",
              "    </tr>\n",
              "    <tr>\n",
              "        <td>Isaac Jimenez Ortiz</td>\n",
              "        <td>1600</td>\n",
              "    </tr>\n",
              "    <tr>\n",
              "        <td>Alejandro Fernandez</td>\n",
              "        <td>1850</td>\n",
              "    </tr>\n",
              "    <tr>\n",
              "        <td>Miguel Soto</td>\n",
              "        <td>1900</td>\n",
              "    </tr>\n",
              "</table>"
            ],
            "text/plain": [
              "[('Sergio Reyes Gallardo', 1000),\n",
              " ('Nil Soler Diez', 1100),\n",
              " ('Lucas Serrano Caballero', 1200),\n",
              " ('Pablo Pons Sanz', 1350),\n",
              " ('Guillermo Vidal Gomez', 1400),\n",
              " ('Andres Riera Herrera', 1500),\n",
              " ('Daniel Quintero Quintero', 1500),\n",
              " ('Juan Manuel Olivares', 1500),\n",
              " ('Saul Moreno Santos', 1600),\n",
              " ('Isaac Jimenez Ortiz', 1600),\n",
              " ('Alejandro Fernandez', 1850),\n",
              " ('Miguel Soto', 1900)]"
            ]
          },
          "execution_count": 11,
          "metadata": {},
          "output_type": "execute_result"
        }
      ]
    },
    {
      "cell_type": "markdown",
      "metadata": {
        "id": "h2CIzjQN1c0U"
      },
      "source": [
        "Se puede ordenar el resultado por mas de un campo, por ejemplo podemos ordenar los empleados segun su sueldo usando el campo **salario** y además en orden alfabetico por el campo **nombre**"
      ]
    },
    {
      "cell_type": "code",
      "metadata": {
        "id": "UzJkDas01c0U",
        "outputId": "48430774-ce1e-4cce-81d4-7e9feb47a036"
      },
      "source": [
        "%sql select nombre, salario FROM empleado ORDER BY salario, nombre;"
      ],
      "execution_count": null,
      "outputs": [
        {
          "name": "stdout",
          "output_type": "stream",
          "text": [
            " * sqlite:///love4pets.db\n",
            "Done.\n"
          ]
        },
        {
          "data": {
            "text/html": [
              "<table>\n",
              "    <tr>\n",
              "        <th>nombre</th>\n",
              "        <th>salario</th>\n",
              "    </tr>\n",
              "    <tr>\n",
              "        <td>Sergio Reyes Gallardo</td>\n",
              "        <td>1000</td>\n",
              "    </tr>\n",
              "    <tr>\n",
              "        <td>Nil Soler Diez</td>\n",
              "        <td>1100</td>\n",
              "    </tr>\n",
              "    <tr>\n",
              "        <td>Lucas Serrano Caballero</td>\n",
              "        <td>1200</td>\n",
              "    </tr>\n",
              "    <tr>\n",
              "        <td>Pablo Pons Sanz</td>\n",
              "        <td>1350</td>\n",
              "    </tr>\n",
              "    <tr>\n",
              "        <td>Guillermo Vidal Gomez</td>\n",
              "        <td>1400</td>\n",
              "    </tr>\n",
              "    <tr>\n",
              "        <td>Andres Riera Herrera</td>\n",
              "        <td>1500</td>\n",
              "    </tr>\n",
              "    <tr>\n",
              "        <td>Daniel Quintero Quintero</td>\n",
              "        <td>1500</td>\n",
              "    </tr>\n",
              "    <tr>\n",
              "        <td>Juan Manuel Olivares</td>\n",
              "        <td>1500</td>\n",
              "    </tr>\n",
              "    <tr>\n",
              "        <td>Isaac Jimenez Ortiz</td>\n",
              "        <td>1600</td>\n",
              "    </tr>\n",
              "    <tr>\n",
              "        <td>Saul Moreno Santos</td>\n",
              "        <td>1600</td>\n",
              "    </tr>\n",
              "    <tr>\n",
              "        <td>Alejandro Fernandez</td>\n",
              "        <td>1850</td>\n",
              "    </tr>\n",
              "    <tr>\n",
              "        <td>Miguel Soto</td>\n",
              "        <td>1900</td>\n",
              "    </tr>\n",
              "</table>"
            ],
            "text/plain": [
              "[('Sergio Reyes Gallardo', 1000),\n",
              " ('Nil Soler Diez', 1100),\n",
              " ('Lucas Serrano Caballero', 1200),\n",
              " ('Pablo Pons Sanz', 1350),\n",
              " ('Guillermo Vidal Gomez', 1400),\n",
              " ('Andres Riera Herrera', 1500),\n",
              " ('Daniel Quintero Quintero', 1500),\n",
              " ('Juan Manuel Olivares', 1500),\n",
              " ('Isaac Jimenez Ortiz', 1600),\n",
              " ('Saul Moreno Santos', 1600),\n",
              " ('Alejandro Fernandez', 1850),\n",
              " ('Miguel Soto', 1900)]"
            ]
          },
          "execution_count": 4,
          "metadata": {},
          "output_type": "execute_result"
        }
      ]
    },
    {
      "cell_type": "markdown",
      "metadata": {
        "id": "bGfYkUdG1c0U"
      },
      "source": [
        "Además puede usarse el ordenar por campos de forma independiente, de forma ASCENDENTE mediante la clausula **ASC** y DESCENDENTE mediante la clausula **DESC**"
      ]
    },
    {
      "cell_type": "code",
      "metadata": {
        "id": "SySR79ct1c0V",
        "outputId": "d08520e5-bd20-49cc-abbb-21884d8322dc"
      },
      "source": [
        "%sql select nombre, salario FROM empleado ORDER BY salario DESC, nombre ASC;"
      ],
      "execution_count": null,
      "outputs": [
        {
          "name": "stdout",
          "output_type": "stream",
          "text": [
            " * sqlite:///love4pets.db\n",
            "Done.\n"
          ]
        },
        {
          "data": {
            "text/html": [
              "<table>\n",
              "    <tr>\n",
              "        <th>nombre</th>\n",
              "        <th>salario</th>\n",
              "    </tr>\n",
              "    <tr>\n",
              "        <td>Miguel Soto</td>\n",
              "        <td>1900</td>\n",
              "    </tr>\n",
              "    <tr>\n",
              "        <td>Alejandro Fernandez</td>\n",
              "        <td>1850</td>\n",
              "    </tr>\n",
              "    <tr>\n",
              "        <td>Isaac Jimenez Ortiz</td>\n",
              "        <td>1600</td>\n",
              "    </tr>\n",
              "    <tr>\n",
              "        <td>Saul Moreno Santos</td>\n",
              "        <td>1600</td>\n",
              "    </tr>\n",
              "    <tr>\n",
              "        <td>Andres Riera Herrera</td>\n",
              "        <td>1500</td>\n",
              "    </tr>\n",
              "    <tr>\n",
              "        <td>Daniel Quintero Quintero</td>\n",
              "        <td>1500</td>\n",
              "    </tr>\n",
              "    <tr>\n",
              "        <td>Juan Manuel Olivares</td>\n",
              "        <td>1500</td>\n",
              "    </tr>\n",
              "    <tr>\n",
              "        <td>Guillermo Vidal Gomez</td>\n",
              "        <td>1400</td>\n",
              "    </tr>\n",
              "    <tr>\n",
              "        <td>Pablo Pons Sanz</td>\n",
              "        <td>1350</td>\n",
              "    </tr>\n",
              "    <tr>\n",
              "        <td>Lucas Serrano Caballero</td>\n",
              "        <td>1200</td>\n",
              "    </tr>\n",
              "    <tr>\n",
              "        <td>Nil Soler Diez</td>\n",
              "        <td>1100</td>\n",
              "    </tr>\n",
              "    <tr>\n",
              "        <td>Sergio Reyes Gallardo</td>\n",
              "        <td>1000</td>\n",
              "    </tr>\n",
              "</table>"
            ],
            "text/plain": [
              "[('Miguel Soto', 1900),\n",
              " ('Alejandro Fernandez', 1850),\n",
              " ('Isaac Jimenez Ortiz', 1600),\n",
              " ('Saul Moreno Santos', 1600),\n",
              " ('Andres Riera Herrera', 1500),\n",
              " ('Daniel Quintero Quintero', 1500),\n",
              " ('Juan Manuel Olivares', 1500),\n",
              " ('Guillermo Vidal Gomez', 1400),\n",
              " ('Pablo Pons Sanz', 1350),\n",
              " ('Lucas Serrano Caballero', 1200),\n",
              " ('Nil Soler Diez', 1100),\n",
              " ('Sergio Reyes Gallardo', 1000)]"
            ]
          },
          "execution_count": 13,
          "metadata": {},
          "output_type": "execute_result"
        }
      ]
    },
    {
      "cell_type": "markdown",
      "metadata": {
        "id": "C-kI_WDU1c0V"
      },
      "source": [
        "La instrucción  **Limit** reduce la cantidad de filas de salida en el resultado al número indicado.\n",
        "Cuando usamos la instrucción LIMIT junto con el ORDER BY estamos tomando alguno de los extremos de la consulta, por ejemplo los 3 sueldos mas altos, o los 5 sueldos mas bajos.\n",
        "\n",
        "Veamos un par de ejemplos de esto:"
      ]
    },
    {
      "cell_type": "code",
      "metadata": {
        "id": "kw_DaVoM1c0V",
        "outputId": "4145c859-c750-49c0-e688-178a47c54cc5"
      },
      "source": [
        "%sql select nombre,salario FROM empleado ORDER BY salario DESC LIMIT 3;"
      ],
      "execution_count": null,
      "outputs": [
        {
          "name": "stdout",
          "output_type": "stream",
          "text": [
            " * sqlite:///love4pets.db\n",
            "Done.\n"
          ]
        },
        {
          "data": {
            "text/html": [
              "<table>\n",
              "    <tr>\n",
              "        <th>nombre</th>\n",
              "        <th>salario</th>\n",
              "    </tr>\n",
              "    <tr>\n",
              "        <td>Miguel Soto</td>\n",
              "        <td>1900</td>\n",
              "    </tr>\n",
              "    <tr>\n",
              "        <td>Alejandro Fernandez</td>\n",
              "        <td>1850</td>\n",
              "    </tr>\n",
              "    <tr>\n",
              "        <td>Saul Moreno Santos</td>\n",
              "        <td>1600</td>\n",
              "    </tr>\n",
              "</table>"
            ],
            "text/plain": [
              "[('Miguel Soto', 1900),\n",
              " ('Alejandro Fernandez', 1850),\n",
              " ('Saul Moreno Santos', 1600)]"
            ]
          },
          "execution_count": 14,
          "metadata": {},
          "output_type": "execute_result"
        }
      ]
    },
    {
      "cell_type": "code",
      "metadata": {
        "id": "YG5KhLDO1c0W",
        "outputId": "f5304888-2402-4308-cffc-5f9669b7ced1"
      },
      "source": [
        "%sql select nombre,salario FROM empleado ORDER BY salario ASC LIMIT 5;"
      ],
      "execution_count": null,
      "outputs": [
        {
          "name": "stdout",
          "output_type": "stream",
          "text": [
            " * sqlite:///love4pets.db\n",
            "Done.\n"
          ]
        },
        {
          "data": {
            "text/html": [
              "<table>\n",
              "    <tr>\n",
              "        <th>nombre</th>\n",
              "        <th>salario</th>\n",
              "    </tr>\n",
              "    <tr>\n",
              "        <td>Sergio Reyes Gallardo</td>\n",
              "        <td>1000</td>\n",
              "    </tr>\n",
              "    <tr>\n",
              "        <td>Nil Soler Diez</td>\n",
              "        <td>1100</td>\n",
              "    </tr>\n",
              "    <tr>\n",
              "        <td>Lucas Serrano Caballero</td>\n",
              "        <td>1200</td>\n",
              "    </tr>\n",
              "    <tr>\n",
              "        <td>Pablo Pons Sanz</td>\n",
              "        <td>1350</td>\n",
              "    </tr>\n",
              "    <tr>\n",
              "        <td>Guillermo Vidal Gomez</td>\n",
              "        <td>1400</td>\n",
              "    </tr>\n",
              "</table>"
            ],
            "text/plain": [
              "[('Sergio Reyes Gallardo', 1000),\n",
              " ('Nil Soler Diez', 1100),\n",
              " ('Lucas Serrano Caballero', 1200),\n",
              " ('Pablo Pons Sanz', 1350),\n",
              " ('Guillermo Vidal Gomez', 1400)]"
            ]
          },
          "execution_count": 15,
          "metadata": {},
          "output_type": "execute_result"
        }
      ]
    },
    {
      "cell_type": "markdown",
      "metadata": {
        "id": "l5CFXYbh1c0W"
      },
      "source": [
        "### Filtro sobre operación de selección, DISTINCT\n",
        "------\n",
        "La Instrucción DISTINCT omite en el resultado los campos que son iguales.\n",
        "\n",
        "Veamos un ejemplos:"
      ]
    },
    {
      "cell_type": "code",
      "metadata": {
        "id": "flmyFnBH1c0W",
        "outputId": "8188adb6-f9f8-4551-b6b2-180c1f6c4aca"
      },
      "source": [
        "%sql select DISTINCT salario FROM empleado ORDER BY salario DESC;"
      ],
      "execution_count": null,
      "outputs": [
        {
          "name": "stdout",
          "output_type": "stream",
          "text": [
            " * sqlite:///love4pets.db\n",
            "Done.\n"
          ]
        },
        {
          "data": {
            "text/html": [
              "<table>\n",
              "    <tr>\n",
              "        <th>salario</th>\n",
              "    </tr>\n",
              "    <tr>\n",
              "        <td>1900</td>\n",
              "    </tr>\n",
              "    <tr>\n",
              "        <td>1850</td>\n",
              "    </tr>\n",
              "    <tr>\n",
              "        <td>1600</td>\n",
              "    </tr>\n",
              "    <tr>\n",
              "        <td>1500</td>\n",
              "    </tr>\n",
              "    <tr>\n",
              "        <td>1400</td>\n",
              "    </tr>\n",
              "    <tr>\n",
              "        <td>1350</td>\n",
              "    </tr>\n",
              "    <tr>\n",
              "        <td>1200</td>\n",
              "    </tr>\n",
              "    <tr>\n",
              "        <td>1100</td>\n",
              "    </tr>\n",
              "    <tr>\n",
              "        <td>1000</td>\n",
              "    </tr>\n",
              "</table>"
            ],
            "text/plain": [
              "[(1900,),\n",
              " (1850,),\n",
              " (1600,),\n",
              " (1500,),\n",
              " (1400,),\n",
              " (1350,),\n",
              " (1200,),\n",
              " (1100,),\n",
              " (1000,)]"
            ]
          },
          "execution_count": 6,
          "metadata": {},
          "output_type": "execute_result"
        }
      ]
    },
    {
      "cell_type": "markdown",
      "metadata": {
        "id": "RRb1hXM21c0W"
      },
      "source": [
        "En el ejemplo anterior se muestran solamente los diferentes salarios, aún cuando 2 empleados tienen un sueldo de 1600 y otros 2 de 1500"
      ]
    },
    {
      "cell_type": "markdown",
      "metadata": {
        "id": "iqYV6E_j1c0W"
      },
      "source": [
        "### La Clausula **WHERE**:\n",
        "Se usa para indicar que se limita la selección a los campos que cumplan una determinada condición.\n",
        "\n",
        "```sql\n",
        "select campo1,campo2,...,campoN FROM Tabla WHERE condición;\n",
        "```\n",
        "\n",
        "#### Operadores usados en la clausula WHERE\n",
        "| Operador |  Descripción |\n",
        "|----------|--------------|\n",
        "| = |  igualdad |\n",
        "| <> |  Distinto uno de otro |\n",
        "| > |  Mayor que |\n",
        "| < |  Menor que |\n",
        "| =< |  Mayor o igual que |\n",
        "| <= |  Menor o igual que |\n",
        "| Between |  Entre un cierto rango |\n",
        "| LIKE |  Cumple una estructura dada |\n",
        "| IN |  Permite comparar con multiples valores |\n",
        "\n",
        "Veamos algunos ejemplos de la clausula WHERE:"
      ]
    },
    {
      "cell_type": "code",
      "metadata": {
        "id": "uzi_YJfe1c0X",
        "outputId": "74210aaf-e8d0-456d-f728-9a6994bb370c"
      },
      "source": [
        "%sql select nombre, salario FROM empleado WHERE salario > 1500;"
      ],
      "execution_count": null,
      "outputs": [
        {
          "name": "stdout",
          "output_type": "stream",
          "text": [
            " * sqlite:///love4pets.db\n",
            "Done.\n"
          ]
        },
        {
          "data": {
            "text/html": [
              "<table>\n",
              "    <tr>\n",
              "        <th>nombre</th>\n",
              "        <th>salario</th>\n",
              "    </tr>\n",
              "    <tr>\n",
              "        <td>Saul Moreno Santos</td>\n",
              "        <td>1600</td>\n",
              "    </tr>\n",
              "    <tr>\n",
              "        <td>Isaac Jimenez Ortiz</td>\n",
              "        <td>1600</td>\n",
              "    </tr>\n",
              "    <tr>\n",
              "        <td>Miguel Soto</td>\n",
              "        <td>1900</td>\n",
              "    </tr>\n",
              "    <tr>\n",
              "        <td>Alejandro Fernandez</td>\n",
              "        <td>1850</td>\n",
              "    </tr>\n",
              "</table>"
            ],
            "text/plain": [
              "[('Saul Moreno Santos', 1600),\n",
              " ('Isaac Jimenez Ortiz', 1600),\n",
              " ('Miguel Soto', 1900),\n",
              " ('Alejandro Fernandez', 1850)]"
            ]
          },
          "execution_count": 17,
          "metadata": {},
          "output_type": "execute_result"
        }
      ]
    },
    {
      "cell_type": "code",
      "metadata": {
        "id": "bE_0FVFg1c0X",
        "outputId": "5e1c0e93-e65b-4ca1-f400-371ec9b18d01"
      },
      "source": [
        "%sql select nombre, salario FROM empleado WHERE salario = 1350;"
      ],
      "execution_count": null,
      "outputs": [
        {
          "name": "stdout",
          "output_type": "stream",
          "text": [
            " * sqlite:///love4pets.db\n",
            "Done.\n"
          ]
        },
        {
          "data": {
            "text/html": [
              "<table>\n",
              "    <tr>\n",
              "        <th>nombre</th>\n",
              "        <th>salario</th>\n",
              "    </tr>\n",
              "    <tr>\n",
              "        <td>Pablo Pons Sanz</td>\n",
              "        <td>1350</td>\n",
              "    </tr>\n",
              "</table>"
            ],
            "text/plain": [
              "[('Pablo Pons Sanz', 1350)]"
            ]
          },
          "execution_count": 18,
          "metadata": {},
          "output_type": "execute_result"
        }
      ]
    },
    {
      "cell_type": "code",
      "metadata": {
        "id": "WCGG6-jD1c0X",
        "outputId": "fbab4a94-7d54-4824-9824-334ba7463161"
      },
      "source": [
        "%sql select nombre, salario FROM empleado WHERE ( salario >= 1400 AND salario <= 1600 );"
      ],
      "execution_count": null,
      "outputs": [
        {
          "name": "stdout",
          "output_type": "stream",
          "text": [
            " * sqlite:///love4pets.db\n",
            "Done.\n"
          ]
        },
        {
          "data": {
            "text/html": [
              "<table>\n",
              "    <tr>\n",
              "        <th>nombre</th>\n",
              "        <th>salario</th>\n",
              "    </tr>\n",
              "    <tr>\n",
              "        <td>Andres Riera Herrera</td>\n",
              "        <td>1500</td>\n",
              "    </tr>\n",
              "    <tr>\n",
              "        <td>Saul Moreno Santos</td>\n",
              "        <td>1600</td>\n",
              "    </tr>\n",
              "    <tr>\n",
              "        <td>Isaac Jimenez Ortiz</td>\n",
              "        <td>1600</td>\n",
              "    </tr>\n",
              "    <tr>\n",
              "        <td>Guillermo Vidal Gomez</td>\n",
              "        <td>1400</td>\n",
              "    </tr>\n",
              "    <tr>\n",
              "        <td>Daniel Quintero Quintero</td>\n",
              "        <td>1500</td>\n",
              "    </tr>\n",
              "    <tr>\n",
              "        <td>Juan Manuel Olivares</td>\n",
              "        <td>1500</td>\n",
              "    </tr>\n",
              "</table>"
            ],
            "text/plain": [
              "[('Andres Riera Herrera', 1500),\n",
              " ('Saul Moreno Santos', 1600),\n",
              " ('Isaac Jimenez Ortiz', 1600),\n",
              " ('Guillermo Vidal Gomez', 1400),\n",
              " ('Daniel Quintero Quintero', 1500),\n",
              " ('Juan Manuel Olivares', 1500)]"
            ]
          },
          "execution_count": 19,
          "metadata": {},
          "output_type": "execute_result"
        }
      ]
    },
    {
      "cell_type": "markdown",
      "metadata": {
        "id": "PKw2gLDu1c0X"
      },
      "source": [
        "<div style=\"background-color: #81F781\">\n",
        " <h1> Ejercicio 2. </h1><br>\n",
        "    Con el propósito actualizar la información de los clientes se quiere contactar a aquellos clientes que no tienen asociada una persona de contacto, para esto se pide que muestre de la tabla \"cliente\" los campos \"nombre\" y \"telefono\" de los clientes que no tienen un contacto registrado.\n",
        " <br><br>\n",
        "</div>"
      ]
    },
    {
      "cell_type": "code",
      "metadata": {
        "id": "Zk2yVdCu1c0X",
        "outputId": "67d36aeb-686c-48f3-9e81-476f769119be"
      },
      "source": [
        "%sql select nombre, telefono, contacto from cliente WHERE contacto='';"
      ],
      "execution_count": null,
      "outputs": [
        {
          "name": "stdout",
          "output_type": "stream",
          "text": [
            " * sqlite:///love4pets.db\n",
            "Done.\n"
          ]
        },
        {
          "data": {
            "text/html": [
              "<table>\n",
              "    <tr>\n",
              "        <th>nombre</th>\n",
              "        <th>telefono</th>\n",
              "        <th>contacto</th>\n",
              "    </tr>\n",
              "    <tr>\n",
              "        <td>Arnau Medina Garcia</td>\n",
              "        <td>094-10-88</td>\n",
              "        <td></td>\n",
              "    </tr>\n",
              "    <tr>\n",
              "        <td>Jan Vargas Santana</td>\n",
              "        <td>780-65-24</td>\n",
              "        <td></td>\n",
              "    </tr>\n",
              "    <tr>\n",
              "        <td>Pol Moya Pena</td>\n",
              "        <td>780-25-24</td>\n",
              "        <td></td>\n",
              "    </tr>\n",
              "</table>"
            ],
            "text/plain": [
              "[('Arnau Medina Garcia', '094-10-88', ''),\n",
              " ('Jan Vargas Santana', '780-65-24', ''),\n",
              " ('Pol Moya Pena', '780-25-24', '')]"
            ]
          },
          "execution_count": 25,
          "metadata": {},
          "output_type": "execute_result"
        }
      ]
    },
    {
      "cell_type": "code",
      "metadata": {
        "id": "apG-fo4z1c0Y",
        "outputId": "5e8c61a9-5d11-402c-de44-23b5d58003cc"
      },
      "source": [
        "%sql PRAGMA table_info(cliente);"
      ],
      "execution_count": null,
      "outputs": [
        {
          "name": "stdout",
          "output_type": "stream",
          "text": [
            " * sqlite:///love4pets.db\n",
            "Done.\n"
          ]
        },
        {
          "data": {
            "text/html": [
              "<table>\n",
              "    <tr>\n",
              "        <th>cid</th>\n",
              "        <th>name</th>\n",
              "        <th>type</th>\n",
              "        <th>notnull</th>\n",
              "        <th>dflt_value</th>\n",
              "        <th>pk</th>\n",
              "    </tr>\n",
              "    <tr>\n",
              "        <td>0</td>\n",
              "        <td>cliente_id</td>\n",
              "        <td>INTEGER</td>\n",
              "        <td>1</td>\n",
              "        <td>None</td>\n",
              "        <td>1</td>\n",
              "    </tr>\n",
              "    <tr>\n",
              "        <td>1</td>\n",
              "        <td>nombre</td>\n",
              "        <td>TEXT</td>\n",
              "        <td>1</td>\n",
              "        <td>None</td>\n",
              "        <td>0</td>\n",
              "    </tr>\n",
              "    <tr>\n",
              "        <td>2</td>\n",
              "        <td>email</td>\n",
              "        <td>TEXT</td>\n",
              "        <td>0</td>\n",
              "        <td>None</td>\n",
              "        <td>0</td>\n",
              "    </tr>\n",
              "    <tr>\n",
              "        <td>3</td>\n",
              "        <td>telefono</td>\n",
              "        <td>TEXT</td>\n",
              "        <td>1</td>\n",
              "        <td>None</td>\n",
              "        <td>0</td>\n",
              "    </tr>\n",
              "    <tr>\n",
              "        <td>4</td>\n",
              "        <td>contacto</td>\n",
              "        <td>TEXT</td>\n",
              "        <td>0</td>\n",
              "        <td>None</td>\n",
              "        <td>0</td>\n",
              "    </tr>\n",
              "    <tr>\n",
              "        <td>5</td>\n",
              "        <td>telefono_contacto</td>\n",
              "        <td>TEXT</td>\n",
              "        <td>0</td>\n",
              "        <td>None</td>\n",
              "        <td>0</td>\n",
              "    </tr>\n",
              "    <tr>\n",
              "        <td>6</td>\n",
              "        <td>ciudad</td>\n",
              "        <td>TEXT</td>\n",
              "        <td>1</td>\n",
              "        <td>None</td>\n",
              "        <td>0</td>\n",
              "    </tr>\n",
              "</table>"
            ],
            "text/plain": [
              "[(0, 'cliente_id', 'INTEGER', 1, None, 1),\n",
              " (1, 'nombre', 'TEXT', 1, None, 0),\n",
              " (2, 'email', 'TEXT', 0, None, 0),\n",
              " (3, 'telefono', 'TEXT', 1, None, 0),\n",
              " (4, 'contacto', 'TEXT', 0, None, 0),\n",
              " (5, 'telefono_contacto', 'TEXT', 0, None, 0),\n",
              " (6, 'ciudad', 'TEXT', 1, None, 0)]"
            ]
          },
          "execution_count": 10,
          "metadata": {},
          "output_type": "execute_result"
        }
      ]
    },
    {
      "cell_type": "code",
      "metadata": {
        "id": "m-UUEkuX1c0Y",
        "outputId": "52c429e7-eaf3-4800-f09f-e84a220bb9d9"
      },
      "source": [
        "%sql select nombre, telefono, contacto from cliente;"
      ],
      "execution_count": null,
      "outputs": [
        {
          "name": "stdout",
          "output_type": "stream",
          "text": [
            " * sqlite:///love4pets.db\n",
            "Done.\n"
          ]
        },
        {
          "data": {
            "text/html": [
              "<table>\n",
              "    <tr>\n",
              "        <th>nombre</th>\n",
              "        <th>telefono</th>\n",
              "        <th>contacto</th>\n",
              "    </tr>\n",
              "    <tr>\n",
              "        <td>Mario Flores Gallardo</td>\n",
              "        <td>036-15-36</td>\n",
              "        <td>Aintzane Alvarez Iglesias</td>\n",
              "    </tr>\n",
              "    <tr>\n",
              "        <td>Arnau Medina Garcia</td>\n",
              "        <td>094-10-88</td>\n",
              "        <td></td>\n",
              "    </tr>\n",
              "    <tr>\n",
              "        <td>Ivan Medina Rubio</td>\n",
              "        <td>083-08-72</td>\n",
              "        <td>Javier Domenech</td>\n",
              "    </tr>\n",
              "    <tr>\n",
              "        <td>Jan Vargas Santana</td>\n",
              "        <td>780-65-24</td>\n",
              "        <td></td>\n",
              "    </tr>\n",
              "    <tr>\n",
              "        <td>Carlos Costa Guerrero</td>\n",
              "        <td>180-65-24</td>\n",
              "        <td>Cristian Jimenez</td>\n",
              "    </tr>\n",
              "    <tr>\n",
              "        <td>Roberto Martin Ortega</td>\n",
              "        <td>742-63-27</td>\n",
              "        <td>Jorge Vila Gallardo</td>\n",
              "    </tr>\n",
              "    <tr>\n",
              "        <td>Gabriel Gonzalez Ortega</td>\n",
              "        <td>780-13-14</td>\n",
              "        <td>Miguel Bosch Parra</td>\n",
              "    </tr>\n",
              "    <tr>\n",
              "        <td>Rayan Leon Ferrer</td>\n",
              "        <td>430-65-24</td>\n",
              "        <td>Santiago Perez Ramos</td>\n",
              "    </tr>\n",
              "    <tr>\n",
              "        <td>Aitor Ruiz Sanchez</td>\n",
              "        <td>780-77-24</td>\n",
              "        <td>Gabriel Gonzalez Ortega</td>\n",
              "    </tr>\n",
              "    <tr>\n",
              "        <td>Eric Rubio Carrasco</td>\n",
              "        <td>780-65-79</td>\n",
              "        <td>Cristian Jimenez Martinez</td>\n",
              "    </tr>\n",
              "    <tr>\n",
              "        <td>Alberto Sanz Ruiz</td>\n",
              "        <td>781-15-24</td>\n",
              "        <td>Gabriel Gonzalez Ortega</td>\n",
              "    </tr>\n",
              "    <tr>\n",
              "        <td>Jesus Medina Hernandez</td>\n",
              "        <td>782-35-25</td>\n",
              "        <td>Vctor Gonzalez Castillo</td>\n",
              "    </tr>\n",
              "    <tr>\n",
              "        <td>Pol Moya Pena</td>\n",
              "        <td>780-25-24</td>\n",
              "        <td></td>\n",
              "    </tr>\n",
              "    <tr>\n",
              "        <td>Jose Gallardo Rodriguez</td>\n",
              "        <td>783-65-11</td>\n",
              "        <td>Hector Martin Morales</td>\n",
              "    </tr>\n",
              "    <tr>\n",
              "        <td>Manuel Angel Gil</td>\n",
              "        <td>733-65-16</td>\n",
              "        <td>Hector Navarro</td>\n",
              "    </tr>\n",
              "</table>"
            ],
            "text/plain": [
              "[('Mario Flores Gallardo', '036-15-36', 'Aintzane Alvarez Iglesias'),\n",
              " ('Arnau Medina Garcia', '094-10-88', ''),\n",
              " ('Ivan Medina Rubio', '083-08-72', 'Javier Domenech'),\n",
              " ('Jan Vargas Santana', '780-65-24', ''),\n",
              " ('Carlos Costa Guerrero', '180-65-24', 'Cristian Jimenez'),\n",
              " ('Roberto Martin Ortega', '742-63-27', 'Jorge Vila Gallardo'),\n",
              " ('Gabriel Gonzalez Ortega', '780-13-14', 'Miguel Bosch Parra'),\n",
              " ('Rayan Leon Ferrer', '430-65-24', 'Santiago Perez Ramos'),\n",
              " ('Aitor Ruiz Sanchez', '780-77-24', 'Gabriel Gonzalez Ortega'),\n",
              " ('Eric Rubio Carrasco', '780-65-79', 'Cristian Jimenez Martinez'),\n",
              " ('Alberto Sanz Ruiz', '781-15-24', 'Gabriel Gonzalez Ortega'),\n",
              " ('Jesus Medina Hernandez', '782-35-25', 'Vctor Gonzalez Castillo'),\n",
              " ('Pol Moya Pena', '780-25-24', ''),\n",
              " ('Jose Gallardo Rodriguez', '783-65-11', 'Hector Martin Morales'),\n",
              " ('Manuel Angel Gil', '733-65-16', 'Hector Navarro')]"
            ]
          },
          "execution_count": 24,
          "metadata": {},
          "output_type": "execute_result"
        }
      ]
    },
    {
      "cell_type": "markdown",
      "metadata": {
        "id": "XeT_RoOX1c0Y"
      },
      "source": [
        "### EL operador BETWEEN\n",
        "Esta última instrucción puede escribirse de otra forma usando el operador **BETWEEN**, este operador es usado cuando queremos indicar que deseamos recuperar los registros según un intervalo de valores dado sobre un campo."
      ]
    },
    {
      "cell_type": "code",
      "metadata": {
        "id": "Zfni4Njb1c0Y",
        "outputId": "89cb5713-ae9c-4bb7-950a-70c0fe86f529"
      },
      "source": [
        "%sql select nombre, salario FROM empleado WHERE salario Between 1400 AND 1600"
      ],
      "execution_count": null,
      "outputs": [
        {
          "name": "stdout",
          "output_type": "stream",
          "text": [
            " * sqlite:///love4pets.db\n",
            "Done.\n"
          ]
        },
        {
          "data": {
            "text/html": [
              "<table>\n",
              "    <tr>\n",
              "        <th>nombre</th>\n",
              "        <th>salario</th>\n",
              "    </tr>\n",
              "    <tr>\n",
              "        <td>Andres Riera Herrera</td>\n",
              "        <td>1500</td>\n",
              "    </tr>\n",
              "    <tr>\n",
              "        <td>Saul Moreno Santos</td>\n",
              "        <td>1600</td>\n",
              "    </tr>\n",
              "    <tr>\n",
              "        <td>Isaac Jimenez Ortiz</td>\n",
              "        <td>1600</td>\n",
              "    </tr>\n",
              "    <tr>\n",
              "        <td>Guillermo Vidal Gomez</td>\n",
              "        <td>1400</td>\n",
              "    </tr>\n",
              "    <tr>\n",
              "        <td>Daniel Quintero Quintero</td>\n",
              "        <td>1500</td>\n",
              "    </tr>\n",
              "    <tr>\n",
              "        <td>Juan Manuel Olivares</td>\n",
              "        <td>1500</td>\n",
              "    </tr>\n",
              "</table>"
            ],
            "text/plain": [
              "[('Andres Riera Herrera', 1500),\n",
              " ('Saul Moreno Santos', 1600),\n",
              " ('Isaac Jimenez Ortiz', 1600),\n",
              " ('Guillermo Vidal Gomez', 1400),\n",
              " ('Daniel Quintero Quintero', 1500),\n",
              " ('Juan Manuel Olivares', 1500)]"
            ]
          },
          "execution_count": 20,
          "metadata": {},
          "output_type": "execute_result"
        }
      ]
    },
    {
      "cell_type": "markdown",
      "metadata": {
        "id": "YI9DmbaW1c0Z"
      },
      "source": [
        "### EL operador Like\n",
        "Este operador es usado cuando se filtra la consulta con algún modelo o patrón sobre una columna.\n",
        "Este operador se combina con simbolos \"%\" y \"_\":\n",
        "* % Representa cero o mas caracteres a ser reemplazados en el patron por otros.\n",
        "* _ Representa un único caracter.\n",
        "\n",
        "Veamos algúnos ejemplos:"
      ]
    },
    {
      "cell_type": "code",
      "metadata": {
        "id": "JHZDPWvK1c0Z",
        "outputId": "3676d0cf-16ae-4cdc-c9d6-26dc483d81b0"
      },
      "source": [
        "%sql select * FROM cliente WHERE nombre LIKE '%Medina%';"
      ],
      "execution_count": null,
      "outputs": [
        {
          "name": "stdout",
          "output_type": "stream",
          "text": [
            " * sqlite:///love4pets.db\n",
            "Done.\n"
          ]
        },
        {
          "data": {
            "text/html": [
              "<table>\n",
              "    <tr>\n",
              "        <th>cliente_id</th>\n",
              "        <th>nombre</th>\n",
              "        <th>email</th>\n",
              "        <th>telefono</th>\n",
              "        <th>contacto</th>\n",
              "        <th>telefono_contacto</th>\n",
              "        <th>ciudad</th>\n",
              "    </tr>\n",
              "    <tr>\n",
              "        <td>2</td>\n",
              "        <td>Arnau Medina Garcia</td>\n",
              "        <td>arnaumedina@gmail.com</td>\n",
              "        <td>094-10-88</td>\n",
              "        <td></td>\n",
              "        <td></td>\n",
              "        <td>Madrid</td>\n",
              "    </tr>\n",
              "    <tr>\n",
              "        <td>3</td>\n",
              "        <td>Ivan Medina Rubio</td>\n",
              "        <td>ivanmedina@gmail.com</td>\n",
              "        <td>083-08-72</td>\n",
              "        <td>Javier Domenech</td>\n",
              "        <td>488-48-46</td>\n",
              "        <td>Toledo</td>\n",
              "    </tr>\n",
              "    <tr>\n",
              "        <td>12</td>\n",
              "        <td>Jesus Medina Hernandez</td>\n",
              "        <td>jmedinah@gmail.com</td>\n",
              "        <td>782-35-25</td>\n",
              "        <td>Vctor Gonzalez Castillo</td>\n",
              "        <td>661-85-12</td>\n",
              "        <td>Madrid</td>\n",
              "    </tr>\n",
              "</table>"
            ],
            "text/plain": [
              "[(2, 'Arnau Medina Garcia', 'arnaumedina@gmail.com', '094-10-88', '', '', 'Madrid'),\n",
              " (3, 'Ivan Medina Rubio', 'ivanmedina@gmail.com', '083-08-72', 'Javier Domenech', '488-48-46', 'Toledo'),\n",
              " (12, 'Jesus Medina Hernandez', 'jmedinah@gmail.com', '782-35-25', 'Vctor Gonzalez Castillo', '661-85-12', 'Madrid')]"
            ]
          },
          "execution_count": 27,
          "metadata": {},
          "output_type": "execute_result"
        }
      ]
    },
    {
      "cell_type": "markdown",
      "metadata": {
        "id": "TtE2lkoY1c0Z"
      },
      "source": [
        "La instrucción anterior busca todos los clientes cuyo nombre contiene la secuencia de caracteres \"Medina\" en alguna posición."
      ]
    },
    {
      "cell_type": "code",
      "metadata": {
        "id": "GoCZAnZv1c0Z",
        "outputId": "b5d9604a-1e7b-4c74-eb18-7f6071abaec8"
      },
      "source": [
        "%sql select * FROM cliente WHERE email LIKE '%@gmail.com';"
      ],
      "execution_count": null,
      "outputs": [
        {
          "name": "stdout",
          "output_type": "stream",
          "text": [
            " * sqlite:///love4pets.db\n",
            "Done.\n"
          ]
        },
        {
          "data": {
            "text/html": [
              "<table>\n",
              "    <tr>\n",
              "        <th>cliente_id</th>\n",
              "        <th>nombre</th>\n",
              "        <th>email</th>\n",
              "        <th>telefono</th>\n",
              "        <th>contacto</th>\n",
              "        <th>telefono_contacto</th>\n",
              "        <th>ciudad</th>\n",
              "    </tr>\n",
              "    <tr>\n",
              "        <td>1</td>\n",
              "        <td>Mario Flores Gallardo</td>\n",
              "        <td>marioflores@gmail.com</td>\n",
              "        <td>036-15-36</td>\n",
              "        <td>Aintzane Alvarez Iglesias</td>\n",
              "        <td>210-35-57</td>\n",
              "        <td>Madrid</td>\n",
              "    </tr>\n",
              "    <tr>\n",
              "        <td>2</td>\n",
              "        <td>Arnau Medina Garcia</td>\n",
              "        <td>arnaumedina@gmail.com</td>\n",
              "        <td>094-10-88</td>\n",
              "        <td></td>\n",
              "        <td></td>\n",
              "        <td>Madrid</td>\n",
              "    </tr>\n",
              "    <tr>\n",
              "        <td>3</td>\n",
              "        <td>Ivan Medina Rubio</td>\n",
              "        <td>ivanmedina@gmail.com</td>\n",
              "        <td>083-08-72</td>\n",
              "        <td>Javier Domenech</td>\n",
              "        <td>488-48-46</td>\n",
              "        <td>Toledo</td>\n",
              "    </tr>\n",
              "    <tr>\n",
              "        <td>4</td>\n",
              "        <td>Jan Vargas Santana</td>\n",
              "        <td>vargasjan@gmail.com</td>\n",
              "        <td>780-65-24</td>\n",
              "        <td></td>\n",
              "        <td></td>\n",
              "        <td>Madrid</td>\n",
              "    </tr>\n",
              "    <tr>\n",
              "        <td>5</td>\n",
              "        <td>Carlos Costa Guerrero</td>\n",
              "        <td>carloscostag@gmail.com</td>\n",
              "        <td>180-65-24</td>\n",
              "        <td>Cristian Jimenez</td>\n",
              "        <td>801-28-09</td>\n",
              "        <td>Madrid</td>\n",
              "    </tr>\n",
              "    <tr>\n",
              "        <td>6</td>\n",
              "        <td>Roberto Martin Ortega</td>\n",
              "        <td>robertmartin@gmail.com</td>\n",
              "        <td>742-63-27</td>\n",
              "        <td>Jorge Vila Gallardo</td>\n",
              "        <td>564-52-13</td>\n",
              "        <td>Madrid</td>\n",
              "    </tr>\n",
              "    <tr>\n",
              "        <td>7</td>\n",
              "        <td>Gabriel Gonzalez Ortega</td>\n",
              "        <td>gabogonzo@gmail.com</td>\n",
              "        <td>780-13-14</td>\n",
              "        <td>Miguel Bosch Parra</td>\n",
              "        <td>882-17-20</td>\n",
              "        <td>Madrid</td>\n",
              "    </tr>\n",
              "    <tr>\n",
              "        <td>8</td>\n",
              "        <td>Rayan Leon Ferrer</td>\n",
              "        <td>rayito@gmail.com</td>\n",
              "        <td>430-65-24</td>\n",
              "        <td>Santiago Perez Ramos</td>\n",
              "        <td>577-21-24</td>\n",
              "        <td>Madrid</td>\n",
              "    </tr>\n",
              "    <tr>\n",
              "        <td>9</td>\n",
              "        <td>Aitor Ruiz Sanchez</td>\n",
              "        <td>aitorsanchez@gmail.com</td>\n",
              "        <td>780-77-24</td>\n",
              "        <td>Gabriel Gonzalez Ortega</td>\n",
              "        <td>784-96-31</td>\n",
              "        <td>Madrid</td>\n",
              "    </tr>\n",
              "    <tr>\n",
              "        <td>10</td>\n",
              "        <td>Eric Rubio Carrasco</td>\n",
              "        <td>ericrubio@gmail.com</td>\n",
              "        <td>780-65-79</td>\n",
              "        <td>Cristian Jimenez Martinez</td>\n",
              "        <td>147-01-12</td>\n",
              "        <td>Madrid</td>\n",
              "    </tr>\n",
              "    <tr>\n",
              "        <td>11</td>\n",
              "        <td>Alberto Sanz Ruiz</td>\n",
              "        <td>albert@gmail.com</td>\n",
              "        <td>781-15-24</td>\n",
              "        <td>Gabriel Gonzalez Ortega</td>\n",
              "        <td>028-51-21</td>\n",
              "        <td>Madrid</td>\n",
              "    </tr>\n",
              "    <tr>\n",
              "        <td>12</td>\n",
              "        <td>Jesus Medina Hernandez</td>\n",
              "        <td>jmedinah@gmail.com</td>\n",
              "        <td>782-35-25</td>\n",
              "        <td>Vctor Gonzalez Castillo</td>\n",
              "        <td>661-85-12</td>\n",
              "        <td>Madrid</td>\n",
              "    </tr>\n",
              "    <tr>\n",
              "        <td>13</td>\n",
              "        <td>Pol Moya Pena</td>\n",
              "        <td>polmoya@gmail.com</td>\n",
              "        <td>780-25-24</td>\n",
              "        <td></td>\n",
              "        <td></td>\n",
              "        <td>Toledo</td>\n",
              "    </tr>\n",
              "    <tr>\n",
              "        <td>14</td>\n",
              "        <td>Jose Gallardo Rodriguez</td>\n",
              "        <td>josegallardo@gmail.com</td>\n",
              "        <td>783-65-11</td>\n",
              "        <td>Hector Martin Morales</td>\n",
              "        <td>867-97-99</td>\n",
              "        <td>Madrid</td>\n",
              "    </tr>\n",
              "    <tr>\n",
              "        <td>15</td>\n",
              "        <td>Manuel Angel Gil</td>\n",
              "        <td>manano@gmail.com</td>\n",
              "        <td>733-65-16</td>\n",
              "        <td>Hector Navarro</td>\n",
              "        <td>067-97-91</td>\n",
              "        <td>Madrid</td>\n",
              "    </tr>\n",
              "</table>"
            ],
            "text/plain": [
              "[(1, 'Mario Flores Gallardo', 'marioflores@gmail.com', '036-15-36', 'Aintzane Alvarez Iglesias', '210-35-57', 'Madrid'),\n",
              " (2, 'Arnau Medina Garcia', 'arnaumedina@gmail.com', '094-10-88', '', '', 'Madrid'),\n",
              " (3, 'Ivan Medina Rubio', 'ivanmedina@gmail.com', '083-08-72', 'Javier Domenech', '488-48-46', 'Toledo'),\n",
              " (4, 'Jan Vargas Santana', 'vargasjan@gmail.com', '780-65-24', '', '', 'Madrid'),\n",
              " (5, 'Carlos Costa Guerrero', 'carloscostag@gmail.com', '180-65-24', 'Cristian Jimenez', '801-28-09', 'Madrid'),\n",
              " (6, 'Roberto Martin Ortega', 'robertmartin@gmail.com', '742-63-27', 'Jorge Vila Gallardo', '564-52-13', 'Madrid'),\n",
              " (7, 'Gabriel Gonzalez Ortega', 'gabogonzo@gmail.com', '780-13-14', 'Miguel Bosch Parra', '882-17-20', 'Madrid'),\n",
              " (8, 'Rayan Leon Ferrer', 'rayito@gmail.com', '430-65-24', 'Santiago Perez Ramos', '577-21-24', 'Madrid'),\n",
              " (9, 'Aitor Ruiz Sanchez', 'aitorsanchez@gmail.com', '780-77-24', 'Gabriel Gonzalez Ortega', '784-96-31', 'Madrid'),\n",
              " (10, 'Eric Rubio Carrasco', 'ericrubio@gmail.com', '780-65-79', 'Cristian Jimenez Martinez', '147-01-12', 'Madrid'),\n",
              " (11, 'Alberto Sanz Ruiz', 'albert@gmail.com', '781-15-24', 'Gabriel Gonzalez Ortega', '028-51-21', 'Madrid'),\n",
              " (12, 'Jesus Medina Hernandez', 'jmedinah@gmail.com', '782-35-25', 'Vctor Gonzalez Castillo', '661-85-12', 'Madrid'),\n",
              " (13, 'Pol Moya Pena', 'polmoya@gmail.com', '780-25-24', '', '', 'Toledo'),\n",
              " (14, 'Jose Gallardo Rodriguez', 'josegallardo@gmail.com', '783-65-11', 'Hector Martin Morales', '867-97-99', 'Madrid'),\n",
              " (15, 'Manuel Angel Gil', 'manano@gmail.com', '733-65-16', 'Hector Navarro', '067-97-91', 'Madrid')]"
            ]
          },
          "execution_count": 28,
          "metadata": {},
          "output_type": "execute_result"
        }
      ]
    },
    {
      "cell_type": "markdown",
      "metadata": {
        "id": "J5suqA7T1c0Z"
      },
      "source": [
        "EL comando anterior busca los clientes que tienen un correo que termine en \"@gmail.com\".\n",
        "\n",
        "**Veamos a consultar todos los clientes cuyo número telefónico comience por \"780\"**"
      ]
    },
    {
      "cell_type": "code",
      "metadata": {
        "id": "IZxbteAk1c0a",
        "outputId": "c561dc3b-bd16-4158-8c12-41e914f9a0d9"
      },
      "source": [
        "%sql select * FROM cliente WHERE telefono LIKE '780-%';"
      ],
      "execution_count": null,
      "outputs": [
        {
          "name": "stdout",
          "output_type": "stream",
          "text": [
            " * sqlite:///love4pets.db\n",
            "Done.\n"
          ]
        },
        {
          "data": {
            "text/html": [
              "<table>\n",
              "    <tr>\n",
              "        <th>cliente_id</th>\n",
              "        <th>nombre</th>\n",
              "        <th>email</th>\n",
              "        <th>telefono</th>\n",
              "        <th>contacto</th>\n",
              "        <th>telefono_contacto</th>\n",
              "        <th>ciudad</th>\n",
              "    </tr>\n",
              "    <tr>\n",
              "        <td>4</td>\n",
              "        <td>Jan Vargas Santana</td>\n",
              "        <td>vargasjan@gmail.com</td>\n",
              "        <td>780-65-24</td>\n",
              "        <td></td>\n",
              "        <td></td>\n",
              "        <td>Madrid</td>\n",
              "    </tr>\n",
              "    <tr>\n",
              "        <td>7</td>\n",
              "        <td>Gabriel Gonzalez Ortega</td>\n",
              "        <td>gabogonzo@gmail.com</td>\n",
              "        <td>780-13-14</td>\n",
              "        <td>Miguel Bosch Parra</td>\n",
              "        <td>882-17-20</td>\n",
              "        <td>Madrid</td>\n",
              "    </tr>\n",
              "    <tr>\n",
              "        <td>9</td>\n",
              "        <td>Aitor Ruiz Sanchez</td>\n",
              "        <td>aitorsanchez@gmail.com</td>\n",
              "        <td>780-77-24</td>\n",
              "        <td>Gabriel Gonzalez Ortega</td>\n",
              "        <td>784-96-31</td>\n",
              "        <td>Madrid</td>\n",
              "    </tr>\n",
              "    <tr>\n",
              "        <td>10</td>\n",
              "        <td>Eric Rubio Carrasco</td>\n",
              "        <td>ericrubio@gmail.com</td>\n",
              "        <td>780-65-79</td>\n",
              "        <td>Cristian Jimenez Martinez</td>\n",
              "        <td>147-01-12</td>\n",
              "        <td>Madrid</td>\n",
              "    </tr>\n",
              "    <tr>\n",
              "        <td>13</td>\n",
              "        <td>Pol Moya Pena</td>\n",
              "        <td>polmoya@gmail.com</td>\n",
              "        <td>780-25-24</td>\n",
              "        <td></td>\n",
              "        <td></td>\n",
              "        <td>Toledo</td>\n",
              "    </tr>\n",
              "</table>"
            ],
            "text/plain": [
              "[(4, 'Jan Vargas Santana', 'vargasjan@gmail.com', '780-65-24', '', '', 'Madrid'),\n",
              " (7, 'Gabriel Gonzalez Ortega', 'gabogonzo@gmail.com', '780-13-14', 'Miguel Bosch Parra', '882-17-20', 'Madrid'),\n",
              " (9, 'Aitor Ruiz Sanchez', 'aitorsanchez@gmail.com', '780-77-24', 'Gabriel Gonzalez Ortega', '784-96-31', 'Madrid'),\n",
              " (10, 'Eric Rubio Carrasco', 'ericrubio@gmail.com', '780-65-79', 'Cristian Jimenez Martinez', '147-01-12', 'Madrid'),\n",
              " (13, 'Pol Moya Pena', 'polmoya@gmail.com', '780-25-24', '', '', 'Toledo')]"
            ]
          },
          "execution_count": 29,
          "metadata": {},
          "output_type": "execute_result"
        }
      ]
    },
    {
      "cell_type": "markdown",
      "metadata": {
        "id": "TAwdFb4w1c0a"
      },
      "source": [
        "<div style=\"background-color: #81F781\">\n",
        " <h1> Ejercicio 3. </h1><br>\n",
        "   Un empleado de la empresa Love4Pets se dió cuenta que un cliente dejó por accidente su celular, el empleado recuerda que alguno de sus apellidos era \"Leon\".\n",
        "   \n",
        "   Se quiere que determinar a quien pertenece el celular extraviado, y en caso de ser posible avisar a su persona de contacto que el celular está a salvo y pueden pasar buscandolo en cualquier momento.\n",
        "   \n",
        "   Se sabe que la tabla **\"cliente\"** tiene un campo **\"nombre\"** el cual contiene nombres y apellidos, el campo **\"contacto\"** que tiene el nombre de la persona de contacto y el campo **\"telefono_contacto\"** que tiene el telefono de la persona de contacto.\n",
        "   \n",
        "   <br><br>\n",
        " \n",
        "</div>"
      ]
    },
    {
      "cell_type": "code",
      "metadata": {
        "id": "rwZTqh6F1c0a",
        "outputId": "58e4d2fc-63db-4755-b220-04cb57d67eb8"
      },
      "source": [
        "%sql select nombre, contacto, telefono_contacto from cliente where nombre LIKE '%Leon%';"
      ],
      "execution_count": null,
      "outputs": [
        {
          "name": "stdout",
          "output_type": "stream",
          "text": [
            " * sqlite:///love4pets.db\n",
            "Done.\n"
          ]
        },
        {
          "data": {
            "text/html": [
              "<table>\n",
              "    <tr>\n",
              "        <th>nombre</th>\n",
              "        <th>contacto</th>\n",
              "        <th>telefono_contacto</th>\n",
              "    </tr>\n",
              "    <tr>\n",
              "        <td>Rayan Leon Ferrer</td>\n",
              "        <td>Santiago Perez Ramos</td>\n",
              "        <td>577-21-24</td>\n",
              "    </tr>\n",
              "</table>"
            ],
            "text/plain": [
              "[('Rayan Leon Ferrer', 'Santiago Perez Ramos', '577-21-24')]"
            ]
          },
          "execution_count": 35,
          "metadata": {},
          "output_type": "execute_result"
        }
      ]
    },
    {
      "cell_type": "markdown",
      "metadata": {
        "id": "kSJTZ3bN1c0a"
      },
      "source": [
        "### Operadores AND, OR, NOT\n",
        "Estos operadores son usados para filtrar resultados según mas de una condición. \n",
        "\n",
        "**Operador AND:** Se muestran los resultados que cumplen las condiciones separadas por el operador AND, es decir el resultado de la operación AND tiene valor TRUE\n",
        "\n",
        "Sintaxis del Operador AND\n",
        "```sql\n",
        "select campo FROM Tabla WHERE condicion1 AND condicion2;\n",
        "```\n",
        "\n",
        "**Operador OR:** Se muestran los resultados que cumplen alguna de las condiciones separadas por el operador OR, es decir el resultado de la operación OR tiene valor TRUE\n",
        "\n",
        "Sintaxis del Operador OR\n",
        "```sql\n",
        "select campo FROM Tabla WHERE condicion1 OR condicion2;\n",
        "```\n",
        "\n",
        "**Operador NOT:** Se muestran los resultados que NO cumplen con la condicion indicada.\n",
        "\n",
        "Sintaxis del Operador NOT\n",
        "```sql\n",
        "select campo FROM Tabla WHERE NOT condicion1;\n",
        "```\n"
      ]
    },
    {
      "cell_type": "code",
      "metadata": {
        "id": "P0JWXN3H1c0a",
        "outputId": "6feb33f6-6cdb-4a2e-e9ad-4acfae5f4553"
      },
      "source": [
        "%sql select * FROM empleado WHERE ( salario >= 1500 AND departamento_id = 6 )"
      ],
      "execution_count": null,
      "outputs": [
        {
          "name": "stdout",
          "output_type": "stream",
          "text": [
            " * sqlite:///love4pets.db\n",
            "Done.\n"
          ]
        },
        {
          "data": {
            "text/html": [
              "<table>\n",
              "    <tr>\n",
              "        <th>empleado_id</th>\n",
              "        <th>nombre</th>\n",
              "        <th>email</th>\n",
              "        <th>telefono</th>\n",
              "        <th>salario</th>\n",
              "        <th>fecha_ingreso</th>\n",
              "        <th>departamento_id</th>\n",
              "    </tr>\n",
              "    <tr>\n",
              "        <td>1</td>\n",
              "        <td>Andres Riera Herrera</td>\n",
              "        <td>andresr@gmail.com</td>\n",
              "        <td>200-88-76</td>\n",
              "        <td>1500</td>\n",
              "        <td>2017-05-17 00:00:000</td>\n",
              "        <td>6</td>\n",
              "    </tr>\n",
              "    <tr>\n",
              "        <td>9</td>\n",
              "        <td>Daniel Quintero Quintero</td>\n",
              "        <td>danielquinterox2@gmail.com</td>\n",
              "        <td>261-97-06</td>\n",
              "        <td>1500</td>\n",
              "        <td>2017-03-05 00:00:000</td>\n",
              "        <td>6</td>\n",
              "    </tr>\n",
              "    <tr>\n",
              "        <td>11</td>\n",
              "        <td>Miguel Soto</td>\n",
              "        <td>misoto@gmail.com</td>\n",
              "        <td>269-92-06</td>\n",
              "        <td>1900</td>\n",
              "        <td>2017-03-05 00:00:000</td>\n",
              "        <td>6</td>\n",
              "    </tr>\n",
              "    <tr>\n",
              "        <td>12</td>\n",
              "        <td>Alejandro Fernandez</td>\n",
              "        <td>alefer@gmail.com</td>\n",
              "        <td>119-91-16</td>\n",
              "        <td>1850</td>\n",
              "        <td>2017-03-05 00:00:000</td>\n",
              "        <td>6</td>\n",
              "    </tr>\n",
              "</table>"
            ],
            "text/plain": [
              "[(1, 'Andres Riera Herrera', 'andresr@gmail.com', '200-88-76', 1500, '2017-05-17 00:00:000', 6),\n",
              " (9, 'Daniel Quintero Quintero', 'danielquinterox2@gmail.com', '261-97-06', 1500, '2017-03-05 00:00:000', 6),\n",
              " (11, 'Miguel Soto', 'misoto@gmail.com', '269-92-06', 1900, '2017-03-05 00:00:000', 6),\n",
              " (12, 'Alejandro Fernandez', 'alefer@gmail.com', '119-91-16', 1850, '2017-03-05 00:00:000', 6)]"
            ]
          },
          "execution_count": 36,
          "metadata": {},
          "output_type": "execute_result"
        }
      ]
    },
    {
      "cell_type": "markdown",
      "metadata": {
        "id": "dGe8_5Sd1c0a"
      },
      "source": [
        "En el ejemplo anterior la consulta muestra los empleados que tienen un salario mayor o igual a 1500 y que trabajan en el departamento de informática el cual tiene código 6.\n",
        "\n",
        "Veamos como podemos usar **consultas anidadas** para buscar la misma consulta colocando el nombre del departamento en lugar del código."
      ]
    },
    {
      "cell_type": "code",
      "metadata": {
        "id": "lci361Bw1c0b",
        "outputId": "97c1bdc5-2567-4634-81a5-eff1a20bb7a3"
      },
      "source": [
        "%%sql \n",
        "select * FROM empleado\n",
        "WHERE \n",
        "( salario >= 1500 AND departamento_id = (select departamento_id FROM departamento WHERE nombre=\"informatica\" ) )  "
      ],
      "execution_count": null,
      "outputs": [
        {
          "name": "stdout",
          "output_type": "stream",
          "text": [
            " * sqlite:///love4pets.db\n",
            "Done.\n"
          ]
        },
        {
          "data": {
            "text/html": [
              "<table>\n",
              "    <tr>\n",
              "        <th>empleado_id</th>\n",
              "        <th>nombre</th>\n",
              "        <th>email</th>\n",
              "        <th>telefono</th>\n",
              "        <th>salario</th>\n",
              "        <th>fecha_ingreso</th>\n",
              "        <th>departamento_id</th>\n",
              "    </tr>\n",
              "    <tr>\n",
              "        <td>1</td>\n",
              "        <td>Andres Riera Herrera</td>\n",
              "        <td>andresr@gmail.com</td>\n",
              "        <td>200-88-76</td>\n",
              "        <td>1500</td>\n",
              "        <td>2017-05-17 00:00:000</td>\n",
              "        <td>6</td>\n",
              "    </tr>\n",
              "    <tr>\n",
              "        <td>9</td>\n",
              "        <td>Daniel Quintero Quintero</td>\n",
              "        <td>danielquinterox2@gmail.com</td>\n",
              "        <td>261-97-06</td>\n",
              "        <td>1500</td>\n",
              "        <td>2017-03-05 00:00:000</td>\n",
              "        <td>6</td>\n",
              "    </tr>\n",
              "    <tr>\n",
              "        <td>11</td>\n",
              "        <td>Miguel Soto</td>\n",
              "        <td>misoto@gmail.com</td>\n",
              "        <td>269-92-06</td>\n",
              "        <td>1900</td>\n",
              "        <td>2017-03-05 00:00:000</td>\n",
              "        <td>6</td>\n",
              "    </tr>\n",
              "    <tr>\n",
              "        <td>12</td>\n",
              "        <td>Alejandro Fernandez</td>\n",
              "        <td>alefer@gmail.com</td>\n",
              "        <td>119-91-16</td>\n",
              "        <td>1850</td>\n",
              "        <td>2017-03-05 00:00:000</td>\n",
              "        <td>6</td>\n",
              "    </tr>\n",
              "</table>"
            ],
            "text/plain": [
              "[(1, 'Andres Riera Herrera', 'andresr@gmail.com', '200-88-76', 1500, '2017-05-17 00:00:000', 6),\n",
              " (9, 'Daniel Quintero Quintero', 'danielquinterox2@gmail.com', '261-97-06', 1500, '2017-03-05 00:00:000', 6),\n",
              " (11, 'Miguel Soto', 'misoto@gmail.com', '269-92-06', 1900, '2017-03-05 00:00:000', 6),\n",
              " (12, 'Alejandro Fernandez', 'alefer@gmail.com', '119-91-16', 1850, '2017-03-05 00:00:000', 6)]"
            ]
          },
          "execution_count": 51,
          "metadata": {},
          "output_type": "execute_result"
        }
      ]
    },
    {
      "cell_type": "markdown",
      "metadata": {
        "id": "tmWqkGU11c0b"
      },
      "source": [
        "Veamos un ejemplo donde consultamos las mascotas asociadas a una persona con nombre \"Arnau Medina Garcia\""
      ]
    },
    {
      "cell_type": "code",
      "metadata": {
        "id": "UFn6wwXv1c0b",
        "outputId": "2bb82692-103b-4d02-ffce-a8895b88579e"
      },
      "source": [
        "%%sql \n",
        "select * FROM mascota WHERE  cliente_id=( select cliente_id FROM cliente WHERE nombre=\"Arnau Medina Garcia\" )"
      ],
      "execution_count": null,
      "outputs": [
        {
          "name": "stdout",
          "output_type": "stream",
          "text": [
            " * sqlite:///love4pets.db\n",
            "Done.\n"
          ]
        },
        {
          "data": {
            "text/html": [
              "<table>\n",
              "    <tr>\n",
              "        <th>mascota_id</th>\n",
              "        <th>nombre</th>\n",
              "        <th>cliente_id</th>\n",
              "        <th>especie</th>\n",
              "        <th>raza</th>\n",
              "        <th>fecha_nacimiento</th>\n",
              "    </tr>\n",
              "    <tr>\n",
              "        <td>1</td>\n",
              "        <td>Luna</td>\n",
              "        <td>2</td>\n",
              "        <td>gato</td>\n",
              "        <td>mestizo</td>\n",
              "        <td>2009-01-01 00:00:000</td>\n",
              "    </tr>\n",
              "</table>"
            ],
            "text/plain": [
              "[(1, 'Luna', 2, 'gato', 'mestizo', '2009-01-01 00:00:000')]"
            ]
          },
          "execution_count": 53,
          "metadata": {},
          "output_type": "execute_result"
        }
      ]
    },
    {
      "cell_type": "code",
      "metadata": {
        "id": "-CHyGg_Q1c0b",
        "outputId": "d887b8a0-fd91-43a8-d52c-4bd9c99773e1"
      },
      "source": [
        "%sql select * from mascota"
      ],
      "execution_count": null,
      "outputs": [
        {
          "name": "stdout",
          "output_type": "stream",
          "text": [
            " * sqlite:///love4pets.db\n",
            "Done.\n"
          ]
        },
        {
          "data": {
            "text/html": [
              "<table>\n",
              "    <tr>\n",
              "        <th>mascota_id</th>\n",
              "        <th>nombre</th>\n",
              "        <th>cliente_id</th>\n",
              "        <th>especie</th>\n",
              "        <th>raza</th>\n",
              "        <th>fecha_nacimiento</th>\n",
              "    </tr>\n",
              "    <tr>\n",
              "        <td>1</td>\n",
              "        <td>Luna</td>\n",
              "        <td>2</td>\n",
              "        <td>gato</td>\n",
              "        <td>mestizo</td>\n",
              "        <td>2009-01-01 00:00:000</td>\n",
              "    </tr>\n",
              "    <tr>\n",
              "        <td>2</td>\n",
              "        <td>Sole</td>\n",
              "        <td>3</td>\n",
              "        <td>gato</td>\n",
              "        <td>mestizo</td>\n",
              "        <td>2010-02-01 00:00:000</td>\n",
              "    </tr>\n",
              "    <tr>\n",
              "        <td>3</td>\n",
              "        <td>Mida</td>\n",
              "        <td>3</td>\n",
              "        <td>perro</td>\n",
              "        <td>Caint terrier</td>\n",
              "        <td>2007-02-03 00:00:000</td>\n",
              "    </tr>\n",
              "    <tr>\n",
              "        <td>4</td>\n",
              "        <td>Tara</td>\n",
              "        <td>5</td>\n",
              "        <td>perro</td>\n",
              "        <td>Puddle</td>\n",
              "        <td>2006-02-03 00:00:000</td>\n",
              "    </tr>\n",
              "    <tr>\n",
              "        <td>5</td>\n",
              "        <td>Pelusa</td>\n",
              "        <td>6</td>\n",
              "        <td>perro</td>\n",
              "        <td>Puddle</td>\n",
              "        <td>2008-02-03 00:00:000</td>\n",
              "    </tr>\n",
              "    <tr>\n",
              "        <td>6</td>\n",
              "        <td>irene</td>\n",
              "        <td>7</td>\n",
              "        <td>gato</td>\n",
              "        <td>siames</td>\n",
              "        <td>2015-02-03 00:00:000</td>\n",
              "    </tr>\n",
              "    <tr>\n",
              "        <td>7</td>\n",
              "        <td>sara</td>\n",
              "        <td>8</td>\n",
              "        <td>gato</td>\n",
              "        <td>mestizo</td>\n",
              "        <td>2016-05-01 00:00:000</td>\n",
              "    </tr>\n",
              "    <tr>\n",
              "        <td>8</td>\n",
              "        <td>milo</td>\n",
              "        <td>11</td>\n",
              "        <td>gato</td>\n",
              "        <td>mestizo</td>\n",
              "        <td>2016-09-01 00:00:000</td>\n",
              "    </tr>\n",
              "    <tr>\n",
              "        <td>9</td>\n",
              "        <td>oliver</td>\n",
              "        <td>11</td>\n",
              "        <td>gato</td>\n",
              "        <td>mestizo</td>\n",
              "        <td>2016-07-07 00:00:000</td>\n",
              "    </tr>\n",
              "    <tr>\n",
              "        <td>10</td>\n",
              "        <td>Duke</td>\n",
              "        <td>14</td>\n",
              "        <td>perro</td>\n",
              "        <td>Pastor Aleman</td>\n",
              "        <td>2011-05-03 00:00:000</td>\n",
              "    </tr>\n",
              "</table>"
            ],
            "text/plain": [
              "[(1, 'Luna', 2, 'gato', 'mestizo', '2009-01-01 00:00:000'),\n",
              " (2, 'Sole', 3, 'gato', 'mestizo', '2010-02-01 00:00:000'),\n",
              " (3, 'Mida', 3, 'perro', 'Caint terrier', '2007-02-03 00:00:000'),\n",
              " (4, 'Tara', 5, 'perro', 'Puddle', '2006-02-03 00:00:000'),\n",
              " (5, 'Pelusa', 6, 'perro', 'Puddle', '2008-02-03 00:00:000'),\n",
              " (6, 'irene', 7, 'gato', 'siames', '2015-02-03 00:00:000'),\n",
              " (7, 'sara', 8, 'gato', 'mestizo', '2016-05-01 00:00:000'),\n",
              " (8, 'milo', 11, 'gato', 'mestizo', '2016-09-01 00:00:000'),\n",
              " (9, 'oliver', 11, 'gato', 'mestizo', '2016-07-07 00:00:000'),\n",
              " (10, 'Duke', 14, 'perro', 'Pastor Aleman', '2011-05-03 00:00:000')]"
            ]
          },
          "execution_count": 54,
          "metadata": {},
          "output_type": "execute_result"
        }
      ]
    },
    {
      "cell_type": "markdown",
      "metadata": {
        "id": "Q6TV9dQX1c0c"
      },
      "source": [
        "Ejemplo con Operador **OR**"
      ]
    },
    {
      "cell_type": "code",
      "metadata": {
        "id": "aGgMxjKt1c0c",
        "outputId": "5032d2c0-53fe-4d0f-f2f4-1511599dee17"
      },
      "source": [
        "%%sql \n",
        "select nombre, departamento_id from empleado where (empleado.departamento_id = 1) OR (empleado.departamento_id = 3)"
      ],
      "execution_count": null,
      "outputs": [
        {
          "name": "stdout",
          "output_type": "stream",
          "text": [
            " * sqlite:///love4pets.db\n",
            "Done.\n"
          ]
        },
        {
          "data": {
            "text/html": [
              "<table>\n",
              "    <tr>\n",
              "        <th>nombre</th>\n",
              "        <th>departamento_id</th>\n",
              "    </tr>\n",
              "    <tr>\n",
              "        <td>Pablo Pons Sanz</td>\n",
              "        <td>1</td>\n",
              "    </tr>\n",
              "    <tr>\n",
              "        <td>Saul Moreno Santos</td>\n",
              "        <td>1</td>\n",
              "    </tr>\n",
              "    <tr>\n",
              "        <td>Isaac Jimenez Ortiz</td>\n",
              "        <td>3</td>\n",
              "    </tr>\n",
              "    <tr>\n",
              "        <td>Guillermo Vidal Gomez</td>\n",
              "        <td>3</td>\n",
              "    </tr>\n",
              "</table>"
            ],
            "text/plain": [
              "[('Pablo Pons Sanz', 1),\n",
              " ('Saul Moreno Santos', 1),\n",
              " ('Isaac Jimenez Ortiz', 3),\n",
              " ('Guillermo Vidal Gomez', 3)]"
            ]
          },
          "execution_count": 39,
          "metadata": {},
          "output_type": "execute_result"
        }
      ]
    },
    {
      "cell_type": "markdown",
      "metadata": {
        "id": "vpZBgFng1c0c"
      },
      "source": [
        "En la consulta anterior se muestran los empleados que trabajan en el departamento de Finanzas o en el departamento de Recursos Humanos"
      ]
    },
    {
      "cell_type": "markdown",
      "metadata": {
        "id": "xndjbvvZ1c0d"
      },
      "source": [
        "Ejemplo con el operador **NOT**\n",
        "\n",
        "Veamos el complemento de la consulta anterior."
      ]
    },
    {
      "cell_type": "code",
      "metadata": {
        "id": "smz9wmL81c0d",
        "outputId": "8bc541ff-582a-4a5d-ace0-4d8a4c0a0f96"
      },
      "source": [
        "%%sql \n",
        "select nombre, departamento_id from empleado\n",
        "where\n",
        "NOT ( (empleado.departamento_id = 1) OR (empleado.departamento_id = 3) )"
      ],
      "execution_count": null,
      "outputs": [
        {
          "name": "stdout",
          "output_type": "stream",
          "text": [
            " * sqlite:///love4pets.db\n",
            "Done.\n"
          ]
        },
        {
          "data": {
            "text/html": [
              "<table>\n",
              "    <tr>\n",
              "        <th>nombre</th>\n",
              "        <th>departamento_id</th>\n",
              "    </tr>\n",
              "    <tr>\n",
              "        <td>Andres Riera Herrera</td>\n",
              "        <td>6</td>\n",
              "    </tr>\n",
              "    <tr>\n",
              "        <td>Lucas Serrano Caballero</td>\n",
              "        <td>2</td>\n",
              "    </tr>\n",
              "    <tr>\n",
              "        <td>Nil Soler Diez</td>\n",
              "        <td>5</td>\n",
              "    </tr>\n",
              "    <tr>\n",
              "        <td>Sergio Reyes Gallardo</td>\n",
              "        <td>5</td>\n",
              "    </tr>\n",
              "    <tr>\n",
              "        <td>Daniel Quintero Quintero</td>\n",
              "        <td>6</td>\n",
              "    </tr>\n",
              "    <tr>\n",
              "        <td>Miguel Soto</td>\n",
              "        <td>6</td>\n",
              "    </tr>\n",
              "    <tr>\n",
              "        <td>Alejandro Fernandez</td>\n",
              "        <td>6</td>\n",
              "    </tr>\n",
              "</table>"
            ],
            "text/plain": [
              "[('Andres Riera Herrera', 6),\n",
              " ('Lucas Serrano Caballero', 2),\n",
              " ('Nil Soler Diez', 5),\n",
              " ('Sergio Reyes Gallardo', 5),\n",
              " ('Daniel Quintero Quintero', 6),\n",
              " ('Miguel Soto', 6),\n",
              " ('Alejandro Fernandez', 6)]"
            ]
          },
          "execution_count": 21,
          "metadata": {},
          "output_type": "execute_result"
        }
      ]
    },
    {
      "cell_type": "markdown",
      "metadata": {
        "id": "CoYvEYd61c0d"
      },
      "source": [
        "<div style=\"background-color: #81F781\">\n",
        " <h1> Ejercicio 4. </h1><br>\n",
        "      La empresa Love4Pets considera hacer un descuento sobre los productos que cuestan entre 10 y 20 euros, y complementos vitamínicos. \n",
        "      \n",
        "   Se requiere que liste las columnas \"nombre\", \"descripcion\", \"precio\" de productos a los que debe ser aplicado el descuento. ( asuma que los productos se encuentran en la tabla \"producto\" )\n",
        "   \n",
        "   Asuma que el producto vitaminico no lleva acentos, generalmente estos productos tienen la palabra vitamina en la **\"descripcion\"** pero podria ser alguna variante como vitaminico o comenzar por mayusculas, el departamento de informática recomendó usar la función Like para esta busqueda.\n",
        "   \n",
        "   <br><br>\n",
        " \n",
        "</div>"
      ]
    },
    {
      "cell_type": "code",
      "metadata": {
        "id": "qytOiO5u1c0d",
        "outputId": "c8a81fae-0f1e-4a0d-8c31-e34aa7ccf975"
      },
      "source": [
        "%sql select nombre, descripcion, precio from producto where (descripcion like '%vitamin%') or (precio between 10 and 20);"
      ],
      "execution_count": null,
      "outputs": [
        {
          "name": "stdout",
          "output_type": "stream",
          "text": [
            " * sqlite:///love4pets.db\n",
            "Done.\n"
          ]
        },
        {
          "data": {
            "text/html": [
              "<table>\n",
              "    <tr>\n",
              "        <th>nombre</th>\n",
              "        <th>descripcion</th>\n",
              "        <th>precio</th>\n",
              "    </tr>\n",
              "    <tr>\n",
              "        <td>Vitaminas</td>\n",
              "        <td>Complemento vitaminico</td>\n",
              "        <td>5</td>\n",
              "    </tr>\n",
              "    <tr>\n",
              "        <td>Perrarina</td>\n",
              "        <td>Huesos</td>\n",
              "        <td>12</td>\n",
              "    </tr>\n",
              "    <tr>\n",
              "        <td>Gatarina</td>\n",
              "        <td>Catspettito</td>\n",
              "        <td>13</td>\n",
              "    </tr>\n",
              "    <tr>\n",
              "        <td>Consulta</td>\n",
              "        <td>Consulta veterinaria</td>\n",
              "        <td>15</td>\n",
              "    </tr>\n",
              "</table>"
            ],
            "text/plain": [
              "[('Vitaminas', 'Complemento vitaminico', 5),\n",
              " ('Perrarina', 'Huesos', 12),\n",
              " ('Gatarina', 'Catspettito', 13),\n",
              " ('Consulta', 'Consulta veterinaria', 15)]"
            ]
          },
          "execution_count": 92,
          "metadata": {},
          "output_type": "execute_result"
        }
      ]
    },
    {
      "cell_type": "code",
      "metadata": {
        "id": "i-_d412Y1c0e",
        "outputId": "4de8d69a-812b-4a1c-bf8a-00411429e615"
      },
      "source": [
        "%sql select * from producto"
      ],
      "execution_count": null,
      "outputs": [
        {
          "name": "stdout",
          "output_type": "stream",
          "text": [
            " * sqlite:///love4pets.db\n",
            "Done.\n"
          ]
        },
        {
          "data": {
            "text/html": [
              "<table>\n",
              "    <tr>\n",
              "        <th>producto_id</th>\n",
              "        <th>nombre</th>\n",
              "        <th>descripcion</th>\n",
              "        <th>precio</th>\n",
              "    </tr>\n",
              "    <tr>\n",
              "        <td>1</td>\n",
              "        <td>Champu Mimadito</td>\n",
              "        <td>Champu neutro para mascotas</td>\n",
              "        <td>7</td>\n",
              "    </tr>\n",
              "    <tr>\n",
              "        <td>2</td>\n",
              "        <td>Vitaminas</td>\n",
              "        <td>Complemento vitaminico</td>\n",
              "        <td>5</td>\n",
              "    </tr>\n",
              "    <tr>\n",
              "        <td>3</td>\n",
              "        <td>Antipulgas</td>\n",
              "        <td>Liquido antipulgas</td>\n",
              "        <td>3</td>\n",
              "    </tr>\n",
              "    <tr>\n",
              "        <td>4</td>\n",
              "        <td>Perrarina</td>\n",
              "        <td>Huesos</td>\n",
              "        <td>12</td>\n",
              "    </tr>\n",
              "    <tr>\n",
              "        <td>5</td>\n",
              "        <td>Gatarina</td>\n",
              "        <td>Catspettito</td>\n",
              "        <td>13</td>\n",
              "    </tr>\n",
              "    <tr>\n",
              "        <td>6</td>\n",
              "        <td>Peine N7</td>\n",
              "        <td>Peine para perros numero 7</td>\n",
              "        <td>3</td>\n",
              "    </tr>\n",
              "    <tr>\n",
              "        <td>7</td>\n",
              "        <td>peluqueria</td>\n",
              "        <td>Corte de cabello para perros</td>\n",
              "        <td>3</td>\n",
              "    </tr>\n",
              "    <tr>\n",
              "        <td>8</td>\n",
              "        <td>Consulta</td>\n",
              "        <td>Consulta veterinaria</td>\n",
              "        <td>15</td>\n",
              "    </tr>\n",
              "</table>"
            ],
            "text/plain": [
              "[(1, 'Champu Mimadito', 'Champu neutro para mascotas', 7),\n",
              " (2, 'Vitaminas', 'Complemento vitaminico', 5),\n",
              " (3, 'Antipulgas', 'Liquido antipulgas', 3),\n",
              " (4, 'Perrarina', 'Huesos', 12),\n",
              " (5, 'Gatarina', 'Catspettito', 13),\n",
              " (6, 'Peine N7', 'Peine para perros numero 7', 3),\n",
              " (7, 'peluqueria', 'Corte de cabello para perros', 3),\n",
              " (8, 'Consulta', 'Consulta veterinaria', 15)]"
            ]
          },
          "execution_count": 53,
          "metadata": {},
          "output_type": "execute_result"
        }
      ]
    },
    {
      "cell_type": "markdown",
      "metadata": {
        "id": "gAMrDsNs1c0e"
      },
      "source": [
        "### Funciones Max() y Min()\n",
        "Con frecuencia tenemos una lista de valores y queremos obtener el mayor o el menor, esto es lo que hacen las funciones Max y Min.\n",
        "\n",
        "Sintaxis de la función MIN\n",
        "```sql\n",
        "SELECT MIN(column_name)\n",
        "FROM table_name\n",
        "WHERE condition; \n",
        "```\n",
        "\n",
        "Sintaxis de la función MAX\n",
        "```sql\n",
        "SELECT MAX(column_name)\n",
        "FROM table_name\n",
        "WHERE condition; \n",
        "```\n",
        "Veamos un ejemplo:"
      ]
    },
    {
      "cell_type": "code",
      "metadata": {
        "id": "FBRFxUuR1c0e",
        "outputId": "fda1f100-a2b8-4f67-f502-9c637c908ec0"
      },
      "source": [
        "%sql select MIN(precio) from producto;"
      ],
      "execution_count": null,
      "outputs": [
        {
          "name": "stdout",
          "output_type": "stream",
          "text": [
            " * sqlite:///love4pets.db\n",
            "Done.\n"
          ]
        },
        {
          "data": {
            "text/html": [
              "<table>\n",
              "    <tr>\n",
              "        <th>MIN(precio)</th>\n",
              "    </tr>\n",
              "    <tr>\n",
              "        <td>3</td>\n",
              "    </tr>\n",
              "</table>"
            ],
            "text/plain": [
              "[(3,)]"
            ]
          },
          "execution_count": 3,
          "metadata": {},
          "output_type": "execute_result"
        }
      ]
    },
    {
      "cell_type": "code",
      "metadata": {
        "id": "7KRd6bDB1c0e",
        "outputId": "7d4f2a50-0760-4bc9-f6bd-558ed80652ab"
      },
      "source": [
        "%sql select MAX(precio) from producto;"
      ],
      "execution_count": null,
      "outputs": [
        {
          "name": "stdout",
          "output_type": "stream",
          "text": [
            " * sqlite:///love4pets.db\n",
            "Done.\n"
          ]
        },
        {
          "data": {
            "text/html": [
              "<table>\n",
              "    <tr>\n",
              "        <th>MAX(precio)</th>\n",
              "    </tr>\n",
              "    <tr>\n",
              "        <td>15</td>\n",
              "    </tr>\n",
              "</table>"
            ],
            "text/plain": [
              "[(15,)]"
            ]
          },
          "execution_count": 4,
          "metadata": {},
          "output_type": "execute_result"
        }
      ]
    },
    {
      "cell_type": "markdown",
      "metadata": {
        "id": "nfr7340B1c0f"
      },
      "source": [
        "<div style=\"background-color: #81F781\">\n",
        " <h1> Ejercicio 5. </h1><br>\n",
        "    La empresa Love4Pets esta considerando realizar un aumento.\n",
        "    \n",
        "   Se requiere que indique cual es el menor sueldo que está pagando la empresa.\n",
        " <br><br>\n",
        "</div>"
      ]
    },
    {
      "cell_type": "code",
      "metadata": {
        "id": "HQRrqDgP1c0f",
        "outputId": "71124cdd-f37d-4d5c-e89a-16772a02d0d1"
      },
      "source": [
        "%sql select nombre, MIN(salario) from empleado;"
      ],
      "execution_count": null,
      "outputs": [
        {
          "name": "stdout",
          "output_type": "stream",
          "text": [
            " * sqlite:///love4pets.db\n",
            "Done.\n"
          ]
        },
        {
          "data": {
            "text/html": [
              "<table>\n",
              "    <tr>\n",
              "        <th>nombre</th>\n",
              "        <th>MIN(salario)</th>\n",
              "    </tr>\n",
              "    <tr>\n",
              "        <td>Sergio Reyes Gallardo</td>\n",
              "        <td>1000</td>\n",
              "    </tr>\n",
              "</table>"
            ],
            "text/plain": [
              "[('Sergio Reyes Gallardo', 1000)]"
            ]
          },
          "execution_count": 3,
          "metadata": {},
          "output_type": "execute_result"
        }
      ]
    },
    {
      "cell_type": "code",
      "metadata": {
        "id": "vaqgtwo21c0f",
        "outputId": "eddcc1b2-d703-4f65-e445-cfdbac6a4d11"
      },
      "source": [
        "%sql PRAGMA table_info(empleado)"
      ],
      "execution_count": null,
      "outputs": [
        {
          "name": "stdout",
          "output_type": "stream",
          "text": [
            " * sqlite:///love4pets.db\n",
            "Done.\n"
          ]
        },
        {
          "data": {
            "text/html": [
              "<table>\n",
              "    <tr>\n",
              "        <th>cid</th>\n",
              "        <th>name</th>\n",
              "        <th>type</th>\n",
              "        <th>notnull</th>\n",
              "        <th>dflt_value</th>\n",
              "        <th>pk</th>\n",
              "    </tr>\n",
              "    <tr>\n",
              "        <td>0</td>\n",
              "        <td>empleado_id</td>\n",
              "        <td>INTEGER</td>\n",
              "        <td>1</td>\n",
              "        <td>None</td>\n",
              "        <td>1</td>\n",
              "    </tr>\n",
              "    <tr>\n",
              "        <td>1</td>\n",
              "        <td>nombre</td>\n",
              "        <td>TEXT</td>\n",
              "        <td>1</td>\n",
              "        <td>None</td>\n",
              "        <td>0</td>\n",
              "    </tr>\n",
              "    <tr>\n",
              "        <td>2</td>\n",
              "        <td>email</td>\n",
              "        <td>TEXT</td>\n",
              "        <td>0</td>\n",
              "        <td>None</td>\n",
              "        <td>0</td>\n",
              "    </tr>\n",
              "    <tr>\n",
              "        <td>3</td>\n",
              "        <td>telefono</td>\n",
              "        <td>TEXT</td>\n",
              "        <td>0</td>\n",
              "        <td>None</td>\n",
              "        <td>0</td>\n",
              "    </tr>\n",
              "    <tr>\n",
              "        <td>4</td>\n",
              "        <td>salario</td>\n",
              "        <td>INTEGER</td>\n",
              "        <td>1</td>\n",
              "        <td>None</td>\n",
              "        <td>0</td>\n",
              "    </tr>\n",
              "    <tr>\n",
              "        <td>5</td>\n",
              "        <td>fecha_ingreso</td>\n",
              "        <td>DATETIME</td>\n",
              "        <td>1</td>\n",
              "        <td>CURRENT_DATE</td>\n",
              "        <td>0</td>\n",
              "    </tr>\n",
              "    <tr>\n",
              "        <td>6</td>\n",
              "        <td>departamento_id</td>\n",
              "        <td>INTEGER</td>\n",
              "        <td>0</td>\n",
              "        <td>None</td>\n",
              "        <td>0</td>\n",
              "    </tr>\n",
              "</table>"
            ],
            "text/plain": [
              "[(0, 'empleado_id', 'INTEGER', 1, None, 1),\n",
              " (1, 'nombre', 'TEXT', 1, None, 0),\n",
              " (2, 'email', 'TEXT', 0, None, 0),\n",
              " (3, 'telefono', 'TEXT', 0, None, 0),\n",
              " (4, 'salario', 'INTEGER', 1, None, 0),\n",
              " (5, 'fecha_ingreso', 'DATETIME', 1, 'CURRENT_DATE', 0),\n",
              " (6, 'departamento_id', 'INTEGER', 0, None, 0)]"
            ]
          },
          "execution_count": 6,
          "metadata": {},
          "output_type": "execute_result"
        }
      ]
    },
    {
      "cell_type": "code",
      "metadata": {
        "id": "zDwb78xv1c0f",
        "outputId": "a950a1a5-c3a3-43dd-ad98-f305f928a4ba"
      },
      "source": [
        "%sql select * from empleado;"
      ],
      "execution_count": null,
      "outputs": [
        {
          "name": "stdout",
          "output_type": "stream",
          "text": [
            " * sqlite:///love4pets.db\n",
            "Done.\n"
          ]
        },
        {
          "data": {
            "text/html": [
              "<table>\n",
              "    <tr>\n",
              "        <th>empleado_id</th>\n",
              "        <th>nombre</th>\n",
              "        <th>email</th>\n",
              "        <th>telefono</th>\n",
              "        <th>salario</th>\n",
              "        <th>fecha_ingreso</th>\n",
              "        <th>departamento_id</th>\n",
              "    </tr>\n",
              "    <tr>\n",
              "        <td>1</td>\n",
              "        <td>Andres Riera Herrera</td>\n",
              "        <td>andresr@gmail.com</td>\n",
              "        <td>200-88-76</td>\n",
              "        <td>1500</td>\n",
              "        <td>2017-05-17 00:00:000</td>\n",
              "        <td>6</td>\n",
              "    </tr>\n",
              "    <tr>\n",
              "        <td>2</td>\n",
              "        <td>Lucas Serrano Caballero</td>\n",
              "        <td>lucas99@gmail.com</td>\n",
              "        <td>115-24-36</td>\n",
              "        <td>1200</td>\n",
              "        <td>2018-05-17 00:00:000</td>\n",
              "        <td>2</td>\n",
              "    </tr>\n",
              "    <tr>\n",
              "        <td>3</td>\n",
              "        <td>Pablo Pons Sanz</td>\n",
              "        <td>ppsanz@gmail.com</td>\n",
              "        <td>748-72-75</td>\n",
              "        <td>1350</td>\n",
              "        <td>2016-07-01 00:00:000</td>\n",
              "        <td>1</td>\n",
              "    </tr>\n",
              "    <tr>\n",
              "        <td>4</td>\n",
              "        <td>Saul Moreno Santos</td>\n",
              "        <td>saul.morenosantos@gmail.com</td>\n",
              "        <td>346-87-27</td>\n",
              "        <td>1600</td>\n",
              "        <td>2016-07-01 00:00:000</td>\n",
              "        <td>1</td>\n",
              "    </tr>\n",
              "    <tr>\n",
              "        <td>5</td>\n",
              "        <td>Nil Soler Diez</td>\n",
              "        <td>nilsoler@gmail.com</td>\n",
              "        <td>576-84-28</td>\n",
              "        <td>1100</td>\n",
              "        <td>2016-04-03 00:00:000</td>\n",
              "        <td>5</td>\n",
              "    </tr>\n",
              "    <tr>\n",
              "        <td>6</td>\n",
              "        <td>Sergio Reyes Gallardo</td>\n",
              "        <td>zerg@gmail.com</td>\n",
              "        <td>598-95-67</td>\n",
              "        <td>1000</td>\n",
              "        <td>2016-04-03 00:00:000</td>\n",
              "        <td>5</td>\n",
              "    </tr>\n",
              "    <tr>\n",
              "        <td>7</td>\n",
              "        <td>Isaac Jimenez Ortiz</td>\n",
              "        <td>isaacortiz@gmail.com</td>\n",
              "        <td>370-19-65</td>\n",
              "        <td>1600</td>\n",
              "        <td>2016-07-08 00:00:000</td>\n",
              "        <td>3</td>\n",
              "    </tr>\n",
              "    <tr>\n",
              "        <td>8</td>\n",
              "        <td>Guillermo Vidal Gomez</td>\n",
              "        <td>guillevidal@gmail.com</td>\n",
              "        <td>099-05-68</td>\n",
              "        <td>1400</td>\n",
              "        <td>2016-01-03 00:00:000</td>\n",
              "        <td>3</td>\n",
              "    </tr>\n",
              "    <tr>\n",
              "        <td>9</td>\n",
              "        <td>Daniel Quintero Quintero</td>\n",
              "        <td>danielquinterox2@gmail.com</td>\n",
              "        <td>261-97-06</td>\n",
              "        <td>1500</td>\n",
              "        <td>2017-03-05 00:00:000</td>\n",
              "        <td>6</td>\n",
              "    </tr>\n",
              "    <tr>\n",
              "        <td>10</td>\n",
              "        <td>Juan Manuel Olivares</td>\n",
              "        <td>juanma@gmail.com</td>\n",
              "        <td>269-37-06</td>\n",
              "        <td>1500</td>\n",
              "        <td>2017-03-05 00:00:000</td>\n",
              "        <td>None</td>\n",
              "    </tr>\n",
              "    <tr>\n",
              "        <td>11</td>\n",
              "        <td>Miguel Soto</td>\n",
              "        <td>misoto@gmail.com</td>\n",
              "        <td>269-92-06</td>\n",
              "        <td>1900</td>\n",
              "        <td>2017-03-05 00:00:000</td>\n",
              "        <td>6</td>\n",
              "    </tr>\n",
              "    <tr>\n",
              "        <td>12</td>\n",
              "        <td>Alejandro Fernandez</td>\n",
              "        <td>alefer@gmail.com</td>\n",
              "        <td>119-91-16</td>\n",
              "        <td>1850</td>\n",
              "        <td>2017-03-05 00:00:000</td>\n",
              "        <td>6</td>\n",
              "    </tr>\n",
              "</table>"
            ],
            "text/plain": [
              "[(1, 'Andres Riera Herrera', 'andresr@gmail.com', '200-88-76', 1500, '2017-05-17 00:00:000', 6),\n",
              " (2, 'Lucas Serrano Caballero', 'lucas99@gmail.com', '115-24-36', 1200, '2018-05-17 00:00:000', 2),\n",
              " (3, 'Pablo Pons Sanz', 'ppsanz@gmail.com', '748-72-75', 1350, '2016-07-01 00:00:000', 1),\n",
              " (4, 'Saul Moreno Santos', 'saul.morenosantos@gmail.com', '346-87-27', 1600, '2016-07-01 00:00:000', 1),\n",
              " (5, 'Nil Soler Diez', 'nilsoler@gmail.com', '576-84-28', 1100, '2016-04-03 00:00:000', 5),\n",
              " (6, 'Sergio Reyes Gallardo', 'zerg@gmail.com', '598-95-67', 1000, '2016-04-03 00:00:000', 5),\n",
              " (7, 'Isaac Jimenez Ortiz', 'isaacortiz@gmail.com', '370-19-65', 1600, '2016-07-08 00:00:000', 3),\n",
              " (8, 'Guillermo Vidal Gomez', 'guillevidal@gmail.com', '099-05-68', 1400, '2016-01-03 00:00:000', 3),\n",
              " (9, 'Daniel Quintero Quintero', 'danielquinterox2@gmail.com', '261-97-06', 1500, '2017-03-05 00:00:000', 6),\n",
              " (10, 'Juan Manuel Olivares', 'juanma@gmail.com', '269-37-06', 1500, '2017-03-05 00:00:000', None),\n",
              " (11, 'Miguel Soto', 'misoto@gmail.com', '269-92-06', 1900, '2017-03-05 00:00:000', 6),\n",
              " (12, 'Alejandro Fernandez', 'alefer@gmail.com', '119-91-16', 1850, '2017-03-05 00:00:000', 6)]"
            ]
          },
          "execution_count": 11,
          "metadata": {},
          "output_type": "execute_result"
        }
      ]
    },
    {
      "cell_type": "markdown",
      "metadata": {
        "id": "0iQYyQCg1c0g"
      },
      "source": [
        "### Funciones COUNT(), AVG(), SUM()\n",
        "Nos permite contar la cantidad de resultados que arroja una consulta, obtener un valor promedio, o sumar los valores de una consulta.\n",
        "\n",
        "**Función count** Retorna la cantidad de filas que arroja una consulta.\n",
        "\n",
        "Sintaxis de la función COUNT\n",
        "```sql\n",
        "SELECT COUNT(column_name)\n",
        "FROM table_name\n",
        "WHERE condition; \n",
        "```\n",
        "\n",
        "**Función AVG** Retorna la el promedio de los valores de las filas que arroja una consulta.\n",
        "\n",
        "Sintaxis de la función COUNT\n",
        "```sql\n",
        "SELECT AVG(column_name)\n",
        "FROM table_name\n",
        "WHERE condition; \n",
        "```\n",
        "\n",
        "**Función SUM** Retorna la el promedio de los valores de las filas que arroja una consulta.\n",
        "\n",
        "Sintaxis de la función COUNT\n",
        "```sql\n",
        "SELECT SUM(column_name)\n",
        "FROM table_name\n",
        "WHERE condition; \n",
        "```"
      ]
    },
    {
      "cell_type": "code",
      "metadata": {
        "id": "qnMUgMG01c0g",
        "outputId": "1b81ad91-a239-41dd-f260-c00143e85f6f"
      },
      "source": [
        "%sql select COUNT(salario) from empleado;"
      ],
      "execution_count": null,
      "outputs": [
        {
          "name": "stdout",
          "output_type": "stream",
          "text": [
            " * sqlite:///love4pets.db\n",
            "Done.\n"
          ]
        },
        {
          "data": {
            "text/html": [
              "<table>\n",
              "    <tr>\n",
              "        <th>COUNT(salario)</th>\n",
              "    </tr>\n",
              "    <tr>\n",
              "        <td>12</td>\n",
              "    </tr>\n",
              "</table>"
            ],
            "text/plain": [
              "[(12,)]"
            ]
          },
          "execution_count": 22,
          "metadata": {},
          "output_type": "execute_result"
        }
      ]
    },
    {
      "cell_type": "code",
      "metadata": {
        "id": "0em1VS1b1c0g",
        "outputId": "947b7dfa-9d43-4075-f0a3-89cff29fa479"
      },
      "source": [
        "%sql select AVG(salario) from empleado;"
      ],
      "execution_count": null,
      "outputs": [
        {
          "name": "stdout",
          "output_type": "stream",
          "text": [
            " * sqlite:///love4pets.db\n",
            "Done.\n"
          ]
        },
        {
          "data": {
            "text/html": [
              "<table>\n",
              "    <tr>\n",
              "        <th>AVG(salario)</th>\n",
              "    </tr>\n",
              "    <tr>\n",
              "        <td>1458.3333333333333</td>\n",
              "    </tr>\n",
              "</table>"
            ],
            "text/plain": [
              "[(1458.3333333333333,)]"
            ]
          },
          "execution_count": 12,
          "metadata": {},
          "output_type": "execute_result"
        }
      ]
    },
    {
      "cell_type": "code",
      "metadata": {
        "id": "0c-4o5Hb1c0h",
        "outputId": "4498a7a2-6560-4390-af2d-579707e2f296"
      },
      "source": [
        "%sql select SUM(salario) from empleado;"
      ],
      "execution_count": null,
      "outputs": [
        {
          "name": "stdout",
          "output_type": "stream",
          "text": [
            " * sqlite:///love4pets.db\n",
            "Done.\n"
          ]
        },
        {
          "data": {
            "text/html": [
              "<table>\n",
              "    <tr>\n",
              "        <th>SUM(salario)</th>\n",
              "    </tr>\n",
              "    <tr>\n",
              "        <td>17500</td>\n",
              "    </tr>\n",
              "</table>"
            ],
            "text/plain": [
              "[(17500,)]"
            ]
          },
          "execution_count": 13,
          "metadata": {},
          "output_type": "execute_result"
        }
      ]
    },
    {
      "cell_type": "markdown",
      "metadata": {
        "id": "zETyE_4K1c0h"
      },
      "source": [
        "<div style=\"background-color: #81F781\">\n",
        " <h1> Ejercicio 6. </h1><br>\n",
        "    La empresa Love4Pets continúa estudiando un ajuste en los salarios de los empleados, por lo que se quiere conocer el presupuesto total requerido para el pago de los salarios.\n",
        " <br><br>"
      ]
    },
    {
      "cell_type": "code",
      "metadata": {
        "id": "yYPgDFrB1c0h",
        "outputId": "f975a7e5-42be-40ef-e396-fdc66bac273f"
      },
      "source": [
        "%sql select SUM(salario) from empleado;"
      ],
      "execution_count": null,
      "outputs": [
        {
          "name": "stdout",
          "output_type": "stream",
          "text": [
            " * sqlite:///love4pets.db\n",
            "Done.\n"
          ]
        },
        {
          "data": {
            "text/html": [
              "<table>\n",
              "    <tr>\n",
              "        <th>SUM(salario)</th>\n",
              "    </tr>\n",
              "    <tr>\n",
              "        <td>17500</td>\n",
              "    </tr>\n",
              "</table>"
            ],
            "text/plain": [
              "[(17500,)]"
            ]
          },
          "execution_count": 14,
          "metadata": {},
          "output_type": "execute_result"
        }
      ]
    },
    {
      "cell_type": "markdown",
      "metadata": {
        "id": "_9GqZ7zj1c0h"
      },
      "source": [
        "### El Operador IN\n",
        "Permite especificar multiples valores a la clausula WHERE\n",
        "\n",
        "Sintaxis del operador IN\n",
        "```sql\n",
        "SELECT column_name(s)\n",
        "FROM table_name\n",
        "WHERE column_name IN (value1, value2, ...); \n",
        "```\n",
        "Veamos un ejemplo"
      ]
    },
    {
      "cell_type": "code",
      "metadata": {
        "id": "qq9-8Pur1c0i"
      },
      "source": [
        "%sql select nombre from cliente where ciudad IN (\"Madrid\",\"Toledo\");"
      ],
      "execution_count": null,
      "outputs": []
    },
    {
      "cell_type": "markdown",
      "metadata": {
        "id": "z7VR-Svo1c0i"
      },
      "source": [
        "Hasta ahora hemos realizado consultas muy sencillas casi todas sobre una sola tabla, sin aprovechar las relaciones que existen entre las tablas.\n",
        "\n",
        "Algunas de las tablas en Love4Pets están relacionadas  por medio de claves foraneas, por ejemplo la tabla empleado tiene un campo departamento_id que almacena el código del departamento donde trabaja un empleado, por medio de está relación podemos consultar también el nombre del departamento, esta consulta puede hacerse haciendo consultas anidadas, pero también usando la clausula **JOIN**\n",
        "\n",
        "### Clausula JOIN\n",
        "La clausula JOIN es usada para combinar columnas de una o mas tablas por medio de campos que relacionan estas tablas.\n",
        "\n",
        "Existen diferentes tipos de JOIN.  \n",
        "#### **Inner JOIN**:\n",
        "Retorna los valores cumplen la relación entre ambas tablas, es decir las filas de una tabla que estan relacionadas con filas de otra tabla por medio de claves foraneas. El INNER JOIN también es llamado simplemente JOIN.\n",
        "![Texto alternativo](https://raw.githubusercontent.com/dasesu/practicasql/master/imagenes/inner%20join.png)\n",
        "\n",
        "Sintaxis del Inner Join\n",
        "\n",
        "```sql\n",
        "select campo1, campo2, campoN FROM tabla1 INNER JOIN tabla2 ON tabla1.campo = tabla2.campo;\n",
        "```\n",
        "\n",
        "Veamos un ejemplo:  \n",
        "Primero veamos la siguiente consulta\n"
      ]
    },
    {
      "cell_type": "code",
      "metadata": {
        "id": "KDk4FzsM1c0i",
        "outputId": "b958cc00-55fc-49e2-fadb-4c179d025fbe"
      },
      "source": [
        "%%sql\n",
        "select empleado.nombre, departamento.nombre from empleado, departamento\n",
        "WHERE\n",
        "empleado.departamento_id = departamento.departamento_id;"
      ],
      "execution_count": null,
      "outputs": [
        {
          "name": "stdout",
          "output_type": "stream",
          "text": [
            " * sqlite:///love4pets.db\n",
            "Done.\n"
          ]
        },
        {
          "data": {
            "text/html": [
              "<table>\n",
              "    <tr>\n",
              "        <th>nombre</th>\n",
              "        <th>nombre_1</th>\n",
              "    </tr>\n",
              "    <tr>\n",
              "        <td>Andres Riera Herrera</td>\n",
              "        <td>informatica</td>\n",
              "    </tr>\n",
              "    <tr>\n",
              "        <td>Lucas Serrano Caballero</td>\n",
              "        <td>ventas</td>\n",
              "    </tr>\n",
              "    <tr>\n",
              "        <td>Pablo Pons Sanz</td>\n",
              "        <td>finanzas</td>\n",
              "    </tr>\n",
              "    <tr>\n",
              "        <td>Saul Moreno Santos</td>\n",
              "        <td>finanzas</td>\n",
              "    </tr>\n",
              "    <tr>\n",
              "        <td>Nil Soler Diez</td>\n",
              "        <td>veterinario</td>\n",
              "    </tr>\n",
              "    <tr>\n",
              "        <td>Sergio Reyes Gallardo</td>\n",
              "        <td>veterinario</td>\n",
              "    </tr>\n",
              "    <tr>\n",
              "        <td>Isaac Jimenez Ortiz</td>\n",
              "        <td>recursos humanos</td>\n",
              "    </tr>\n",
              "    <tr>\n",
              "        <td>Guillermo Vidal Gomez</td>\n",
              "        <td>recursos humanos</td>\n",
              "    </tr>\n",
              "    <tr>\n",
              "        <td>Daniel Quintero Quintero</td>\n",
              "        <td>informatica</td>\n",
              "    </tr>\n",
              "    <tr>\n",
              "        <td>Miguel Soto</td>\n",
              "        <td>informatica</td>\n",
              "    </tr>\n",
              "    <tr>\n",
              "        <td>Alejandro Fernandez</td>\n",
              "        <td>informatica</td>\n",
              "    </tr>\n",
              "</table>"
            ],
            "text/plain": [
              "[('Andres Riera Herrera', 'informatica'),\n",
              " ('Lucas Serrano Caballero', 'ventas'),\n",
              " ('Pablo Pons Sanz', 'finanzas'),\n",
              " ('Saul Moreno Santos', 'finanzas'),\n",
              " ('Nil Soler Diez', 'veterinario'),\n",
              " ('Sergio Reyes Gallardo', 'veterinario'),\n",
              " ('Isaac Jimenez Ortiz', 'recursos humanos'),\n",
              " ('Guillermo Vidal Gomez', 'recursos humanos'),\n",
              " ('Daniel Quintero Quintero', 'informatica'),\n",
              " ('Miguel Soto', 'informatica'),\n",
              " ('Alejandro Fernandez', 'informatica')]"
            ]
          },
          "execution_count": 16,
          "metadata": {},
          "output_type": "execute_result"
        }
      ]
    },
    {
      "cell_type": "code",
      "metadata": {
        "id": "LSznfcNQ1c0i",
        "outputId": "1133df69-8bbd-4517-c07f-4146e313a6a3"
      },
      "source": [
        "%sql PRAGMA table_info(departamento)"
      ],
      "execution_count": null,
      "outputs": [
        {
          "name": "stdout",
          "output_type": "stream",
          "text": [
            " * sqlite:///love4pets.db\n",
            "Done.\n"
          ]
        },
        {
          "data": {
            "text/html": [
              "<table>\n",
              "    <tr>\n",
              "        <th>cid</th>\n",
              "        <th>name</th>\n",
              "        <th>type</th>\n",
              "        <th>notnull</th>\n",
              "        <th>dflt_value</th>\n",
              "        <th>pk</th>\n",
              "    </tr>\n",
              "    <tr>\n",
              "        <td>0</td>\n",
              "        <td>departamento_id</td>\n",
              "        <td>INTEGER</td>\n",
              "        <td>1</td>\n",
              "        <td>None</td>\n",
              "        <td>1</td>\n",
              "    </tr>\n",
              "    <tr>\n",
              "        <td>1</td>\n",
              "        <td>nombre</td>\n",
              "        <td>TEXT</td>\n",
              "        <td>1</td>\n",
              "        <td>None</td>\n",
              "        <td>0</td>\n",
              "    </tr>\n",
              "</table>"
            ],
            "text/plain": [
              "[(0, 'departamento_id', 'INTEGER', 1, None, 1),\n",
              " (1, 'nombre', 'TEXT', 1, None, 0)]"
            ]
          },
          "execution_count": 18,
          "metadata": {},
          "output_type": "execute_result"
        }
      ]
    },
    {
      "cell_type": "code",
      "metadata": {
        "id": "CNriO5FS1c0j",
        "outputId": "39e0a492-8f4c-4cbc-f72c-5dad46715f03"
      },
      "source": [
        "%sql select * from departamento"
      ],
      "execution_count": null,
      "outputs": [
        {
          "name": "stdout",
          "output_type": "stream",
          "text": [
            " * sqlite:///love4pets.db\n",
            "Done.\n"
          ]
        },
        {
          "data": {
            "text/html": [
              "<table>\n",
              "    <tr>\n",
              "        <th>departamento_id</th>\n",
              "        <th>nombre</th>\n",
              "    </tr>\n",
              "    <tr>\n",
              "        <td>1</td>\n",
              "        <td>finanzas</td>\n",
              "    </tr>\n",
              "    <tr>\n",
              "        <td>2</td>\n",
              "        <td>ventas</td>\n",
              "    </tr>\n",
              "    <tr>\n",
              "        <td>3</td>\n",
              "        <td>recursos humanos</td>\n",
              "    </tr>\n",
              "    <tr>\n",
              "        <td>4</td>\n",
              "        <td>marketing</td>\n",
              "    </tr>\n",
              "    <tr>\n",
              "        <td>5</td>\n",
              "        <td>veterinario</td>\n",
              "    </tr>\n",
              "    <tr>\n",
              "        <td>6</td>\n",
              "        <td>informatica</td>\n",
              "    </tr>\n",
              "    <tr>\n",
              "        <td>7</td>\n",
              "        <td>investigacion</td>\n",
              "    </tr>\n",
              "</table>"
            ],
            "text/plain": [
              "[(1, 'finanzas'),\n",
              " (2, 'ventas'),\n",
              " (3, 'recursos humanos'),\n",
              " (4, 'marketing'),\n",
              " (5, 'veterinario'),\n",
              " (6, 'informatica'),\n",
              " (7, 'investigacion')]"
            ]
          },
          "execution_count": 20,
          "metadata": {},
          "output_type": "execute_result"
        }
      ]
    },
    {
      "cell_type": "code",
      "metadata": {
        "id": "qRJLt5x51c0j",
        "outputId": "099e6da8-df93-4360-f6c9-b0ce5d10cdb2"
      },
      "source": [
        "%sql PRAGMA table_info(empleado)"
      ],
      "execution_count": null,
      "outputs": [
        {
          "name": "stdout",
          "output_type": "stream",
          "text": [
            " * sqlite:///love4pets.db\n",
            "Done.\n"
          ]
        },
        {
          "data": {
            "text/html": [
              "<table>\n",
              "    <tr>\n",
              "        <th>cid</th>\n",
              "        <th>name</th>\n",
              "        <th>type</th>\n",
              "        <th>notnull</th>\n",
              "        <th>dflt_value</th>\n",
              "        <th>pk</th>\n",
              "    </tr>\n",
              "    <tr>\n",
              "        <td>0</td>\n",
              "        <td>empleado_id</td>\n",
              "        <td>INTEGER</td>\n",
              "        <td>1</td>\n",
              "        <td>None</td>\n",
              "        <td>1</td>\n",
              "    </tr>\n",
              "    <tr>\n",
              "        <td>1</td>\n",
              "        <td>nombre</td>\n",
              "        <td>TEXT</td>\n",
              "        <td>1</td>\n",
              "        <td>None</td>\n",
              "        <td>0</td>\n",
              "    </tr>\n",
              "    <tr>\n",
              "        <td>2</td>\n",
              "        <td>email</td>\n",
              "        <td>TEXT</td>\n",
              "        <td>0</td>\n",
              "        <td>None</td>\n",
              "        <td>0</td>\n",
              "    </tr>\n",
              "    <tr>\n",
              "        <td>3</td>\n",
              "        <td>telefono</td>\n",
              "        <td>TEXT</td>\n",
              "        <td>0</td>\n",
              "        <td>None</td>\n",
              "        <td>0</td>\n",
              "    </tr>\n",
              "    <tr>\n",
              "        <td>4</td>\n",
              "        <td>salario</td>\n",
              "        <td>INTEGER</td>\n",
              "        <td>1</td>\n",
              "        <td>None</td>\n",
              "        <td>0</td>\n",
              "    </tr>\n",
              "    <tr>\n",
              "        <td>5</td>\n",
              "        <td>fecha_ingreso</td>\n",
              "        <td>DATETIME</td>\n",
              "        <td>1</td>\n",
              "        <td>CURRENT_DATE</td>\n",
              "        <td>0</td>\n",
              "    </tr>\n",
              "    <tr>\n",
              "        <td>6</td>\n",
              "        <td>departamento_id</td>\n",
              "        <td>INTEGER</td>\n",
              "        <td>0</td>\n",
              "        <td>None</td>\n",
              "        <td>0</td>\n",
              "    </tr>\n",
              "</table>"
            ],
            "text/plain": [
              "[(0, 'empleado_id', 'INTEGER', 1, None, 1),\n",
              " (1, 'nombre', 'TEXT', 1, None, 0),\n",
              " (2, 'email', 'TEXT', 0, None, 0),\n",
              " (3, 'telefono', 'TEXT', 0, None, 0),\n",
              " (4, 'salario', 'INTEGER', 1, None, 0),\n",
              " (5, 'fecha_ingreso', 'DATETIME', 1, 'CURRENT_DATE', 0),\n",
              " (6, 'departamento_id', 'INTEGER', 0, None, 0)]"
            ]
          },
          "execution_count": 22,
          "metadata": {},
          "output_type": "execute_result"
        }
      ]
    },
    {
      "cell_type": "code",
      "metadata": {
        "id": "giZahvNF1c0j",
        "outputId": "4e967c6e-2121-4043-eed7-451b8e41ddc9"
      },
      "source": [
        "%sql select * from empleado"
      ],
      "execution_count": null,
      "outputs": [
        {
          "name": "stdout",
          "output_type": "stream",
          "text": [
            " * sqlite:///love4pets.db\n",
            "Done.\n"
          ]
        },
        {
          "data": {
            "text/html": [
              "<table>\n",
              "    <tr>\n",
              "        <th>empleado_id</th>\n",
              "        <th>nombre</th>\n",
              "        <th>email</th>\n",
              "        <th>telefono</th>\n",
              "        <th>salario</th>\n",
              "        <th>fecha_ingreso</th>\n",
              "        <th>departamento_id</th>\n",
              "    </tr>\n",
              "    <tr>\n",
              "        <td>1</td>\n",
              "        <td>Andres Riera Herrera</td>\n",
              "        <td>andresr@gmail.com</td>\n",
              "        <td>200-88-76</td>\n",
              "        <td>1500</td>\n",
              "        <td>2017-05-17 00:00:000</td>\n",
              "        <td>6</td>\n",
              "    </tr>\n",
              "    <tr>\n",
              "        <td>2</td>\n",
              "        <td>Lucas Serrano Caballero</td>\n",
              "        <td>lucas99@gmail.com</td>\n",
              "        <td>115-24-36</td>\n",
              "        <td>1200</td>\n",
              "        <td>2018-05-17 00:00:000</td>\n",
              "        <td>2</td>\n",
              "    </tr>\n",
              "    <tr>\n",
              "        <td>3</td>\n",
              "        <td>Pablo Pons Sanz</td>\n",
              "        <td>ppsanz@gmail.com</td>\n",
              "        <td>748-72-75</td>\n",
              "        <td>1350</td>\n",
              "        <td>2016-07-01 00:00:000</td>\n",
              "        <td>1</td>\n",
              "    </tr>\n",
              "    <tr>\n",
              "        <td>4</td>\n",
              "        <td>Saul Moreno Santos</td>\n",
              "        <td>saul.morenosantos@gmail.com</td>\n",
              "        <td>346-87-27</td>\n",
              "        <td>1600</td>\n",
              "        <td>2016-07-01 00:00:000</td>\n",
              "        <td>1</td>\n",
              "    </tr>\n",
              "    <tr>\n",
              "        <td>5</td>\n",
              "        <td>Nil Soler Diez</td>\n",
              "        <td>nilsoler@gmail.com</td>\n",
              "        <td>576-84-28</td>\n",
              "        <td>1100</td>\n",
              "        <td>2016-04-03 00:00:000</td>\n",
              "        <td>5</td>\n",
              "    </tr>\n",
              "    <tr>\n",
              "        <td>6</td>\n",
              "        <td>Sergio Reyes Gallardo</td>\n",
              "        <td>zerg@gmail.com</td>\n",
              "        <td>598-95-67</td>\n",
              "        <td>1000</td>\n",
              "        <td>2016-04-03 00:00:000</td>\n",
              "        <td>5</td>\n",
              "    </tr>\n",
              "    <tr>\n",
              "        <td>7</td>\n",
              "        <td>Isaac Jimenez Ortiz</td>\n",
              "        <td>isaacortiz@gmail.com</td>\n",
              "        <td>370-19-65</td>\n",
              "        <td>1600</td>\n",
              "        <td>2016-07-08 00:00:000</td>\n",
              "        <td>3</td>\n",
              "    </tr>\n",
              "    <tr>\n",
              "        <td>8</td>\n",
              "        <td>Guillermo Vidal Gomez</td>\n",
              "        <td>guillevidal@gmail.com</td>\n",
              "        <td>099-05-68</td>\n",
              "        <td>1400</td>\n",
              "        <td>2016-01-03 00:00:000</td>\n",
              "        <td>3</td>\n",
              "    </tr>\n",
              "    <tr>\n",
              "        <td>9</td>\n",
              "        <td>Daniel Quintero Quintero</td>\n",
              "        <td>danielquinterox2@gmail.com</td>\n",
              "        <td>261-97-06</td>\n",
              "        <td>1500</td>\n",
              "        <td>2017-03-05 00:00:000</td>\n",
              "        <td>6</td>\n",
              "    </tr>\n",
              "    <tr>\n",
              "        <td>10</td>\n",
              "        <td>Juan Manuel Olivares</td>\n",
              "        <td>juanma@gmail.com</td>\n",
              "        <td>269-37-06</td>\n",
              "        <td>1500</td>\n",
              "        <td>2017-03-05 00:00:000</td>\n",
              "        <td>None</td>\n",
              "    </tr>\n",
              "    <tr>\n",
              "        <td>11</td>\n",
              "        <td>Miguel Soto</td>\n",
              "        <td>misoto@gmail.com</td>\n",
              "        <td>269-92-06</td>\n",
              "        <td>1900</td>\n",
              "        <td>2017-03-05 00:00:000</td>\n",
              "        <td>6</td>\n",
              "    </tr>\n",
              "    <tr>\n",
              "        <td>12</td>\n",
              "        <td>Alejandro Fernandez</td>\n",
              "        <td>alefer@gmail.com</td>\n",
              "        <td>119-91-16</td>\n",
              "        <td>1850</td>\n",
              "        <td>2017-03-05 00:00:000</td>\n",
              "        <td>6</td>\n",
              "    </tr>\n",
              "</table>"
            ],
            "text/plain": [
              "[(1, 'Andres Riera Herrera', 'andresr@gmail.com', '200-88-76', 1500, '2017-05-17 00:00:000', 6),\n",
              " (2, 'Lucas Serrano Caballero', 'lucas99@gmail.com', '115-24-36', 1200, '2018-05-17 00:00:000', 2),\n",
              " (3, 'Pablo Pons Sanz', 'ppsanz@gmail.com', '748-72-75', 1350, '2016-07-01 00:00:000', 1),\n",
              " (4, 'Saul Moreno Santos', 'saul.morenosantos@gmail.com', '346-87-27', 1600, '2016-07-01 00:00:000', 1),\n",
              " (5, 'Nil Soler Diez', 'nilsoler@gmail.com', '576-84-28', 1100, '2016-04-03 00:00:000', 5),\n",
              " (6, 'Sergio Reyes Gallardo', 'zerg@gmail.com', '598-95-67', 1000, '2016-04-03 00:00:000', 5),\n",
              " (7, 'Isaac Jimenez Ortiz', 'isaacortiz@gmail.com', '370-19-65', 1600, '2016-07-08 00:00:000', 3),\n",
              " (8, 'Guillermo Vidal Gomez', 'guillevidal@gmail.com', '099-05-68', 1400, '2016-01-03 00:00:000', 3),\n",
              " (9, 'Daniel Quintero Quintero', 'danielquinterox2@gmail.com', '261-97-06', 1500, '2017-03-05 00:00:000', 6),\n",
              " (10, 'Juan Manuel Olivares', 'juanma@gmail.com', '269-37-06', 1500, '2017-03-05 00:00:000', None),\n",
              " (11, 'Miguel Soto', 'misoto@gmail.com', '269-92-06', 1900, '2017-03-05 00:00:000', 6),\n",
              " (12, 'Alejandro Fernandez', 'alefer@gmail.com', '119-91-16', 1850, '2017-03-05 00:00:000', 6)]"
            ]
          },
          "execution_count": 23,
          "metadata": {},
          "output_type": "execute_result"
        }
      ]
    },
    {
      "cell_type": "markdown",
      "metadata": {
        "id": "pUmUec7p1c0k"
      },
      "source": [
        "Se muestran todos los empleados que trabajan en algun departamento, en esta consulta se excluyen empleados que no trabajan en ningun departamento y departamentos que no tienen ningun empleado.\n",
        "\n",
        "Veamos ahora la siguiente consulta"
      ]
    },
    {
      "cell_type": "code",
      "metadata": {
        "id": "oXsE9EOJ1c0k",
        "outputId": "b0f67eeb-759d-4f27-a3af-33527fc4e663"
      },
      "source": [
        "%%sql\n",
        "select empleado.nombre, departamento.nombre from empleado\n",
        "INNER JOIN\n",
        "departamento ON empleado.departamento_id = departamento.departamento_id;"
      ],
      "execution_count": null,
      "outputs": [
        {
          "name": "stdout",
          "output_type": "stream",
          "text": [
            " * sqlite:///love4pets.db\n",
            "Done.\n"
          ]
        },
        {
          "data": {
            "text/html": [
              "<table>\n",
              "    <tr>\n",
              "        <th>nombre</th>\n",
              "        <th>nombre_1</th>\n",
              "    </tr>\n",
              "    <tr>\n",
              "        <td>Andres Riera Herrera</td>\n",
              "        <td>informatica</td>\n",
              "    </tr>\n",
              "    <tr>\n",
              "        <td>Lucas Serrano Caballero</td>\n",
              "        <td>ventas</td>\n",
              "    </tr>\n",
              "    <tr>\n",
              "        <td>Pablo Pons Sanz</td>\n",
              "        <td>finanzas</td>\n",
              "    </tr>\n",
              "    <tr>\n",
              "        <td>Saul Moreno Santos</td>\n",
              "        <td>finanzas</td>\n",
              "    </tr>\n",
              "    <tr>\n",
              "        <td>Nil Soler Diez</td>\n",
              "        <td>veterinario</td>\n",
              "    </tr>\n",
              "    <tr>\n",
              "        <td>Sergio Reyes Gallardo</td>\n",
              "        <td>veterinario</td>\n",
              "    </tr>\n",
              "    <tr>\n",
              "        <td>Isaac Jimenez Ortiz</td>\n",
              "        <td>recursos humanos</td>\n",
              "    </tr>\n",
              "    <tr>\n",
              "        <td>Guillermo Vidal Gomez</td>\n",
              "        <td>recursos humanos</td>\n",
              "    </tr>\n",
              "    <tr>\n",
              "        <td>Daniel Quintero Quintero</td>\n",
              "        <td>informatica</td>\n",
              "    </tr>\n",
              "    <tr>\n",
              "        <td>Miguel Soto</td>\n",
              "        <td>informatica</td>\n",
              "    </tr>\n",
              "    <tr>\n",
              "        <td>Alejandro Fernandez</td>\n",
              "        <td>informatica</td>\n",
              "    </tr>\n",
              "</table>"
            ],
            "text/plain": [
              "[('Andres Riera Herrera', 'informatica'),\n",
              " ('Lucas Serrano Caballero', 'ventas'),\n",
              " ('Pablo Pons Sanz', 'finanzas'),\n",
              " ('Saul Moreno Santos', 'finanzas'),\n",
              " ('Nil Soler Diez', 'veterinario'),\n",
              " ('Sergio Reyes Gallardo', 'veterinario'),\n",
              " ('Isaac Jimenez Ortiz', 'recursos humanos'),\n",
              " ('Guillermo Vidal Gomez', 'recursos humanos'),\n",
              " ('Daniel Quintero Quintero', 'informatica'),\n",
              " ('Miguel Soto', 'informatica'),\n",
              " ('Alejandro Fernandez', 'informatica')]"
            ]
          },
          "execution_count": 24,
          "metadata": {},
          "output_type": "execute_result"
        }
      ]
    },
    {
      "cell_type": "markdown",
      "metadata": {
        "id": "Ic_JmRST1c0k"
      },
      "source": [
        "Esta instrucción realiza la misma consulta que el comando anterior, es decir muestra los empleados que trabajan en algun departamento"
      ]
    },
    {
      "cell_type": "markdown",
      "metadata": {
        "id": "OhTjgRxv1c0k"
      },
      "source": [
        "#### **Left JOIN**:\n",
        "Retorna los registros de la tabla \"izquierda\" o la primera tabla, y los registros que coinciden con la segunda tabla, excluyendo los registros que se encuentren en la segunda tabla pero que no hagan match con la primera.\n",
        "![Texto alternativo](https://raw.githubusercontent.com/dasesu/practicasql/master/imagenes/left%20join.png)\n",
        "\n",
        "Sintaxis del LEFT JOIN\n",
        "```sql\n",
        "select campo1, campo2, campoN FROM tabla1 LEFT JOIN tabla2 ON tabla1.campo = tabla2.campo;\n",
        "```\n",
        "\n",
        "Veamos un ejemplo:  "
      ]
    },
    {
      "cell_type": "code",
      "metadata": {
        "id": "GFhKJ5nE1c0k",
        "outputId": "7091f98e-9156-41c1-e861-2e47a5150317"
      },
      "source": [
        "%%sql\n",
        "select empleado.nombre, departamento.nombre from empleado\n",
        "LEFT JOIN\n",
        "departamento ON empleado.departamento_id = departamento.departamento_id;"
      ],
      "execution_count": null,
      "outputs": [
        {
          "name": "stdout",
          "output_type": "stream",
          "text": [
            " * sqlite:///love4pets.db\n",
            "Done.\n"
          ]
        },
        {
          "data": {
            "text/html": [
              "<table>\n",
              "    <tr>\n",
              "        <th>nombre</th>\n",
              "        <th>nombre_1</th>\n",
              "    </tr>\n",
              "    <tr>\n",
              "        <td>Andres Riera Herrera</td>\n",
              "        <td>informatica</td>\n",
              "    </tr>\n",
              "    <tr>\n",
              "        <td>Lucas Serrano Caballero</td>\n",
              "        <td>ventas</td>\n",
              "    </tr>\n",
              "    <tr>\n",
              "        <td>Pablo Pons Sanz</td>\n",
              "        <td>finanzas</td>\n",
              "    </tr>\n",
              "    <tr>\n",
              "        <td>Saul Moreno Santos</td>\n",
              "        <td>finanzas</td>\n",
              "    </tr>\n",
              "    <tr>\n",
              "        <td>Nil Soler Diez</td>\n",
              "        <td>veterinario</td>\n",
              "    </tr>\n",
              "    <tr>\n",
              "        <td>Sergio Reyes Gallardo</td>\n",
              "        <td>veterinario</td>\n",
              "    </tr>\n",
              "    <tr>\n",
              "        <td>Isaac Jimenez Ortiz</td>\n",
              "        <td>recursos humanos</td>\n",
              "    </tr>\n",
              "    <tr>\n",
              "        <td>Guillermo Vidal Gomez</td>\n",
              "        <td>recursos humanos</td>\n",
              "    </tr>\n",
              "    <tr>\n",
              "        <td>Daniel Quintero Quintero</td>\n",
              "        <td>informatica</td>\n",
              "    </tr>\n",
              "    <tr>\n",
              "        <td>Juan Manuel Olivares</td>\n",
              "        <td>None</td>\n",
              "    </tr>\n",
              "    <tr>\n",
              "        <td>Miguel Soto</td>\n",
              "        <td>informatica</td>\n",
              "    </tr>\n",
              "    <tr>\n",
              "        <td>Alejandro Fernandez</td>\n",
              "        <td>informatica</td>\n",
              "    </tr>\n",
              "</table>"
            ],
            "text/plain": [
              "[('Andres Riera Herrera', 'informatica'),\n",
              " ('Lucas Serrano Caballero', 'ventas'),\n",
              " ('Pablo Pons Sanz', 'finanzas'),\n",
              " ('Saul Moreno Santos', 'finanzas'),\n",
              " ('Nil Soler Diez', 'veterinario'),\n",
              " ('Sergio Reyes Gallardo', 'veterinario'),\n",
              " ('Isaac Jimenez Ortiz', 'recursos humanos'),\n",
              " ('Guillermo Vidal Gomez', 'recursos humanos'),\n",
              " ('Daniel Quintero Quintero', 'informatica'),\n",
              " ('Juan Manuel Olivares', None),\n",
              " ('Miguel Soto', 'informatica'),\n",
              " ('Alejandro Fernandez', 'informatica')]"
            ]
          },
          "execution_count": 23,
          "metadata": {},
          "output_type": "execute_result"
        }
      ]
    },
    {
      "cell_type": "markdown",
      "metadata": {
        "id": "HC0l3ZfK1c0l"
      },
      "source": [
        "En el resultado anterior observe que el empleado \"Juan Manuel Olivares\" no está asociado a ningun departamento, sin embargo este es mostrado porque forma parte de la tabla1, pero no en la tabla2\n"
      ]
    },
    {
      "cell_type": "markdown",
      "metadata": {
        "id": "B2fT8KfT1c0l"
      },
      "source": [
        "#### **Right JOIN**:\n",
        "Retorna los registros de la tabla \"derecha\" o la segunda tabla, y los registros que coinciden con la primera tabla, excluyendo los registros que se encuentren en la primera tabla pero que no hagan match con la segunda.\n",
        "\n",
        "![Texto alternativo](https://raw.githubusercontent.com/dasesu/practicasql/master/imagenes/right%20join.png)\n",
        "\n",
        "Sintaxis del RIGHT JOIN\n",
        "```sql\n",
        "select campo1, campo2, campoN FROM tabla1 RIGHT JOIN tabla2 ON tabla1.campo = tabla2.campo;\n",
        "```\n",
        "\n",
        "**Esta instrucción no es reconocida por Sqlite3, por lo que al tratar de ejecutar esta sentencia se obtendrá un error.**\n",
        "\n",
        "Sin embargo esta instrucción puede construirse usando un LEFT JOIN invirtiendo el orden de las tablas.\n",
        "\n",
        "Veamos un ejemplo. ( El siguiente es un error provocado de forma intencional )"
      ]
    },
    {
      "cell_type": "code",
      "metadata": {
        "id": "i_4TY8d01c0l",
        "outputId": "3630838e-0bb0-4537-d14c-2866b0eae050"
      },
      "source": [
        "%%sql\n",
        "select empleado.nombre, departamento.nombre from empleado\n",
        "RIGHT JOIN\n",
        "departamento ON empleado.departamento_id = departamento.departamento_id;"
      ],
      "execution_count": null,
      "outputs": [
        {
          "name": "stdout",
          "output_type": "stream",
          "text": [
            " * sqlite:///love4pets.db\n",
            "(sqlite3.OperationalError) RIGHT and FULL OUTER JOINs are not currently supported\n",
            "[SQL: select empleado.nombre, departamento.nombre from empleado\n",
            "RIGHT JOIN\n",
            "departamento ON empleado.departamento_id = departamento.departamento_id;]\n",
            "(Background on this error at: https://sqlalche.me/e/14/e3q8)\n"
          ]
        }
      ]
    },
    {
      "cell_type": "markdown",
      "metadata": {
        "id": "_ZFI4LEw1c0l"
      },
      "source": [
        "El siguiente código arroja el mismo resultado que debería arrojar el RIGHT JOIN, haciendo uso del LEFT JOIN, invirtiendo las la posición de las tablas"
      ]
    },
    {
      "cell_type": "code",
      "metadata": {
        "id": "X0CKjo-C1c0m",
        "outputId": "c2a6db3a-0943-4fe6-b248-5c693ad80d4d"
      },
      "source": [
        "%%sql\n",
        "select departamento.nombre, empleado.nombre from departamento\n",
        "LEFT JOIN\n",
        "empleado ON empleado.departamento_id = departamento.departamento_id;"
      ],
      "execution_count": null,
      "outputs": [
        {
          "name": "stdout",
          "output_type": "stream",
          "text": [
            " * sqlite:///love4pets.db\n",
            "Done.\n"
          ]
        },
        {
          "data": {
            "text/html": [
              "<table>\n",
              "    <tr>\n",
              "        <th>nombre</th>\n",
              "        <th>nombre_1</th>\n",
              "    </tr>\n",
              "    <tr>\n",
              "        <td>finanzas</td>\n",
              "        <td>Pablo Pons Sanz</td>\n",
              "    </tr>\n",
              "    <tr>\n",
              "        <td>finanzas</td>\n",
              "        <td>Saul Moreno Santos</td>\n",
              "    </tr>\n",
              "    <tr>\n",
              "        <td>ventas</td>\n",
              "        <td>Lucas Serrano Caballero</td>\n",
              "    </tr>\n",
              "    <tr>\n",
              "        <td>recursos humanos</td>\n",
              "        <td>Guillermo Vidal Gomez</td>\n",
              "    </tr>\n",
              "    <tr>\n",
              "        <td>recursos humanos</td>\n",
              "        <td>Isaac Jimenez Ortiz</td>\n",
              "    </tr>\n",
              "    <tr>\n",
              "        <td>marketing</td>\n",
              "        <td>None</td>\n",
              "    </tr>\n",
              "    <tr>\n",
              "        <td>veterinario</td>\n",
              "        <td>Nil Soler Diez</td>\n",
              "    </tr>\n",
              "    <tr>\n",
              "        <td>veterinario</td>\n",
              "        <td>Sergio Reyes Gallardo</td>\n",
              "    </tr>\n",
              "    <tr>\n",
              "        <td>informatica</td>\n",
              "        <td>Alejandro Fernandez</td>\n",
              "    </tr>\n",
              "    <tr>\n",
              "        <td>informatica</td>\n",
              "        <td>Andres Riera Herrera</td>\n",
              "    </tr>\n",
              "    <tr>\n",
              "        <td>informatica</td>\n",
              "        <td>Daniel Quintero Quintero</td>\n",
              "    </tr>\n",
              "    <tr>\n",
              "        <td>informatica</td>\n",
              "        <td>Miguel Soto</td>\n",
              "    </tr>\n",
              "    <tr>\n",
              "        <td>investigacion</td>\n",
              "        <td>None</td>\n",
              "    </tr>\n",
              "</table>"
            ],
            "text/plain": [
              "[('finanzas', 'Pablo Pons Sanz'),\n",
              " ('finanzas', 'Saul Moreno Santos'),\n",
              " ('ventas', 'Lucas Serrano Caballero'),\n",
              " ('recursos humanos', 'Guillermo Vidal Gomez'),\n",
              " ('recursos humanos', 'Isaac Jimenez Ortiz'),\n",
              " ('marketing', None),\n",
              " ('veterinario', 'Nil Soler Diez'),\n",
              " ('veterinario', 'Sergio Reyes Gallardo'),\n",
              " ('informatica', 'Alejandro Fernandez'),\n",
              " ('informatica', 'Andres Riera Herrera'),\n",
              " ('informatica', 'Daniel Quintero Quintero'),\n",
              " ('informatica', 'Miguel Soto'),\n",
              " ('investigacion', None)]"
            ]
          },
          "execution_count": 26,
          "metadata": {},
          "output_type": "execute_result"
        }
      ]
    },
    {
      "cell_type": "markdown",
      "metadata": {
        "id": "CgfjG3Xa1c0m"
      },
      "source": [
        "<div style=\"background-color: #81F781\">\n",
        " <h1> Ejercicio 7. </h1><br>\n",
        "   Considerando la tabla \"cliente\" y la tabla \"mascota\" las cuales tienen una relación uno a muchos, como se muestra a continuación.\n",
        "   \n",
        "   ![relacionclientemascota.png](attachment:relacionclientemascota.png)\n",
        "    \n",
        " Indique los clientes que no tienen mascota registrada.\n",
        " <br><br>\n",
        "</div>"
      ]
    },
    {
      "cell_type": "code",
      "metadata": {
        "id": "CqXqjsF-1c0m",
        "outputId": "7dc4119f-2fa8-474a-e0af-f24027df3364"
      },
      "source": [
        "%%sql select cliente.cliente_id, cliente.nombre, mascota.nombre from cliente\n",
        " left JOIN\n",
        "mascota ON mascota.cliente_id = cliente.cliente_id where mascota.mascota_id is null"
      ],
      "execution_count": null,
      "outputs": [
        {
          "name": "stdout",
          "output_type": "stream",
          "text": [
            " * sqlite:///love4pets.db\n",
            "Done.\n"
          ]
        },
        {
          "data": {
            "text/html": [
              "<table>\n",
              "    <tr>\n",
              "        <th>cliente_id</th>\n",
              "        <th>nombre</th>\n",
              "        <th>nombre_1</th>\n",
              "    </tr>\n",
              "    <tr>\n",
              "        <td>1</td>\n",
              "        <td>Mario Flores Gallardo</td>\n",
              "        <td>None</td>\n",
              "    </tr>\n",
              "    <tr>\n",
              "        <td>4</td>\n",
              "        <td>Jan Vargas Santana</td>\n",
              "        <td>None</td>\n",
              "    </tr>\n",
              "    <tr>\n",
              "        <td>9</td>\n",
              "        <td>Aitor Ruiz Sanchez</td>\n",
              "        <td>None</td>\n",
              "    </tr>\n",
              "    <tr>\n",
              "        <td>10</td>\n",
              "        <td>Eric Rubio Carrasco</td>\n",
              "        <td>None</td>\n",
              "    </tr>\n",
              "    <tr>\n",
              "        <td>12</td>\n",
              "        <td>Jesus Medina Hernandez</td>\n",
              "        <td>None</td>\n",
              "    </tr>\n",
              "    <tr>\n",
              "        <td>13</td>\n",
              "        <td>Pol Moya Pena</td>\n",
              "        <td>None</td>\n",
              "    </tr>\n",
              "    <tr>\n",
              "        <td>15</td>\n",
              "        <td>Manuel Angel Gil</td>\n",
              "        <td>None</td>\n",
              "    </tr>\n",
              "</table>"
            ],
            "text/plain": [
              "[(1, 'Mario Flores Gallardo', None),\n",
              " (4, 'Jan Vargas Santana', None),\n",
              " (9, 'Aitor Ruiz Sanchez', None),\n",
              " (10, 'Eric Rubio Carrasco', None),\n",
              " (12, 'Jesus Medina Hernandez', None),\n",
              " (13, 'Pol Moya Pena', None),\n",
              " (15, 'Manuel Angel Gil', None)]"
            ]
          },
          "execution_count": 11,
          "metadata": {},
          "output_type": "execute_result"
        }
      ]
    },
    {
      "cell_type": "code",
      "metadata": {
        "id": "Ci8YWJIg1c0m",
        "outputId": "76876e5e-6ae1-43cc-c18e-7ab08911e037"
      },
      "source": [
        "%sql select * from cliente"
      ],
      "execution_count": null,
      "outputs": [
        {
          "name": "stdout",
          "output_type": "stream",
          "text": [
            " * sqlite:///love4pets.db\n",
            "Done.\n"
          ]
        },
        {
          "data": {
            "text/html": [
              "<table>\n",
              "    <tr>\n",
              "        <th>cliente_id</th>\n",
              "        <th>nombre</th>\n",
              "        <th>email</th>\n",
              "        <th>telefono</th>\n",
              "        <th>contacto</th>\n",
              "        <th>telefono_contacto</th>\n",
              "        <th>ciudad</th>\n",
              "    </tr>\n",
              "    <tr>\n",
              "        <td>1</td>\n",
              "        <td>Mario Flores Gallardo</td>\n",
              "        <td>marioflores@gmail.com</td>\n",
              "        <td>036-15-36</td>\n",
              "        <td>Aintzane Alvarez Iglesias</td>\n",
              "        <td>210-35-57</td>\n",
              "        <td>Madrid</td>\n",
              "    </tr>\n",
              "    <tr>\n",
              "        <td>2</td>\n",
              "        <td>Arnau Medina Garcia</td>\n",
              "        <td>arnaumedina@gmail.com</td>\n",
              "        <td>094-10-88</td>\n",
              "        <td></td>\n",
              "        <td></td>\n",
              "        <td>Madrid</td>\n",
              "    </tr>\n",
              "    <tr>\n",
              "        <td>3</td>\n",
              "        <td>Ivan Medina Rubio</td>\n",
              "        <td>ivanmedina@gmail.com</td>\n",
              "        <td>083-08-72</td>\n",
              "        <td>Javier Domenech</td>\n",
              "        <td>488-48-46</td>\n",
              "        <td>Toledo</td>\n",
              "    </tr>\n",
              "    <tr>\n",
              "        <td>4</td>\n",
              "        <td>Jan Vargas Santana</td>\n",
              "        <td>vargasjan@gmail.com</td>\n",
              "        <td>780-65-24</td>\n",
              "        <td></td>\n",
              "        <td></td>\n",
              "        <td>Madrid</td>\n",
              "    </tr>\n",
              "    <tr>\n",
              "        <td>5</td>\n",
              "        <td>Carlos Costa Guerrero</td>\n",
              "        <td>carloscostag@gmail.com</td>\n",
              "        <td>180-65-24</td>\n",
              "        <td>Cristian Jimenez</td>\n",
              "        <td>801-28-09</td>\n",
              "        <td>Madrid</td>\n",
              "    </tr>\n",
              "    <tr>\n",
              "        <td>6</td>\n",
              "        <td>Roberto Martin Ortega</td>\n",
              "        <td>robertmartin@gmail.com</td>\n",
              "        <td>742-63-27</td>\n",
              "        <td>Jorge Vila Gallardo</td>\n",
              "        <td>564-52-13</td>\n",
              "        <td>Madrid</td>\n",
              "    </tr>\n",
              "    <tr>\n",
              "        <td>7</td>\n",
              "        <td>Gabriel Gonzalez Ortega</td>\n",
              "        <td>gabogonzo@gmail.com</td>\n",
              "        <td>780-13-14</td>\n",
              "        <td>Miguel Bosch Parra</td>\n",
              "        <td>882-17-20</td>\n",
              "        <td>Madrid</td>\n",
              "    </tr>\n",
              "    <tr>\n",
              "        <td>8</td>\n",
              "        <td>Rayan Leon Ferrer</td>\n",
              "        <td>rayito@gmail.com</td>\n",
              "        <td>430-65-24</td>\n",
              "        <td>Santiago Perez Ramos</td>\n",
              "        <td>577-21-24</td>\n",
              "        <td>Madrid</td>\n",
              "    </tr>\n",
              "    <tr>\n",
              "        <td>9</td>\n",
              "        <td>Aitor Ruiz Sanchez</td>\n",
              "        <td>aitorsanchez@gmail.com</td>\n",
              "        <td>780-77-24</td>\n",
              "        <td>Gabriel Gonzalez Ortega</td>\n",
              "        <td>784-96-31</td>\n",
              "        <td>Madrid</td>\n",
              "    </tr>\n",
              "    <tr>\n",
              "        <td>10</td>\n",
              "        <td>Eric Rubio Carrasco</td>\n",
              "        <td>ericrubio@gmail.com</td>\n",
              "        <td>780-65-79</td>\n",
              "        <td>Cristian Jimenez Martinez</td>\n",
              "        <td>147-01-12</td>\n",
              "        <td>Madrid</td>\n",
              "    </tr>\n",
              "    <tr>\n",
              "        <td>11</td>\n",
              "        <td>Alberto Sanz Ruiz</td>\n",
              "        <td>albert@gmail.com</td>\n",
              "        <td>781-15-24</td>\n",
              "        <td>Gabriel Gonzalez Ortega</td>\n",
              "        <td>028-51-21</td>\n",
              "        <td>Madrid</td>\n",
              "    </tr>\n",
              "    <tr>\n",
              "        <td>12</td>\n",
              "        <td>Jesus Medina Hernandez</td>\n",
              "        <td>jmedinah@gmail.com</td>\n",
              "        <td>782-35-25</td>\n",
              "        <td>Vctor Gonzalez Castillo</td>\n",
              "        <td>661-85-12</td>\n",
              "        <td>Madrid</td>\n",
              "    </tr>\n",
              "    <tr>\n",
              "        <td>13</td>\n",
              "        <td>Pol Moya Pena</td>\n",
              "        <td>polmoya@gmail.com</td>\n",
              "        <td>780-25-24</td>\n",
              "        <td></td>\n",
              "        <td></td>\n",
              "        <td>Toledo</td>\n",
              "    </tr>\n",
              "    <tr>\n",
              "        <td>14</td>\n",
              "        <td>Jose Gallardo Rodriguez</td>\n",
              "        <td>josegallardo@gmail.com</td>\n",
              "        <td>783-65-11</td>\n",
              "        <td>Hector Martin Morales</td>\n",
              "        <td>867-97-99</td>\n",
              "        <td>Madrid</td>\n",
              "    </tr>\n",
              "    <tr>\n",
              "        <td>15</td>\n",
              "        <td>Manuel Angel Gil</td>\n",
              "        <td>manano@gmail.com</td>\n",
              "        <td>733-65-16</td>\n",
              "        <td>Hector Navarro</td>\n",
              "        <td>067-97-91</td>\n",
              "        <td>Madrid</td>\n",
              "    </tr>\n",
              "</table>"
            ],
            "text/plain": [
              "[(1, 'Mario Flores Gallardo', 'marioflores@gmail.com', '036-15-36', 'Aintzane Alvarez Iglesias', '210-35-57', 'Madrid'),\n",
              " (2, 'Arnau Medina Garcia', 'arnaumedina@gmail.com', '094-10-88', '', '', 'Madrid'),\n",
              " (3, 'Ivan Medina Rubio', 'ivanmedina@gmail.com', '083-08-72', 'Javier Domenech', '488-48-46', 'Toledo'),\n",
              " (4, 'Jan Vargas Santana', 'vargasjan@gmail.com', '780-65-24', '', '', 'Madrid'),\n",
              " (5, 'Carlos Costa Guerrero', 'carloscostag@gmail.com', '180-65-24', 'Cristian Jimenez', '801-28-09', 'Madrid'),\n",
              " (6, 'Roberto Martin Ortega', 'robertmartin@gmail.com', '742-63-27', 'Jorge Vila Gallardo', '564-52-13', 'Madrid'),\n",
              " (7, 'Gabriel Gonzalez Ortega', 'gabogonzo@gmail.com', '780-13-14', 'Miguel Bosch Parra', '882-17-20', 'Madrid'),\n",
              " (8, 'Rayan Leon Ferrer', 'rayito@gmail.com', '430-65-24', 'Santiago Perez Ramos', '577-21-24', 'Madrid'),\n",
              " (9, 'Aitor Ruiz Sanchez', 'aitorsanchez@gmail.com', '780-77-24', 'Gabriel Gonzalez Ortega', '784-96-31', 'Madrid'),\n",
              " (10, 'Eric Rubio Carrasco', 'ericrubio@gmail.com', '780-65-79', 'Cristian Jimenez Martinez', '147-01-12', 'Madrid'),\n",
              " (11, 'Alberto Sanz Ruiz', 'albert@gmail.com', '781-15-24', 'Gabriel Gonzalez Ortega', '028-51-21', 'Madrid'),\n",
              " (12, 'Jesus Medina Hernandez', 'jmedinah@gmail.com', '782-35-25', 'Vctor Gonzalez Castillo', '661-85-12', 'Madrid'),\n",
              " (13, 'Pol Moya Pena', 'polmoya@gmail.com', '780-25-24', '', '', 'Toledo'),\n",
              " (14, 'Jose Gallardo Rodriguez', 'josegallardo@gmail.com', '783-65-11', 'Hector Martin Morales', '867-97-99', 'Madrid'),\n",
              " (15, 'Manuel Angel Gil', 'manano@gmail.com', '733-65-16', 'Hector Navarro', '067-97-91', 'Madrid')]"
            ]
          },
          "execution_count": 88,
          "metadata": {},
          "output_type": "execute_result"
        }
      ]
    },
    {
      "cell_type": "code",
      "metadata": {
        "id": "laEgpncU1c0m",
        "outputId": "3dd0cbb5-9e22-47a6-d3ab-efeeb9b87d8b"
      },
      "source": [
        "%sql select * from mascota"
      ],
      "execution_count": null,
      "outputs": [
        {
          "name": "stdout",
          "output_type": "stream",
          "text": [
            " * sqlite:///love4pets.db\n",
            "Done.\n"
          ]
        },
        {
          "data": {
            "text/html": [
              "<table>\n",
              "    <tr>\n",
              "        <th>mascota_id</th>\n",
              "        <th>nombre</th>\n",
              "        <th>cliente_id</th>\n",
              "        <th>especie</th>\n",
              "        <th>raza</th>\n",
              "        <th>fecha_nacimiento</th>\n",
              "    </tr>\n",
              "    <tr>\n",
              "        <td>1</td>\n",
              "        <td>Luna</td>\n",
              "        <td>2</td>\n",
              "        <td>gato</td>\n",
              "        <td>mestizo</td>\n",
              "        <td>2009-01-01 00:00:000</td>\n",
              "    </tr>\n",
              "    <tr>\n",
              "        <td>2</td>\n",
              "        <td>Sole</td>\n",
              "        <td>3</td>\n",
              "        <td>gato</td>\n",
              "        <td>mestizo</td>\n",
              "        <td>2010-02-01 00:00:000</td>\n",
              "    </tr>\n",
              "    <tr>\n",
              "        <td>3</td>\n",
              "        <td>Mida</td>\n",
              "        <td>3</td>\n",
              "        <td>perro</td>\n",
              "        <td>Caint terrier</td>\n",
              "        <td>2007-02-03 00:00:000</td>\n",
              "    </tr>\n",
              "    <tr>\n",
              "        <td>4</td>\n",
              "        <td>Tara</td>\n",
              "        <td>5</td>\n",
              "        <td>perro</td>\n",
              "        <td>Puddle</td>\n",
              "        <td>2006-02-03 00:00:000</td>\n",
              "    </tr>\n",
              "    <tr>\n",
              "        <td>5</td>\n",
              "        <td>Pelusa</td>\n",
              "        <td>6</td>\n",
              "        <td>perro</td>\n",
              "        <td>Puddle</td>\n",
              "        <td>2008-02-03 00:00:000</td>\n",
              "    </tr>\n",
              "    <tr>\n",
              "        <td>6</td>\n",
              "        <td>irene</td>\n",
              "        <td>7</td>\n",
              "        <td>gato</td>\n",
              "        <td>siames</td>\n",
              "        <td>2015-02-03 00:00:000</td>\n",
              "    </tr>\n",
              "    <tr>\n",
              "        <td>7</td>\n",
              "        <td>sara</td>\n",
              "        <td>8</td>\n",
              "        <td>gato</td>\n",
              "        <td>mestizo</td>\n",
              "        <td>2016-05-01 00:00:000</td>\n",
              "    </tr>\n",
              "    <tr>\n",
              "        <td>8</td>\n",
              "        <td>milo</td>\n",
              "        <td>11</td>\n",
              "        <td>gato</td>\n",
              "        <td>mestizo</td>\n",
              "        <td>2016-09-01 00:00:000</td>\n",
              "    </tr>\n",
              "    <tr>\n",
              "        <td>9</td>\n",
              "        <td>oliver</td>\n",
              "        <td>11</td>\n",
              "        <td>gato</td>\n",
              "        <td>mestizo</td>\n",
              "        <td>2016-07-07 00:00:000</td>\n",
              "    </tr>\n",
              "    <tr>\n",
              "        <td>10</td>\n",
              "        <td>Duke</td>\n",
              "        <td>14</td>\n",
              "        <td>perro</td>\n",
              "        <td>Pastor Aleman</td>\n",
              "        <td>2011-05-03 00:00:000</td>\n",
              "    </tr>\n",
              "</table>"
            ],
            "text/plain": [
              "[(1, 'Luna', 2, 'gato', 'mestizo', '2009-01-01 00:00:000'),\n",
              " (2, 'Sole', 3, 'gato', 'mestizo', '2010-02-01 00:00:000'),\n",
              " (3, 'Mida', 3, 'perro', 'Caint terrier', '2007-02-03 00:00:000'),\n",
              " (4, 'Tara', 5, 'perro', 'Puddle', '2006-02-03 00:00:000'),\n",
              " (5, 'Pelusa', 6, 'perro', 'Puddle', '2008-02-03 00:00:000'),\n",
              " (6, 'irene', 7, 'gato', 'siames', '2015-02-03 00:00:000'),\n",
              " (7, 'sara', 8, 'gato', 'mestizo', '2016-05-01 00:00:000'),\n",
              " (8, 'milo', 11, 'gato', 'mestizo', '2016-09-01 00:00:000'),\n",
              " (9, 'oliver', 11, 'gato', 'mestizo', '2016-07-07 00:00:000'),\n",
              " (10, 'Duke', 14, 'perro', 'Pastor Aleman', '2011-05-03 00:00:000')]"
            ]
          },
          "execution_count": 63,
          "metadata": {},
          "output_type": "execute_result"
        }
      ]
    },
    {
      "cell_type": "markdown",
      "metadata": {
        "id": "NiEq1OpG1c0n"
      },
      "source": [
        "### Operador UNION\n",
        "Es usado para combinar resultados de varias consultas en una sola vista.\n",
        "* Cada Instrucción SELECT involucrada en la operación UNION tiene que tener la misma cantidad de columnas.\n",
        "* Las columnas ademas tienen que tener los mismos tipos de datos.\n",
        "\n",
        "**Sintaxis de la Operación UNION**\n",
        "```sql\n",
        "SELECT column_name(s) FROM table1\n",
        "UNION\n",
        "SELECT column_name(s) FROM table2; \n",
        "```"
      ]
    },
    {
      "cell_type": "code",
      "metadata": {
        "id": "BGNiBbSD1c0n",
        "outputId": "da7250e9-34e0-43fd-9274-7e611b6ab815"
      },
      "source": [
        "%%sql\n",
        "select empleado_id, nombre,email,telefono from empleado\n",
        "UNION\n",
        "select cliente_id, nombre,email,telefono from cliente"
      ],
      "execution_count": null,
      "outputs": [
        {
          "name": "stdout",
          "output_type": "stream",
          "text": [
            " * sqlite:///love4pets.db\n",
            "Done.\n"
          ]
        },
        {
          "data": {
            "text/html": [
              "<table>\n",
              "    <tr>\n",
              "        <th>empleado_id</th>\n",
              "        <th>nombre</th>\n",
              "        <th>email</th>\n",
              "        <th>telefono</th>\n",
              "    </tr>\n",
              "    <tr>\n",
              "        <td>1</td>\n",
              "        <td>Andres Riera Herrera</td>\n",
              "        <td>andresr@gmail.com</td>\n",
              "        <td>200-88-76</td>\n",
              "    </tr>\n",
              "    <tr>\n",
              "        <td>1</td>\n",
              "        <td>Mario Flores Gallardo</td>\n",
              "        <td>marioflores@gmail.com</td>\n",
              "        <td>036-15-36</td>\n",
              "    </tr>\n",
              "    <tr>\n",
              "        <td>2</td>\n",
              "        <td>Arnau Medina Garcia</td>\n",
              "        <td>arnaumedina@gmail.com</td>\n",
              "        <td>094-10-88</td>\n",
              "    </tr>\n",
              "    <tr>\n",
              "        <td>2</td>\n",
              "        <td>Lucas Serrano Caballero</td>\n",
              "        <td>lucas99@gmail.com</td>\n",
              "        <td>115-24-36</td>\n",
              "    </tr>\n",
              "    <tr>\n",
              "        <td>3</td>\n",
              "        <td>Ivan Medina Rubio</td>\n",
              "        <td>ivanmedina@gmail.com</td>\n",
              "        <td>083-08-72</td>\n",
              "    </tr>\n",
              "    <tr>\n",
              "        <td>3</td>\n",
              "        <td>Pablo Pons Sanz</td>\n",
              "        <td>ppsanz@gmail.com</td>\n",
              "        <td>748-72-75</td>\n",
              "    </tr>\n",
              "    <tr>\n",
              "        <td>4</td>\n",
              "        <td>Jan Vargas Santana</td>\n",
              "        <td>vargasjan@gmail.com</td>\n",
              "        <td>780-65-24</td>\n",
              "    </tr>\n",
              "    <tr>\n",
              "        <td>4</td>\n",
              "        <td>Saul Moreno Santos</td>\n",
              "        <td>saul.morenosantos@gmail.com</td>\n",
              "        <td>346-87-27</td>\n",
              "    </tr>\n",
              "    <tr>\n",
              "        <td>5</td>\n",
              "        <td>Carlos Costa Guerrero</td>\n",
              "        <td>carloscostag@gmail.com</td>\n",
              "        <td>180-65-24</td>\n",
              "    </tr>\n",
              "    <tr>\n",
              "        <td>5</td>\n",
              "        <td>Nil Soler Diez</td>\n",
              "        <td>nilsoler@gmail.com</td>\n",
              "        <td>576-84-28</td>\n",
              "    </tr>\n",
              "    <tr>\n",
              "        <td>6</td>\n",
              "        <td>Roberto Martin Ortega</td>\n",
              "        <td>robertmartin@gmail.com</td>\n",
              "        <td>742-63-27</td>\n",
              "    </tr>\n",
              "    <tr>\n",
              "        <td>6</td>\n",
              "        <td>Sergio Reyes Gallardo</td>\n",
              "        <td>zerg@gmail.com</td>\n",
              "        <td>598-95-67</td>\n",
              "    </tr>\n",
              "    <tr>\n",
              "        <td>7</td>\n",
              "        <td>Gabriel Gonzalez Ortega</td>\n",
              "        <td>gabogonzo@gmail.com</td>\n",
              "        <td>780-13-14</td>\n",
              "    </tr>\n",
              "    <tr>\n",
              "        <td>7</td>\n",
              "        <td>Isaac Jimenez Ortiz</td>\n",
              "        <td>isaacortiz@gmail.com</td>\n",
              "        <td>370-19-65</td>\n",
              "    </tr>\n",
              "    <tr>\n",
              "        <td>8</td>\n",
              "        <td>Guillermo Vidal Gomez</td>\n",
              "        <td>guillevidal@gmail.com</td>\n",
              "        <td>099-05-68</td>\n",
              "    </tr>\n",
              "    <tr>\n",
              "        <td>8</td>\n",
              "        <td>Rayan Leon Ferrer</td>\n",
              "        <td>rayito@gmail.com</td>\n",
              "        <td>430-65-24</td>\n",
              "    </tr>\n",
              "    <tr>\n",
              "        <td>9</td>\n",
              "        <td>Aitor Ruiz Sanchez</td>\n",
              "        <td>aitorsanchez@gmail.com</td>\n",
              "        <td>780-77-24</td>\n",
              "    </tr>\n",
              "    <tr>\n",
              "        <td>9</td>\n",
              "        <td>Daniel Quintero Quintero</td>\n",
              "        <td>danielquinterox2@gmail.com</td>\n",
              "        <td>261-97-06</td>\n",
              "    </tr>\n",
              "    <tr>\n",
              "        <td>10</td>\n",
              "        <td>Eric Rubio Carrasco</td>\n",
              "        <td>ericrubio@gmail.com</td>\n",
              "        <td>780-65-79</td>\n",
              "    </tr>\n",
              "    <tr>\n",
              "        <td>10</td>\n",
              "        <td>Juan Manuel Olivares</td>\n",
              "        <td>juanma@gmail.com</td>\n",
              "        <td>269-37-06</td>\n",
              "    </tr>\n",
              "    <tr>\n",
              "        <td>11</td>\n",
              "        <td>Alberto Sanz Ruiz</td>\n",
              "        <td>albert@gmail.com</td>\n",
              "        <td>781-15-24</td>\n",
              "    </tr>\n",
              "    <tr>\n",
              "        <td>11</td>\n",
              "        <td>Miguel Soto</td>\n",
              "        <td>misoto@gmail.com</td>\n",
              "        <td>269-92-06</td>\n",
              "    </tr>\n",
              "    <tr>\n",
              "        <td>12</td>\n",
              "        <td>Alejandro Fernandez</td>\n",
              "        <td>alefer@gmail.com</td>\n",
              "        <td>119-91-16</td>\n",
              "    </tr>\n",
              "    <tr>\n",
              "        <td>12</td>\n",
              "        <td>Jesus Medina Hernandez</td>\n",
              "        <td>jmedinah@gmail.com</td>\n",
              "        <td>782-35-25</td>\n",
              "    </tr>\n",
              "    <tr>\n",
              "        <td>13</td>\n",
              "        <td>Pol Moya Pena</td>\n",
              "        <td>polmoya@gmail.com</td>\n",
              "        <td>780-25-24</td>\n",
              "    </tr>\n",
              "    <tr>\n",
              "        <td>14</td>\n",
              "        <td>Jose Gallardo Rodriguez</td>\n",
              "        <td>josegallardo@gmail.com</td>\n",
              "        <td>783-65-11</td>\n",
              "    </tr>\n",
              "    <tr>\n",
              "        <td>15</td>\n",
              "        <td>Manuel Angel Gil</td>\n",
              "        <td>manano@gmail.com</td>\n",
              "        <td>733-65-16</td>\n",
              "    </tr>\n",
              "</table>"
            ],
            "text/plain": [
              "[(1, 'Andres Riera Herrera', 'andresr@gmail.com', '200-88-76'),\n",
              " (1, 'Mario Flores Gallardo', 'marioflores@gmail.com', '036-15-36'),\n",
              " (2, 'Arnau Medina Garcia', 'arnaumedina@gmail.com', '094-10-88'),\n",
              " (2, 'Lucas Serrano Caballero', 'lucas99@gmail.com', '115-24-36'),\n",
              " (3, 'Ivan Medina Rubio', 'ivanmedina@gmail.com', '083-08-72'),\n",
              " (3, 'Pablo Pons Sanz', 'ppsanz@gmail.com', '748-72-75'),\n",
              " (4, 'Jan Vargas Santana', 'vargasjan@gmail.com', '780-65-24'),\n",
              " (4, 'Saul Moreno Santos', 'saul.morenosantos@gmail.com', '346-87-27'),\n",
              " (5, 'Carlos Costa Guerrero', 'carloscostag@gmail.com', '180-65-24'),\n",
              " (5, 'Nil Soler Diez', 'nilsoler@gmail.com', '576-84-28'),\n",
              " (6, 'Roberto Martin Ortega', 'robertmartin@gmail.com', '742-63-27'),\n",
              " (6, 'Sergio Reyes Gallardo', 'zerg@gmail.com', '598-95-67'),\n",
              " (7, 'Gabriel Gonzalez Ortega', 'gabogonzo@gmail.com', '780-13-14'),\n",
              " (7, 'Isaac Jimenez Ortiz', 'isaacortiz@gmail.com', '370-19-65'),\n",
              " (8, 'Guillermo Vidal Gomez', 'guillevidal@gmail.com', '099-05-68'),\n",
              " (8, 'Rayan Leon Ferrer', 'rayito@gmail.com', '430-65-24'),\n",
              " (9, 'Aitor Ruiz Sanchez', 'aitorsanchez@gmail.com', '780-77-24'),\n",
              " (9, 'Daniel Quintero Quintero', 'danielquinterox2@gmail.com', '261-97-06'),\n",
              " (10, 'Eric Rubio Carrasco', 'ericrubio@gmail.com', '780-65-79'),\n",
              " (10, 'Juan Manuel Olivares', 'juanma@gmail.com', '269-37-06'),\n",
              " (11, 'Alberto Sanz Ruiz', 'albert@gmail.com', '781-15-24'),\n",
              " (11, 'Miguel Soto', 'misoto@gmail.com', '269-92-06'),\n",
              " (12, 'Alejandro Fernandez', 'alefer@gmail.com', '119-91-16'),\n",
              " (12, 'Jesus Medina Hernandez', 'jmedinah@gmail.com', '782-35-25'),\n",
              " (13, 'Pol Moya Pena', 'polmoya@gmail.com', '780-25-24'),\n",
              " (14, 'Jose Gallardo Rodriguez', 'josegallardo@gmail.com', '783-65-11'),\n",
              " (15, 'Manuel Angel Gil', 'manano@gmail.com', '733-65-16')]"
            ]
          },
          "execution_count": 121,
          "metadata": {},
          "output_type": "execute_result"
        }
      ]
    },
    {
      "cell_type": "code",
      "metadata": {
        "id": "c4yxjhYp1c0n",
        "outputId": "af995865-4e5e-4f5f-c213-bf4a847fd098"
      },
      "source": [
        "%sql select * from empleado"
      ],
      "execution_count": null,
      "outputs": [
        {
          "name": "stdout",
          "output_type": "stream",
          "text": [
            " * sqlite:///love4pets.db\n",
            "Done.\n"
          ]
        },
        {
          "data": {
            "text/html": [
              "<table>\n",
              "    <tr>\n",
              "        <th>empleado_id</th>\n",
              "        <th>nombre</th>\n",
              "        <th>email</th>\n",
              "        <th>telefono</th>\n",
              "        <th>salario</th>\n",
              "        <th>fecha_ingreso</th>\n",
              "        <th>departamento_id</th>\n",
              "    </tr>\n",
              "    <tr>\n",
              "        <td>1</td>\n",
              "        <td>Andres Riera Herrera</td>\n",
              "        <td>andresr@gmail.com</td>\n",
              "        <td>200-88-76</td>\n",
              "        <td>1500</td>\n",
              "        <td>2017-05-17 00:00:000</td>\n",
              "        <td>6</td>\n",
              "    </tr>\n",
              "    <tr>\n",
              "        <td>2</td>\n",
              "        <td>Lucas Serrano Caballero</td>\n",
              "        <td>lucas99@gmail.com</td>\n",
              "        <td>115-24-36</td>\n",
              "        <td>1200</td>\n",
              "        <td>2018-05-17 00:00:000</td>\n",
              "        <td>2</td>\n",
              "    </tr>\n",
              "    <tr>\n",
              "        <td>3</td>\n",
              "        <td>Pablo Pons Sanz</td>\n",
              "        <td>ppsanz@gmail.com</td>\n",
              "        <td>748-72-75</td>\n",
              "        <td>1350</td>\n",
              "        <td>2016-07-01 00:00:000</td>\n",
              "        <td>1</td>\n",
              "    </tr>\n",
              "    <tr>\n",
              "        <td>4</td>\n",
              "        <td>Saul Moreno Santos</td>\n",
              "        <td>saul.morenosantos@gmail.com</td>\n",
              "        <td>346-87-27</td>\n",
              "        <td>1600</td>\n",
              "        <td>2016-07-01 00:00:000</td>\n",
              "        <td>1</td>\n",
              "    </tr>\n",
              "    <tr>\n",
              "        <td>5</td>\n",
              "        <td>Nil Soler Diez</td>\n",
              "        <td>nilsoler@gmail.com</td>\n",
              "        <td>576-84-28</td>\n",
              "        <td>1100</td>\n",
              "        <td>2016-04-03 00:00:000</td>\n",
              "        <td>5</td>\n",
              "    </tr>\n",
              "    <tr>\n",
              "        <td>6</td>\n",
              "        <td>Sergio Reyes Gallardo</td>\n",
              "        <td>zerg@gmail.com</td>\n",
              "        <td>598-95-67</td>\n",
              "        <td>1000</td>\n",
              "        <td>2016-04-03 00:00:000</td>\n",
              "        <td>5</td>\n",
              "    </tr>\n",
              "    <tr>\n",
              "        <td>7</td>\n",
              "        <td>Isaac Jimenez Ortiz</td>\n",
              "        <td>isaacortiz@gmail.com</td>\n",
              "        <td>370-19-65</td>\n",
              "        <td>1600</td>\n",
              "        <td>2016-07-08 00:00:000</td>\n",
              "        <td>3</td>\n",
              "    </tr>\n",
              "    <tr>\n",
              "        <td>8</td>\n",
              "        <td>Guillermo Vidal Gomez</td>\n",
              "        <td>guillevidal@gmail.com</td>\n",
              "        <td>099-05-68</td>\n",
              "        <td>1400</td>\n",
              "        <td>2016-01-03 00:00:000</td>\n",
              "        <td>3</td>\n",
              "    </tr>\n",
              "    <tr>\n",
              "        <td>9</td>\n",
              "        <td>Daniel Quintero Quintero</td>\n",
              "        <td>danielquinterox2@gmail.com</td>\n",
              "        <td>261-97-06</td>\n",
              "        <td>1500</td>\n",
              "        <td>2017-03-05 00:00:000</td>\n",
              "        <td>6</td>\n",
              "    </tr>\n",
              "    <tr>\n",
              "        <td>10</td>\n",
              "        <td>Juan Manuel Olivares</td>\n",
              "        <td>juanma@gmail.com</td>\n",
              "        <td>269-37-06</td>\n",
              "        <td>1500</td>\n",
              "        <td>2017-03-05 00:00:000</td>\n",
              "        <td>None</td>\n",
              "    </tr>\n",
              "    <tr>\n",
              "        <td>11</td>\n",
              "        <td>Miguel Soto</td>\n",
              "        <td>misoto@gmail.com</td>\n",
              "        <td>269-92-06</td>\n",
              "        <td>1900</td>\n",
              "        <td>2017-03-05 00:00:000</td>\n",
              "        <td>6</td>\n",
              "    </tr>\n",
              "    <tr>\n",
              "        <td>12</td>\n",
              "        <td>Alejandro Fernandez</td>\n",
              "        <td>alefer@gmail.com</td>\n",
              "        <td>119-91-16</td>\n",
              "        <td>1850</td>\n",
              "        <td>2017-03-05 00:00:000</td>\n",
              "        <td>6</td>\n",
              "    </tr>\n",
              "</table>"
            ],
            "text/plain": [
              "[(1, 'Andres Riera Herrera', 'andresr@gmail.com', '200-88-76', 1500, '2017-05-17 00:00:000', 6),\n",
              " (2, 'Lucas Serrano Caballero', 'lucas99@gmail.com', '115-24-36', 1200, '2018-05-17 00:00:000', 2),\n",
              " (3, 'Pablo Pons Sanz', 'ppsanz@gmail.com', '748-72-75', 1350, '2016-07-01 00:00:000', 1),\n",
              " (4, 'Saul Moreno Santos', 'saul.morenosantos@gmail.com', '346-87-27', 1600, '2016-07-01 00:00:000', 1),\n",
              " (5, 'Nil Soler Diez', 'nilsoler@gmail.com', '576-84-28', 1100, '2016-04-03 00:00:000', 5),\n",
              " (6, 'Sergio Reyes Gallardo', 'zerg@gmail.com', '598-95-67', 1000, '2016-04-03 00:00:000', 5),\n",
              " (7, 'Isaac Jimenez Ortiz', 'isaacortiz@gmail.com', '370-19-65', 1600, '2016-07-08 00:00:000', 3),\n",
              " (8, 'Guillermo Vidal Gomez', 'guillevidal@gmail.com', '099-05-68', 1400, '2016-01-03 00:00:000', 3),\n",
              " (9, 'Daniel Quintero Quintero', 'danielquinterox2@gmail.com', '261-97-06', 1500, '2017-03-05 00:00:000', 6),\n",
              " (10, 'Juan Manuel Olivares', 'juanma@gmail.com', '269-37-06', 1500, '2017-03-05 00:00:000', None),\n",
              " (11, 'Miguel Soto', 'misoto@gmail.com', '269-92-06', 1900, '2017-03-05 00:00:000', 6),\n",
              " (12, 'Alejandro Fernandez', 'alefer@gmail.com', '119-91-16', 1850, '2017-03-05 00:00:000', 6)]"
            ]
          },
          "execution_count": 118,
          "metadata": {},
          "output_type": "execute_result"
        }
      ]
    },
    {
      "cell_type": "markdown",
      "metadata": {
        "id": "RvSIidTl1c0n"
      },
      "source": [
        "### La Instrucción GROUP BY\n",
        "Permite agrupar valores por un valor común a ellos\n",
        "\n",
        "Sintaxis de la instrucción GROUP BY\n",
        "```sql\n",
        "SELECT column_name(s)\n",
        "FROM table_name\n",
        "WHERE condition\n",
        "GROUP BY column_name(s)\n",
        "```\n",
        "\n",
        "Veamos un ejemplo contamos la cantidad de clientes que habitan en cada ciudad."
      ]
    },
    {
      "cell_type": "code",
      "metadata": {
        "id": "Gh-6RwDF1c0n",
        "outputId": "4c1d1216-c42c-4002-8dd4-93a99315d493"
      },
      "source": [
        "%%sql\n",
        "select COUNT(nombre), nombre, ciudad from cliente\n",
        "GROUP BY ciudad"
      ],
      "execution_count": null,
      "outputs": [
        {
          "name": "stdout",
          "output_type": "stream",
          "text": [
            " * sqlite:///love4pets.db\n",
            "Done.\n"
          ]
        },
        {
          "data": {
            "text/html": [
              "<table>\n",
              "    <tr>\n",
              "        <th>COUNT(nombre)</th>\n",
              "        <th>ciudad</th>\n",
              "    </tr>\n",
              "    <tr>\n",
              "        <td>13</td>\n",
              "        <td>Madrid</td>\n",
              "    </tr>\n",
              "    <tr>\n",
              "        <td>2</td>\n",
              "        <td>Toledo</td>\n",
              "    </tr>\n",
              "</table>"
            ],
            "text/plain": [
              "[(13, 'Madrid'), (2, 'Toledo')]"
            ]
          },
          "execution_count": 123,
          "metadata": {},
          "output_type": "execute_result"
        }
      ]
    },
    {
      "cell_type": "markdown",
      "metadata": {
        "id": "SpFVZWp11c0o"
      },
      "source": [
        "<div style=\"background-color: #81F781\">\n",
        " <h1> Ejercicio 8. </h1><br>\n",
        " No todas las personas tienen la misma cantidad de mascotas. Se requiere que usted indique el cliente y cantidad de mascotas que tiene cada cliente que tenga mascotas.\n",
        " <br><br>\n",
        "</div>"
      ]
    },
    {
      "cell_type": "code",
      "metadata": {
        "id": "yHMAM6y51c0o",
        "outputId": "208fc92e-6875-43e4-e3aa-c67b7444837b"
      },
      "source": [
        "%%sql\n",
        "SELECT mascota.cliente_id, cliente.nombre, COUNT(mascota.mascota_id)  FROM mascota\n",
        "INNER JOIN\n",
        "cliente on cliente.cliente_id = mascota.cliente_id GROUP BY mascota.cliente_id"
      ],
      "execution_count": null,
      "outputs": [
        {
          "name": "stdout",
          "output_type": "stream",
          "text": [
            " * sqlite:///love4pets.db\n",
            "Done.\n"
          ]
        },
        {
          "data": {
            "text/html": [
              "<table>\n",
              "    <tr>\n",
              "        <th>cliente_id</th>\n",
              "        <th>nombre</th>\n",
              "        <th>COUNT(mascota.mascota_id)</th>\n",
              "    </tr>\n",
              "    <tr>\n",
              "        <td>2</td>\n",
              "        <td>Arnau Medina Garcia</td>\n",
              "        <td>1</td>\n",
              "    </tr>\n",
              "    <tr>\n",
              "        <td>3</td>\n",
              "        <td>Ivan Medina Rubio</td>\n",
              "        <td>2</td>\n",
              "    </tr>\n",
              "    <tr>\n",
              "        <td>5</td>\n",
              "        <td>Carlos Costa Guerrero</td>\n",
              "        <td>1</td>\n",
              "    </tr>\n",
              "    <tr>\n",
              "        <td>6</td>\n",
              "        <td>Roberto Martin Ortega</td>\n",
              "        <td>1</td>\n",
              "    </tr>\n",
              "    <tr>\n",
              "        <td>7</td>\n",
              "        <td>Gabriel Gonzalez Ortega</td>\n",
              "        <td>1</td>\n",
              "    </tr>\n",
              "    <tr>\n",
              "        <td>8</td>\n",
              "        <td>Rayan Leon Ferrer</td>\n",
              "        <td>1</td>\n",
              "    </tr>\n",
              "    <tr>\n",
              "        <td>11</td>\n",
              "        <td>Alberto Sanz Ruiz</td>\n",
              "        <td>2</td>\n",
              "    </tr>\n",
              "    <tr>\n",
              "        <td>14</td>\n",
              "        <td>Jose Gallardo Rodriguez</td>\n",
              "        <td>1</td>\n",
              "    </tr>\n",
              "</table>"
            ],
            "text/plain": [
              "[(2, 'Arnau Medina Garcia', 1),\n",
              " (3, 'Ivan Medina Rubio', 2),\n",
              " (5, 'Carlos Costa Guerrero', 1),\n",
              " (6, 'Roberto Martin Ortega', 1),\n",
              " (7, 'Gabriel Gonzalez Ortega', 1),\n",
              " (8, 'Rayan Leon Ferrer', 1),\n",
              " (11, 'Alberto Sanz Ruiz', 2),\n",
              " (14, 'Jose Gallardo Rodriguez', 1)]"
            ]
          },
          "execution_count": 121,
          "metadata": {},
          "output_type": "execute_result"
        }
      ]
    },
    {
      "cell_type": "code",
      "metadata": {
        "id": "dxYGNy_X1c0o",
        "outputId": "f372a9d1-ff04-4f83-f1ed-1c19cdcf2141"
      },
      "source": [
        "%sql select * from mascota"
      ],
      "execution_count": null,
      "outputs": [
        {
          "name": "stdout",
          "output_type": "stream",
          "text": [
            " * sqlite:///love4pets.db\n",
            "Done.\n"
          ]
        },
        {
          "data": {
            "text/html": [
              "<table>\n",
              "    <tr>\n",
              "        <th>mascota_id</th>\n",
              "        <th>nombre</th>\n",
              "        <th>cliente_id</th>\n",
              "        <th>especie</th>\n",
              "        <th>raza</th>\n",
              "        <th>fecha_nacimiento</th>\n",
              "    </tr>\n",
              "    <tr>\n",
              "        <td>1</td>\n",
              "        <td>Luna</td>\n",
              "        <td>2</td>\n",
              "        <td>gato</td>\n",
              "        <td>mestizo</td>\n",
              "        <td>2009-01-01 00:00:000</td>\n",
              "    </tr>\n",
              "    <tr>\n",
              "        <td>2</td>\n",
              "        <td>Sole</td>\n",
              "        <td>3</td>\n",
              "        <td>gato</td>\n",
              "        <td>mestizo</td>\n",
              "        <td>2010-02-01 00:00:000</td>\n",
              "    </tr>\n",
              "    <tr>\n",
              "        <td>3</td>\n",
              "        <td>Mida</td>\n",
              "        <td>3</td>\n",
              "        <td>perro</td>\n",
              "        <td>Caint terrier</td>\n",
              "        <td>2007-02-03 00:00:000</td>\n",
              "    </tr>\n",
              "    <tr>\n",
              "        <td>4</td>\n",
              "        <td>Tara</td>\n",
              "        <td>5</td>\n",
              "        <td>perro</td>\n",
              "        <td>Puddle</td>\n",
              "        <td>2006-02-03 00:00:000</td>\n",
              "    </tr>\n",
              "    <tr>\n",
              "        <td>5</td>\n",
              "        <td>Pelusa</td>\n",
              "        <td>6</td>\n",
              "        <td>perro</td>\n",
              "        <td>Puddle</td>\n",
              "        <td>2008-02-03 00:00:000</td>\n",
              "    </tr>\n",
              "    <tr>\n",
              "        <td>6</td>\n",
              "        <td>irene</td>\n",
              "        <td>7</td>\n",
              "        <td>gato</td>\n",
              "        <td>siames</td>\n",
              "        <td>2015-02-03 00:00:000</td>\n",
              "    </tr>\n",
              "    <tr>\n",
              "        <td>7</td>\n",
              "        <td>sara</td>\n",
              "        <td>8</td>\n",
              "        <td>gato</td>\n",
              "        <td>mestizo</td>\n",
              "        <td>2016-05-01 00:00:000</td>\n",
              "    </tr>\n",
              "    <tr>\n",
              "        <td>8</td>\n",
              "        <td>milo</td>\n",
              "        <td>11</td>\n",
              "        <td>gato</td>\n",
              "        <td>mestizo</td>\n",
              "        <td>2016-09-01 00:00:000</td>\n",
              "    </tr>\n",
              "    <tr>\n",
              "        <td>9</td>\n",
              "        <td>oliver</td>\n",
              "        <td>11</td>\n",
              "        <td>gato</td>\n",
              "        <td>mestizo</td>\n",
              "        <td>2016-07-07 00:00:000</td>\n",
              "    </tr>\n",
              "    <tr>\n",
              "        <td>10</td>\n",
              "        <td>Duke</td>\n",
              "        <td>14</td>\n",
              "        <td>perro</td>\n",
              "        <td>Pastor Aleman</td>\n",
              "        <td>2011-05-03 00:00:000</td>\n",
              "    </tr>\n",
              "</table>"
            ],
            "text/plain": [
              "[(1, 'Luna', 2, 'gato', 'mestizo', '2009-01-01 00:00:000'),\n",
              " (2, 'Sole', 3, 'gato', 'mestizo', '2010-02-01 00:00:000'),\n",
              " (3, 'Mida', 3, 'perro', 'Caint terrier', '2007-02-03 00:00:000'),\n",
              " (4, 'Tara', 5, 'perro', 'Puddle', '2006-02-03 00:00:000'),\n",
              " (5, 'Pelusa', 6, 'perro', 'Puddle', '2008-02-03 00:00:000'),\n",
              " (6, 'irene', 7, 'gato', 'siames', '2015-02-03 00:00:000'),\n",
              " (7, 'sara', 8, 'gato', 'mestizo', '2016-05-01 00:00:000'),\n",
              " (8, 'milo', 11, 'gato', 'mestizo', '2016-09-01 00:00:000'),\n",
              " (9, 'oliver', 11, 'gato', 'mestizo', '2016-07-07 00:00:000'),\n",
              " (10, 'Duke', 14, 'perro', 'Pastor Aleman', '2011-05-03 00:00:000')]"
            ]
          },
          "execution_count": 99,
          "metadata": {},
          "output_type": "execute_result"
        }
      ]
    },
    {
      "cell_type": "code",
      "metadata": {
        "id": "fF53dwZv1c0o",
        "outputId": "61c89755-7314-4e85-9ae6-e7cb3ecea007"
      },
      "source": [
        "%sql select * from cliente"
      ],
      "execution_count": null,
      "outputs": [
        {
          "name": "stdout",
          "output_type": "stream",
          "text": [
            " * sqlite:///love4pets.db\n",
            "Done.\n"
          ]
        },
        {
          "data": {
            "text/html": [
              "<table>\n",
              "    <tr>\n",
              "        <th>cliente_id</th>\n",
              "        <th>nombre</th>\n",
              "        <th>email</th>\n",
              "        <th>telefono</th>\n",
              "        <th>contacto</th>\n",
              "        <th>telefono_contacto</th>\n",
              "        <th>ciudad</th>\n",
              "    </tr>\n",
              "    <tr>\n",
              "        <td>1</td>\n",
              "        <td>Mario Flores Gallardo</td>\n",
              "        <td>marioflores@gmail.com</td>\n",
              "        <td>036-15-36</td>\n",
              "        <td>Aintzane Alvarez Iglesias</td>\n",
              "        <td>210-35-57</td>\n",
              "        <td>Madrid</td>\n",
              "    </tr>\n",
              "    <tr>\n",
              "        <td>2</td>\n",
              "        <td>Arnau Medina Garcia</td>\n",
              "        <td>arnaumedina@gmail.com</td>\n",
              "        <td>094-10-88</td>\n",
              "        <td></td>\n",
              "        <td></td>\n",
              "        <td>Madrid</td>\n",
              "    </tr>\n",
              "    <tr>\n",
              "        <td>3</td>\n",
              "        <td>Ivan Medina Rubio</td>\n",
              "        <td>ivanmedina@gmail.com</td>\n",
              "        <td>083-08-72</td>\n",
              "        <td>Javier Domenech</td>\n",
              "        <td>488-48-46</td>\n",
              "        <td>Toledo</td>\n",
              "    </tr>\n",
              "    <tr>\n",
              "        <td>4</td>\n",
              "        <td>Jan Vargas Santana</td>\n",
              "        <td>vargasjan@gmail.com</td>\n",
              "        <td>780-65-24</td>\n",
              "        <td></td>\n",
              "        <td></td>\n",
              "        <td>Madrid</td>\n",
              "    </tr>\n",
              "    <tr>\n",
              "        <td>5</td>\n",
              "        <td>Carlos Costa Guerrero</td>\n",
              "        <td>carloscostag@gmail.com</td>\n",
              "        <td>180-65-24</td>\n",
              "        <td>Cristian Jimenez</td>\n",
              "        <td>801-28-09</td>\n",
              "        <td>Madrid</td>\n",
              "    </tr>\n",
              "    <tr>\n",
              "        <td>6</td>\n",
              "        <td>Roberto Martin Ortega</td>\n",
              "        <td>robertmartin@gmail.com</td>\n",
              "        <td>742-63-27</td>\n",
              "        <td>Jorge Vila Gallardo</td>\n",
              "        <td>564-52-13</td>\n",
              "        <td>Madrid</td>\n",
              "    </tr>\n",
              "    <tr>\n",
              "        <td>7</td>\n",
              "        <td>Gabriel Gonzalez Ortega</td>\n",
              "        <td>gabogonzo@gmail.com</td>\n",
              "        <td>780-13-14</td>\n",
              "        <td>Miguel Bosch Parra</td>\n",
              "        <td>882-17-20</td>\n",
              "        <td>Madrid</td>\n",
              "    </tr>\n",
              "    <tr>\n",
              "        <td>8</td>\n",
              "        <td>Rayan Leon Ferrer</td>\n",
              "        <td>rayito@gmail.com</td>\n",
              "        <td>430-65-24</td>\n",
              "        <td>Santiago Perez Ramos</td>\n",
              "        <td>577-21-24</td>\n",
              "        <td>Madrid</td>\n",
              "    </tr>\n",
              "    <tr>\n",
              "        <td>9</td>\n",
              "        <td>Aitor Ruiz Sanchez</td>\n",
              "        <td>aitorsanchez@gmail.com</td>\n",
              "        <td>780-77-24</td>\n",
              "        <td>Gabriel Gonzalez Ortega</td>\n",
              "        <td>784-96-31</td>\n",
              "        <td>Madrid</td>\n",
              "    </tr>\n",
              "    <tr>\n",
              "        <td>10</td>\n",
              "        <td>Eric Rubio Carrasco</td>\n",
              "        <td>ericrubio@gmail.com</td>\n",
              "        <td>780-65-79</td>\n",
              "        <td>Cristian Jimenez Martinez</td>\n",
              "        <td>147-01-12</td>\n",
              "        <td>Madrid</td>\n",
              "    </tr>\n",
              "    <tr>\n",
              "        <td>11</td>\n",
              "        <td>Alberto Sanz Ruiz</td>\n",
              "        <td>albert@gmail.com</td>\n",
              "        <td>781-15-24</td>\n",
              "        <td>Gabriel Gonzalez Ortega</td>\n",
              "        <td>028-51-21</td>\n",
              "        <td>Madrid</td>\n",
              "    </tr>\n",
              "    <tr>\n",
              "        <td>12</td>\n",
              "        <td>Jesus Medina Hernandez</td>\n",
              "        <td>jmedinah@gmail.com</td>\n",
              "        <td>782-35-25</td>\n",
              "        <td>Vctor Gonzalez Castillo</td>\n",
              "        <td>661-85-12</td>\n",
              "        <td>Madrid</td>\n",
              "    </tr>\n",
              "    <tr>\n",
              "        <td>13</td>\n",
              "        <td>Pol Moya Pena</td>\n",
              "        <td>polmoya@gmail.com</td>\n",
              "        <td>780-25-24</td>\n",
              "        <td></td>\n",
              "        <td></td>\n",
              "        <td>Toledo</td>\n",
              "    </tr>\n",
              "    <tr>\n",
              "        <td>14</td>\n",
              "        <td>Jose Gallardo Rodriguez</td>\n",
              "        <td>josegallardo@gmail.com</td>\n",
              "        <td>783-65-11</td>\n",
              "        <td>Hector Martin Morales</td>\n",
              "        <td>867-97-99</td>\n",
              "        <td>Madrid</td>\n",
              "    </tr>\n",
              "    <tr>\n",
              "        <td>15</td>\n",
              "        <td>Manuel Angel Gil</td>\n",
              "        <td>manano@gmail.com</td>\n",
              "        <td>733-65-16</td>\n",
              "        <td>Hector Navarro</td>\n",
              "        <td>067-97-91</td>\n",
              "        <td>Madrid</td>\n",
              "    </tr>\n",
              "</table>"
            ],
            "text/plain": [
              "[(1, 'Mario Flores Gallardo', 'marioflores@gmail.com', '036-15-36', 'Aintzane Alvarez Iglesias', '210-35-57', 'Madrid'),\n",
              " (2, 'Arnau Medina Garcia', 'arnaumedina@gmail.com', '094-10-88', '', '', 'Madrid'),\n",
              " (3, 'Ivan Medina Rubio', 'ivanmedina@gmail.com', '083-08-72', 'Javier Domenech', '488-48-46', 'Toledo'),\n",
              " (4, 'Jan Vargas Santana', 'vargasjan@gmail.com', '780-65-24', '', '', 'Madrid'),\n",
              " (5, 'Carlos Costa Guerrero', 'carloscostag@gmail.com', '180-65-24', 'Cristian Jimenez', '801-28-09', 'Madrid'),\n",
              " (6, 'Roberto Martin Ortega', 'robertmartin@gmail.com', '742-63-27', 'Jorge Vila Gallardo', '564-52-13', 'Madrid'),\n",
              " (7, 'Gabriel Gonzalez Ortega', 'gabogonzo@gmail.com', '780-13-14', 'Miguel Bosch Parra', '882-17-20', 'Madrid'),\n",
              " (8, 'Rayan Leon Ferrer', 'rayito@gmail.com', '430-65-24', 'Santiago Perez Ramos', '577-21-24', 'Madrid'),\n",
              " (9, 'Aitor Ruiz Sanchez', 'aitorsanchez@gmail.com', '780-77-24', 'Gabriel Gonzalez Ortega', '784-96-31', 'Madrid'),\n",
              " (10, 'Eric Rubio Carrasco', 'ericrubio@gmail.com', '780-65-79', 'Cristian Jimenez Martinez', '147-01-12', 'Madrid'),\n",
              " (11, 'Alberto Sanz Ruiz', 'albert@gmail.com', '781-15-24', 'Gabriel Gonzalez Ortega', '028-51-21', 'Madrid'),\n",
              " (12, 'Jesus Medina Hernandez', 'jmedinah@gmail.com', '782-35-25', 'Vctor Gonzalez Castillo', '661-85-12', 'Madrid'),\n",
              " (13, 'Pol Moya Pena', 'polmoya@gmail.com', '780-25-24', '', '', 'Toledo'),\n",
              " (14, 'Jose Gallardo Rodriguez', 'josegallardo@gmail.com', '783-65-11', 'Hector Martin Morales', '867-97-99', 'Madrid'),\n",
              " (15, 'Manuel Angel Gil', 'manano@gmail.com', '733-65-16', 'Hector Navarro', '067-97-91', 'Madrid')]"
            ]
          },
          "execution_count": 107,
          "metadata": {},
          "output_type": "execute_result"
        }
      ]
    },
    {
      "cell_type": "markdown",
      "metadata": {
        "id": "Lapiq7mU1c0o"
      },
      "source": [
        "### La Instrucción HAVING\n",
        "Permite filtrar una busqueda donde se aplica una función de agregación sobre la condición.\n",
        "\n",
        "Sintaxis de la instrucción GROUP BY\n",
        "```sql\n",
        "SELECT column_name(s)\n",
        "FROM table_name\n",
        "WHERE condition\n",
        "HAVING column_name(s)\n",
        "```\n",
        "\n",
        "Tomando el mismo ejemplo anterior queremos mostrar las ciudades que tengan mas de 5 clientes."
      ]
    },
    {
      "cell_type": "code",
      "metadata": {
        "id": "gvanAFDk1c0o",
        "outputId": "37c7a94a-2f88-4db8-a24b-6f686b0182c9"
      },
      "source": [
        "%%sql\n",
        "select COUNT(nombre),ciudad from cliente\n",
        "GROUP BY ciudad HAVING COUNT(nombre) > 5;"
      ],
      "execution_count": null,
      "outputs": [
        {
          "name": "stdout",
          "output_type": "stream",
          "text": [
            " * sqlite:///love4pets.db\n",
            "Done.\n"
          ]
        },
        {
          "data": {
            "text/html": [
              "<table>\n",
              "    <tr>\n",
              "        <th>COUNT(nombre)</th>\n",
              "        <th>ciudad</th>\n",
              "    </tr>\n",
              "    <tr>\n",
              "        <td>13</td>\n",
              "        <td>Madrid</td>\n",
              "    </tr>\n",
              "</table>"
            ],
            "text/plain": [
              "[(13, 'Madrid')]"
            ]
          },
          "execution_count": 119,
          "metadata": {},
          "output_type": "execute_result"
        }
      ]
    },
    {
      "cell_type": "markdown",
      "metadata": {
        "id": "6FK0jvbv1c0p"
      },
      "source": [
        "<div style=\"background-color: #81F781\">\n",
        " <h1> Ejercicio 9. </h1><br>\n",
        " Se requiere que usted indique los clientes que tienen mas de una mascota.\n",
        " <br><br>\n",
        "</div>"
      ]
    },
    {
      "cell_type": "code",
      "metadata": {
        "id": "rbY86pK61c0p",
        "outputId": "c3c921f6-41fb-4f32-a8d4-02ef33b906c8"
      },
      "source": [
        "%%sql\n",
        "SELECT mascota.cliente_id, cliente.nombre, COUNT(mascota.mascota_id)  FROM mascota\n",
        "INNER JOIN\n",
        "cliente on cliente.cliente_id = mascota.cliente_id GROUP BY mascota.cliente_id\n",
        "HAVING COUNT(mascota.mascota_id) > 1"
      ],
      "execution_count": null,
      "outputs": [
        {
          "name": "stdout",
          "output_type": "stream",
          "text": [
            " * sqlite:///love4pets.db\n",
            "Done.\n"
          ]
        },
        {
          "data": {
            "text/html": [
              "<table>\n",
              "    <tr>\n",
              "        <th>cliente_id</th>\n",
              "        <th>nombre</th>\n",
              "        <th>COUNT(mascota.mascota_id)</th>\n",
              "    </tr>\n",
              "    <tr>\n",
              "        <td>3</td>\n",
              "        <td>Ivan Medina Rubio</td>\n",
              "        <td>2</td>\n",
              "    </tr>\n",
              "    <tr>\n",
              "        <td>11</td>\n",
              "        <td>Alberto Sanz Ruiz</td>\n",
              "        <td>2</td>\n",
              "    </tr>\n",
              "</table>"
            ],
            "text/plain": [
              "[(3, 'Ivan Medina Rubio', 2), (11, 'Alberto Sanz Ruiz', 2)]"
            ]
          },
          "execution_count": 120,
          "metadata": {},
          "output_type": "execute_result"
        }
      ]
    },
    {
      "cell_type": "markdown",
      "metadata": {
        "id": "933oiUO11c0p"
      },
      "source": [
        "### La Instrucción Insert\n",
        "La instrucción insert permite agregar nuevos valores a las tablas\n",
        "\n",
        "```sql\n",
        "INSERT INTO table_name (columna1, columna2, columna3, ...)\n",
        "VALUES (valor1, valor2, valor3, ...); \n",
        "```\n",
        "\n",
        "donde el valor1 es insertado en la columna1, el valor2 en la columna2 y asi sucesivamente."
      ]
    },
    {
      "cell_type": "code",
      "metadata": {
        "id": "n7J_lWW01c0p"
      },
      "source": [
        "%sql insert into departamento( departamento_id, nombre) values(8,\"cosmetica\");"
      ],
      "execution_count": null,
      "outputs": []
    },
    {
      "cell_type": "markdown",
      "metadata": {
        "id": "3DF4i85j1c0p"
      },
      "source": [
        "### La Instrucción DELETE\n",
        "La instrucción DELETE permite ELIMINAR filas que cumplan con una determinada condición\n",
        "\n",
        "```sql\n",
        "DELETE FROM table_name\n",
        "WHERE condition;\n",
        "```\n"
      ]
    },
    {
      "cell_type": "code",
      "metadata": {
        "id": "9HMjgO4w1c0p"
      },
      "source": [
        "%sql delete from departamento where departamento_id=8;"
      ],
      "execution_count": null,
      "outputs": []
    }
  ]
}