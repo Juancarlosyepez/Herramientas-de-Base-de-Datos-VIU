{
  "nbformat": 4,
  "nbformat_minor": 0,
  "metadata": {
    "kernelspec": {
      "display_name": "Python 3",
      "language": "python",
      "name": "python3"
    },
    "language_info": {
      "codemirror_mode": {
        "name": "ipython",
        "version": 3
      },
      "file_extension": ".py",
      "mimetype": "text/x-python",
      "name": "python",
      "nbconvert_exporter": "python",
      "pygments_lexer": "ipython3",
      "version": "3.7.7"
    },
    "colab": {
      "name": "JuancarlosYepezCallo_tarea_y_practica.ipynb",
      "provenance": [],
      "collapsed_sections": [
        "u21r5caZiEJ7",
        "vWN4RMyGiEKB",
        "n0TRnrj-iEKC",
        "2lIQt_b5iEKH",
        "V3Gk7fsCiEKI",
        "UGBkSq6jiEKJ",
        "a-mCwahZiEKM",
        "AkYxtme8iEKN",
        "eIEoa7WQiEKO",
        "wpp0QDf1iEKP",
        "7jpBKgOtiEKQ",
        "46AlKCFeiEKQ",
        "zceVllQuiEKR",
        "Yf4L7XRPiEKS",
        "68ILpXoXiEKS",
        "f39aOL3ViEKT",
        "mv8JD3nyiEKT"
      ],
      "include_colab_link": true
    }
  },
  "cells": [
    {
      "cell_type": "markdown",
      "metadata": {
        "id": "view-in-github",
        "colab_type": "text"
      },
      "source": [
        "<a href=\"https://colab.research.google.com/github/Juancarlosyepez/Herramientas-de-Base-de-Datos-VIU/blob/master/JuancarlosYepezCallo_tarea_y_practica.ipynb\" target=\"_parent\"><img src=\"https://colab.research.google.com/assets/colab-badge.svg\" alt=\"Open In Colab\"/></a>"
      ]
    },
    {
      "cell_type": "markdown",
      "metadata": {
        "id": "z5JwuDPJiEJW"
      },
      "source": [
        "# Consultas SQL\n",
        "---------------------\n",
        "Abordemos las consultas SQL con un caso práctico.\n",
        "Consideremos la tienda de venta de productos para mascotas **Love4Pets**, la cual ha creado una base de datos SQL con el fin de llevar un control de sus empleados, ventas y suministro de productos."
      ]
    },
    {
      "cell_type": "code",
      "metadata": {
        "scrolled": true,
        "colab": {
          "base_uri": "https://localhost:8080/",
          "height": 35
        },
        "id": "f2bVWs_liEJq",
        "outputId": "d1c2b2ca-a8a9-44f0-c00c-71c6e8403c85"
      },
      "source": [
        "%load_ext sql\n",
        "%sql sqlite:///love4pets.db"
      ],
      "execution_count": 1,
      "outputs": [
        {
          "output_type": "execute_result",
          "data": {
            "application/vnd.google.colaboratory.intrinsic+json": {
              "type": "string"
            },
            "text/plain": [
              "'Connected: @love4pets.db'"
            ]
          },
          "metadata": {},
          "execution_count": 1
        }
      ]
    },
    {
      "cell_type": "markdown",
      "metadata": {
        "id": "JmLjuChTiEJu"
      },
      "source": [
        "La base de datos **love4pets.db** contiene diferentes tablas, cada una almacena información relativa a un aspecto de la empresa, agrupando esta información en forma de campos.\n",
        "\n",
        "Por ejemplo **love4pets.db** tiene una tabla **departamento** que está formada por el código del departamento y el nombre que este departamento posee en la empresa. Podemos ver estos campos a continuación:"
      ]
    },
    {
      "cell_type": "code",
      "metadata": {
        "scrolled": true,
        "colab": {
          "base_uri": "https://localhost:8080/",
          "height": 221
        },
        "id": "dXPzxs-OiEJv",
        "outputId": "b0c73266-fe83-46ec-f1b5-fe547ef6b5a3"
      },
      "source": [
        "%sql select * from departamento;"
      ],
      "execution_count": 2,
      "outputs": [
        {
          "output_type": "stream",
          "name": "stdout",
          "text": [
            " * sqlite:///love4pets.db\n",
            "Done.\n"
          ]
        },
        {
          "output_type": "execute_result",
          "data": {
            "text/html": [
              "<table>\n",
              "    <thead>\n",
              "        <tr>\n",
              "            <th>departamento_id</th>\n",
              "            <th>nombre</th>\n",
              "        </tr>\n",
              "    </thead>\n",
              "    <tbody>\n",
              "        <tr>\n",
              "            <td>1</td>\n",
              "            <td>finanzas</td>\n",
              "        </tr>\n",
              "        <tr>\n",
              "            <td>2</td>\n",
              "            <td>ventas</td>\n",
              "        </tr>\n",
              "        <tr>\n",
              "            <td>3</td>\n",
              "            <td>recursos humanos</td>\n",
              "        </tr>\n",
              "        <tr>\n",
              "            <td>4</td>\n",
              "            <td>marketing</td>\n",
              "        </tr>\n",
              "        <tr>\n",
              "            <td>5</td>\n",
              "            <td>veterinario</td>\n",
              "        </tr>\n",
              "        <tr>\n",
              "            <td>6</td>\n",
              "            <td>informatica</td>\n",
              "        </tr>\n",
              "        <tr>\n",
              "            <td>7</td>\n",
              "            <td>investigacion</td>\n",
              "        </tr>\n",
              "    </tbody>\n",
              "</table>"
            ],
            "text/plain": [
              "[(1, 'finanzas'),\n",
              " (2, 'ventas'),\n",
              " (3, 'recursos humanos'),\n",
              " (4, 'marketing'),\n",
              " (5, 'veterinario'),\n",
              " (6, 'informatica'),\n",
              " (7, 'investigacion')]"
            ]
          },
          "metadata": {},
          "execution_count": 2
        }
      ]
    },
    {
      "cell_type": "markdown",
      "metadata": {
        "id": "kVx0uNoHiEJw"
      },
      "source": [
        "Otras tablas existentes en **love4pets.db** son:  \n",
        "* Empleado\n",
        "* Cliente\n",
        "* Mascota\n",
        "* Producto\n",
        "* Orden o Factura\n",
        "* Detalle_orden\n",
        "* Proveedor\n",
        "* Suministro"
      ]
    },
    {
      "cell_type": "markdown",
      "metadata": {
        "id": "e9P-ihe-iEJx"
      },
      "source": [
        "Consultas básicas de selección\n",
        "--------\n",
        "La sintaxis básica de una consulta de selección es la siguiente:\n",
        "\n",
        "```sql\n",
        "select Campo FROM Tabla;\n",
        "```\n",
        "Pero para hacer esa consulta debemos conocer el nombre del campo que queremos consultar. Podemos mostrar el \"schema\" o diseño de la tabla con la instrucción **PRAGMA table_info(Tabla);** "
      ]
    },
    {
      "cell_type": "code",
      "metadata": {
        "scrolled": true,
        "id": "LJsmGKyAiEJy",
        "outputId": "7fc68c71-c361-42f3-f435-b47966988eab"
      },
      "source": [
        "%sql PRAGMA table_info(empleado);"
      ],
      "execution_count": null,
      "outputs": [
        {
          "name": "stdout",
          "output_type": "stream",
          "text": [
            " * sqlite:///love4pets.db\n",
            "Done.\n"
          ]
        },
        {
          "data": {
            "text/html": [
              "<table>\n",
              "    <tr>\n",
              "        <th>cid</th>\n",
              "        <th>name</th>\n",
              "        <th>type</th>\n",
              "        <th>notnull</th>\n",
              "        <th>dflt_value</th>\n",
              "        <th>pk</th>\n",
              "    </tr>\n",
              "    <tr>\n",
              "        <td>0</td>\n",
              "        <td>empleado_id</td>\n",
              "        <td>INTEGER</td>\n",
              "        <td>1</td>\n",
              "        <td>None</td>\n",
              "        <td>1</td>\n",
              "    </tr>\n",
              "    <tr>\n",
              "        <td>1</td>\n",
              "        <td>nombre</td>\n",
              "        <td>TEXT</td>\n",
              "        <td>1</td>\n",
              "        <td>None</td>\n",
              "        <td>0</td>\n",
              "    </tr>\n",
              "    <tr>\n",
              "        <td>2</td>\n",
              "        <td>email</td>\n",
              "        <td>TEXT</td>\n",
              "        <td>0</td>\n",
              "        <td>None</td>\n",
              "        <td>0</td>\n",
              "    </tr>\n",
              "    <tr>\n",
              "        <td>3</td>\n",
              "        <td>telefono</td>\n",
              "        <td>TEXT</td>\n",
              "        <td>0</td>\n",
              "        <td>None</td>\n",
              "        <td>0</td>\n",
              "    </tr>\n",
              "    <tr>\n",
              "        <td>4</td>\n",
              "        <td>salario</td>\n",
              "        <td>INTEGER</td>\n",
              "        <td>1</td>\n",
              "        <td>None</td>\n",
              "        <td>0</td>\n",
              "    </tr>\n",
              "    <tr>\n",
              "        <td>5</td>\n",
              "        <td>fecha_ingreso</td>\n",
              "        <td>DATETIME</td>\n",
              "        <td>1</td>\n",
              "        <td>CURRENT_DATE</td>\n",
              "        <td>0</td>\n",
              "    </tr>\n",
              "    <tr>\n",
              "        <td>6</td>\n",
              "        <td>departamento_id</td>\n",
              "        <td>INTEGER</td>\n",
              "        <td>0</td>\n",
              "        <td>None</td>\n",
              "        <td>0</td>\n",
              "    </tr>\n",
              "</table>"
            ],
            "text/plain": [
              "[(0, 'empleado_id', 'INTEGER', 1, None, 1),\n",
              " (1, 'nombre', 'TEXT', 1, None, 0),\n",
              " (2, 'email', 'TEXT', 0, None, 0),\n",
              " (3, 'telefono', 'TEXT', 0, None, 0),\n",
              " (4, 'salario', 'INTEGER', 1, None, 0),\n",
              " (5, 'fecha_ingreso', 'DATETIME', 1, 'CURRENT_DATE', 0),\n",
              " (6, 'departamento_id', 'INTEGER', 0, None, 0)]"
            ]
          },
          "execution_count": 3,
          "metadata": {},
          "output_type": "execute_result"
        }
      ]
    },
    {
      "cell_type": "markdown",
      "metadata": {
        "id": "DfMhiNaqiEJz"
      },
      "source": [
        "Podemos observar que la Tabla **empleado** contiene los campos:\n",
        "* empleado_id\n",
        "* nombre\n",
        "* email\n",
        "* telefono\n",
        "* salario\n",
        "* fecha_ingreso\n",
        "* departamento_id\n",
        "\n",
        "Veamos ahora un ejemplo de selección a alguno de estos campos:"
      ]
    },
    {
      "cell_type": "code",
      "metadata": {
        "id": "ubWezg2oiEJ1",
        "outputId": "ac742596-d052-4a32-8094-ee75dccae7fd"
      },
      "source": [
        "%sql select nombre FROM empleado;"
      ],
      "execution_count": null,
      "outputs": [
        {
          "name": "stdout",
          "output_type": "stream",
          "text": [
            " * sqlite:///love4pets.db\n",
            "Done.\n"
          ]
        },
        {
          "data": {
            "text/html": [
              "<table>\n",
              "    <tr>\n",
              "        <th>nombre</th>\n",
              "    </tr>\n",
              "    <tr>\n",
              "        <td>Andres Riera Herrera</td>\n",
              "    </tr>\n",
              "    <tr>\n",
              "        <td>Lucas Serrano Caballero</td>\n",
              "    </tr>\n",
              "    <tr>\n",
              "        <td>Pablo Pons Sanz</td>\n",
              "    </tr>\n",
              "    <tr>\n",
              "        <td>Saul Moreno Santos</td>\n",
              "    </tr>\n",
              "    <tr>\n",
              "        <td>Nil Soler Diez</td>\n",
              "    </tr>\n",
              "    <tr>\n",
              "        <td>Sergio Reyes Gallardo</td>\n",
              "    </tr>\n",
              "    <tr>\n",
              "        <td>Isaac Jimenez Ortiz</td>\n",
              "    </tr>\n",
              "    <tr>\n",
              "        <td>Guillermo Vidal Gomez</td>\n",
              "    </tr>\n",
              "    <tr>\n",
              "        <td>Daniel Quintero Quintero</td>\n",
              "    </tr>\n",
              "    <tr>\n",
              "        <td>Juan Manuel Olivares</td>\n",
              "    </tr>\n",
              "    <tr>\n",
              "        <td>Miguel Soto</td>\n",
              "    </tr>\n",
              "    <tr>\n",
              "        <td>Alejandro Fernandez</td>\n",
              "    </tr>\n",
              "</table>"
            ],
            "text/plain": [
              "[('Andres Riera Herrera',),\n",
              " ('Lucas Serrano Caballero',),\n",
              " ('Pablo Pons Sanz',),\n",
              " ('Saul Moreno Santos',),\n",
              " ('Nil Soler Diez',),\n",
              " ('Sergio Reyes Gallardo',),\n",
              " ('Isaac Jimenez Ortiz',),\n",
              " ('Guillermo Vidal Gomez',),\n",
              " ('Daniel Quintero Quintero',),\n",
              " ('Juan Manuel Olivares',),\n",
              " ('Miguel Soto',),\n",
              " ('Alejandro Fernandez',)]"
            ]
          },
          "execution_count": 8,
          "metadata": {},
          "output_type": "execute_result"
        }
      ]
    },
    {
      "cell_type": "markdown",
      "metadata": {
        "id": "SnKc62qeiEJ2"
      },
      "source": [
        "Podemos agregar mas campos a mostrar en una misma consulta al separar los campos por comas(,) por ejemplo:"
      ]
    },
    {
      "cell_type": "code",
      "metadata": {
        "scrolled": true,
        "id": "fo3Fy4jbiEJ3",
        "outputId": "afca77e3-f071-4d44-cdf9-7b18f7c430a9"
      },
      "source": [
        "%sql select nombre, telefono FROM empleado;"
      ],
      "execution_count": null,
      "outputs": [
        {
          "name": "stdout",
          "output_type": "stream",
          "text": [
            " * sqlite:///love4pets.db\n",
            "Done.\n"
          ]
        },
        {
          "data": {
            "text/html": [
              "<table>\n",
              "    <tr>\n",
              "        <th>nombre</th>\n",
              "        <th>telefono</th>\n",
              "    </tr>\n",
              "    <tr>\n",
              "        <td>Andres Riera Herrera</td>\n",
              "        <td>200-88-76</td>\n",
              "    </tr>\n",
              "    <tr>\n",
              "        <td>Lucas Serrano Caballero</td>\n",
              "        <td>115-24-36</td>\n",
              "    </tr>\n",
              "    <tr>\n",
              "        <td>Pablo Pons Sanz</td>\n",
              "        <td>748-72-75</td>\n",
              "    </tr>\n",
              "    <tr>\n",
              "        <td>Saul Moreno Santos</td>\n",
              "        <td>346-87-27</td>\n",
              "    </tr>\n",
              "    <tr>\n",
              "        <td>Nil Soler Diez</td>\n",
              "        <td>576-84-28</td>\n",
              "    </tr>\n",
              "    <tr>\n",
              "        <td>Sergio Reyes Gallardo</td>\n",
              "        <td>598-95-67</td>\n",
              "    </tr>\n",
              "    <tr>\n",
              "        <td>Isaac Jimenez Ortiz</td>\n",
              "        <td>370-19-65</td>\n",
              "    </tr>\n",
              "    <tr>\n",
              "        <td>Guillermo Vidal Gomez</td>\n",
              "        <td>099-05-68</td>\n",
              "    </tr>\n",
              "    <tr>\n",
              "        <td>Daniel Quintero Quintero</td>\n",
              "        <td>261-97-06</td>\n",
              "    </tr>\n",
              "    <tr>\n",
              "        <td>Juan Manuel Olivares</td>\n",
              "        <td>269-37-06</td>\n",
              "    </tr>\n",
              "    <tr>\n",
              "        <td>Miguel Soto</td>\n",
              "        <td>269-92-06</td>\n",
              "    </tr>\n",
              "    <tr>\n",
              "        <td>Alejandro Fernandez</td>\n",
              "        <td>119-91-16</td>\n",
              "    </tr>\n",
              "</table>"
            ],
            "text/plain": [
              "[('Andres Riera Herrera', '200-88-76'),\n",
              " ('Lucas Serrano Caballero', '115-24-36'),\n",
              " ('Pablo Pons Sanz', '748-72-75'),\n",
              " ('Saul Moreno Santos', '346-87-27'),\n",
              " ('Nil Soler Diez', '576-84-28'),\n",
              " ('Sergio Reyes Gallardo', '598-95-67'),\n",
              " ('Isaac Jimenez Ortiz', '370-19-65'),\n",
              " ('Guillermo Vidal Gomez', '099-05-68'),\n",
              " ('Daniel Quintero Quintero', '261-97-06'),\n",
              " ('Juan Manuel Olivares', '269-37-06'),\n",
              " ('Miguel Soto', '269-92-06'),\n",
              " ('Alejandro Fernandez', '119-91-16')]"
            ]
          },
          "execution_count": 9,
          "metadata": {},
          "output_type": "execute_result"
        }
      ]
    },
    {
      "cell_type": "markdown",
      "metadata": {
        "id": "gCQivZa6iEJ4"
      },
      "source": [
        "Tambien es posible solicitar todos los campos de una tabla con el signo asterisco(*):"
      ]
    },
    {
      "cell_type": "code",
      "metadata": {
        "id": "t1X0H1SIiEJ4",
        "outputId": "97019258-6a13-4176-ab06-f678f120c148"
      },
      "source": [
        "%sql select * FROM empleado;"
      ],
      "execution_count": null,
      "outputs": [
        {
          "name": "stdout",
          "output_type": "stream",
          "text": [
            " * sqlite:///love4pets.db\n",
            "Done.\n"
          ]
        },
        {
          "data": {
            "text/html": [
              "<table>\n",
              "    <tr>\n",
              "        <th>empleado_id</th>\n",
              "        <th>nombre</th>\n",
              "        <th>email</th>\n",
              "        <th>telefono</th>\n",
              "        <th>salario</th>\n",
              "        <th>fecha_ingreso</th>\n",
              "        <th>departamento_id</th>\n",
              "    </tr>\n",
              "    <tr>\n",
              "        <td>1</td>\n",
              "        <td>Andres Riera Herrera</td>\n",
              "        <td>andresr@gmail.com</td>\n",
              "        <td>200-88-76</td>\n",
              "        <td>1500</td>\n",
              "        <td>2017-05-17 00:00:000</td>\n",
              "        <td>6</td>\n",
              "    </tr>\n",
              "    <tr>\n",
              "        <td>2</td>\n",
              "        <td>Lucas Serrano Caballero</td>\n",
              "        <td>lucas99@gmail.com</td>\n",
              "        <td>115-24-36</td>\n",
              "        <td>1200</td>\n",
              "        <td>2018-05-17 00:00:000</td>\n",
              "        <td>2</td>\n",
              "    </tr>\n",
              "    <tr>\n",
              "        <td>3</td>\n",
              "        <td>Pablo Pons Sanz</td>\n",
              "        <td>ppsanz@gmail.com</td>\n",
              "        <td>748-72-75</td>\n",
              "        <td>1350</td>\n",
              "        <td>2016-07-01 00:00:000</td>\n",
              "        <td>1</td>\n",
              "    </tr>\n",
              "    <tr>\n",
              "        <td>4</td>\n",
              "        <td>Saul Moreno Santos</td>\n",
              "        <td>saul.morenosantos@gmail.com</td>\n",
              "        <td>346-87-27</td>\n",
              "        <td>1600</td>\n",
              "        <td>2016-07-01 00:00:000</td>\n",
              "        <td>1</td>\n",
              "    </tr>\n",
              "    <tr>\n",
              "        <td>5</td>\n",
              "        <td>Nil Soler Diez</td>\n",
              "        <td>nilsoler@gmail.com</td>\n",
              "        <td>576-84-28</td>\n",
              "        <td>1100</td>\n",
              "        <td>2016-04-03 00:00:000</td>\n",
              "        <td>5</td>\n",
              "    </tr>\n",
              "    <tr>\n",
              "        <td>6</td>\n",
              "        <td>Sergio Reyes Gallardo</td>\n",
              "        <td>zerg@gmail.com</td>\n",
              "        <td>598-95-67</td>\n",
              "        <td>1000</td>\n",
              "        <td>2016-04-03 00:00:000</td>\n",
              "        <td>5</td>\n",
              "    </tr>\n",
              "    <tr>\n",
              "        <td>7</td>\n",
              "        <td>Isaac Jimenez Ortiz</td>\n",
              "        <td>isaacortiz@gmail.com</td>\n",
              "        <td>370-19-65</td>\n",
              "        <td>1600</td>\n",
              "        <td>2016-07-08 00:00:000</td>\n",
              "        <td>3</td>\n",
              "    </tr>\n",
              "    <tr>\n",
              "        <td>8</td>\n",
              "        <td>Guillermo Vidal Gomez</td>\n",
              "        <td>guillevidal@gmail.com</td>\n",
              "        <td>099-05-68</td>\n",
              "        <td>1400</td>\n",
              "        <td>2016-01-03 00:00:000</td>\n",
              "        <td>3</td>\n",
              "    </tr>\n",
              "    <tr>\n",
              "        <td>9</td>\n",
              "        <td>Daniel Quintero Quintero</td>\n",
              "        <td>danielquinterox2@gmail.com</td>\n",
              "        <td>261-97-06</td>\n",
              "        <td>1500</td>\n",
              "        <td>2017-03-05 00:00:000</td>\n",
              "        <td>6</td>\n",
              "    </tr>\n",
              "    <tr>\n",
              "        <td>10</td>\n",
              "        <td>Juan Manuel Olivares</td>\n",
              "        <td>juanma@gmail.com</td>\n",
              "        <td>269-37-06</td>\n",
              "        <td>1500</td>\n",
              "        <td>2017-03-05 00:00:000</td>\n",
              "        <td>None</td>\n",
              "    </tr>\n",
              "    <tr>\n",
              "        <td>11</td>\n",
              "        <td>Miguel Soto</td>\n",
              "        <td>misoto@gmail.com</td>\n",
              "        <td>269-92-06</td>\n",
              "        <td>1900</td>\n",
              "        <td>2017-03-05 00:00:000</td>\n",
              "        <td>6</td>\n",
              "    </tr>\n",
              "    <tr>\n",
              "        <td>12</td>\n",
              "        <td>Alejandro Fernandez</td>\n",
              "        <td>alefer@gmail.com</td>\n",
              "        <td>119-91-16</td>\n",
              "        <td>1850</td>\n",
              "        <td>2017-03-05 00:00:000</td>\n",
              "        <td>6</td>\n",
              "    </tr>\n",
              "</table>"
            ],
            "text/plain": [
              "[(1, 'Andres Riera Herrera', 'andresr@gmail.com', '200-88-76', 1500, '2017-05-17 00:00:000', 6),\n",
              " (2, 'Lucas Serrano Caballero', 'lucas99@gmail.com', '115-24-36', 1200, '2018-05-17 00:00:000', 2),\n",
              " (3, 'Pablo Pons Sanz', 'ppsanz@gmail.com', '748-72-75', 1350, '2016-07-01 00:00:000', 1),\n",
              " (4, 'Saul Moreno Santos', 'saul.morenosantos@gmail.com', '346-87-27', 1600, '2016-07-01 00:00:000', 1),\n",
              " (5, 'Nil Soler Diez', 'nilsoler@gmail.com', '576-84-28', 1100, '2016-04-03 00:00:000', 5),\n",
              " (6, 'Sergio Reyes Gallardo', 'zerg@gmail.com', '598-95-67', 1000, '2016-04-03 00:00:000', 5),\n",
              " (7, 'Isaac Jimenez Ortiz', 'isaacortiz@gmail.com', '370-19-65', 1600, '2016-07-08 00:00:000', 3),\n",
              " (8, 'Guillermo Vidal Gomez', 'guillevidal@gmail.com', '099-05-68', 1400, '2016-01-03 00:00:000', 3),\n",
              " (9, 'Daniel Quintero Quintero', 'danielquinterox2@gmail.com', '261-97-06', 1500, '2017-03-05 00:00:000', 6),\n",
              " (10, 'Juan Manuel Olivares', 'juanma@gmail.com', '269-37-06', 1500, '2017-03-05 00:00:000', None),\n",
              " (11, 'Miguel Soto', 'misoto@gmail.com', '269-92-06', 1900, '2017-03-05 00:00:000', 6),\n",
              " (12, 'Alejandro Fernandez', 'alefer@gmail.com', '119-91-16', 1850, '2017-03-05 00:00:000', 6)]"
            ]
          },
          "execution_count": 10,
          "metadata": {},
          "output_type": "execute_result"
        }
      ]
    },
    {
      "cell_type": "markdown",
      "metadata": {
        "id": "gf-knhlgiEJ5"
      },
      "source": [
        "<div style=\"background-color: #81F781\">\n",
        " <h1> Ejercicio 1. </h1><br>\n",
        "    Complete el siguiente código para obtener un listado de los nombres, telefonos y ciudad de todos los clientes.\n",
        " <br><br>\n",
        "</div>"
      ]
    },
    {
      "cell_type": "code",
      "metadata": {
        "id": "cYh08oZhiEJ6"
      },
      "source": [
        "%sql"
      ],
      "execution_count": null,
      "outputs": []
    },
    {
      "cell_type": "markdown",
      "metadata": {
        "id": "u21r5caZiEJ7"
      },
      "source": [
        "### Ordenar los registros, ORDER BY\n",
        "--------\n",
        "Es posible especificar el orden en que queremos que se muestre resultado de una consulta, esto se consigue con la clausula **ORDER BY** \n",
        "```sql\n",
        "select campo1,campo2,...,campoN FROM Tabla ORDER BY campoX;\n",
        "```\n",
        "Veamos un ejemplo sobre la tabla empleado:\n",
        "\n",
        "**Liste los empleados de Love4Pets ordenados por su salario**"
      ]
    },
    {
      "cell_type": "code",
      "metadata": {
        "id": "ANOUCPO6iEJ7",
        "outputId": "1772fddf-939e-4f42-84e8-2b799b8742fe"
      },
      "source": [
        "%sql select nombre, salario FROM empleado ORDER BY salario;"
      ],
      "execution_count": null,
      "outputs": [
        {
          "name": "stdout",
          "output_type": "stream",
          "text": [
            " * sqlite:///love4pets.db\n",
            "Done.\n"
          ]
        },
        {
          "data": {
            "text/html": [
              "<table>\n",
              "    <tr>\n",
              "        <th>nombre</th>\n",
              "        <th>salario</th>\n",
              "    </tr>\n",
              "    <tr>\n",
              "        <td>Sergio Reyes Gallardo</td>\n",
              "        <td>1000</td>\n",
              "    </tr>\n",
              "    <tr>\n",
              "        <td>Nil Soler Diez</td>\n",
              "        <td>1100</td>\n",
              "    </tr>\n",
              "    <tr>\n",
              "        <td>Lucas Serrano Caballero</td>\n",
              "        <td>1200</td>\n",
              "    </tr>\n",
              "    <tr>\n",
              "        <td>Pablo Pons Sanz</td>\n",
              "        <td>1350</td>\n",
              "    </tr>\n",
              "    <tr>\n",
              "        <td>Guillermo Vidal Gomez</td>\n",
              "        <td>1400</td>\n",
              "    </tr>\n",
              "    <tr>\n",
              "        <td>Andres Riera Herrera</td>\n",
              "        <td>1500</td>\n",
              "    </tr>\n",
              "    <tr>\n",
              "        <td>Daniel Quintero Quintero</td>\n",
              "        <td>1500</td>\n",
              "    </tr>\n",
              "    <tr>\n",
              "        <td>Juan Manuel Olivares</td>\n",
              "        <td>1500</td>\n",
              "    </tr>\n",
              "    <tr>\n",
              "        <td>Saul Moreno Santos</td>\n",
              "        <td>1600</td>\n",
              "    </tr>\n",
              "    <tr>\n",
              "        <td>Isaac Jimenez Ortiz</td>\n",
              "        <td>1600</td>\n",
              "    </tr>\n",
              "    <tr>\n",
              "        <td>Alejandro Fernandez</td>\n",
              "        <td>1850</td>\n",
              "    </tr>\n",
              "    <tr>\n",
              "        <td>Miguel Soto</td>\n",
              "        <td>1900</td>\n",
              "    </tr>\n",
              "</table>"
            ],
            "text/plain": [
              "[('Sergio Reyes Gallardo', 1000),\n",
              " ('Nil Soler Diez', 1100),\n",
              " ('Lucas Serrano Caballero', 1200),\n",
              " ('Pablo Pons Sanz', 1350),\n",
              " ('Guillermo Vidal Gomez', 1400),\n",
              " ('Andres Riera Herrera', 1500),\n",
              " ('Daniel Quintero Quintero', 1500),\n",
              " ('Juan Manuel Olivares', 1500),\n",
              " ('Saul Moreno Santos', 1600),\n",
              " ('Isaac Jimenez Ortiz', 1600),\n",
              " ('Alejandro Fernandez', 1850),\n",
              " ('Miguel Soto', 1900)]"
            ]
          },
          "execution_count": 11,
          "metadata": {},
          "output_type": "execute_result"
        }
      ]
    },
    {
      "cell_type": "markdown",
      "metadata": {
        "id": "WT5YlYYriEJ8"
      },
      "source": [
        "Se puede ordenar el resultado por mas de un campo, por ejemplo podemos ordenar los empleados segun su sueldo usando el campo **salario** y además en orden alfabetico por el campo **nombre**"
      ]
    },
    {
      "cell_type": "code",
      "metadata": {
        "id": "8YNtcgYciEJ9",
        "outputId": "a2e03c10-51bb-4498-8b8c-5f7c69b8138f"
      },
      "source": [
        "%sql select nombre, salario FROM empleado ORDER BY salario, nombre;"
      ],
      "execution_count": null,
      "outputs": [
        {
          "name": "stdout",
          "output_type": "stream",
          "text": [
            " * sqlite:///love4pets.db\n",
            "Done.\n"
          ]
        },
        {
          "data": {
            "text/html": [
              "<table>\n",
              "    <tr>\n",
              "        <th>nombre</th>\n",
              "        <th>salario</th>\n",
              "    </tr>\n",
              "    <tr>\n",
              "        <td>Sergio Reyes Gallardo</td>\n",
              "        <td>1000</td>\n",
              "    </tr>\n",
              "    <tr>\n",
              "        <td>Nil Soler Diez</td>\n",
              "        <td>1100</td>\n",
              "    </tr>\n",
              "    <tr>\n",
              "        <td>Lucas Serrano Caballero</td>\n",
              "        <td>1200</td>\n",
              "    </tr>\n",
              "    <tr>\n",
              "        <td>Pablo Pons Sanz</td>\n",
              "        <td>1350</td>\n",
              "    </tr>\n",
              "    <tr>\n",
              "        <td>Guillermo Vidal Gomez</td>\n",
              "        <td>1400</td>\n",
              "    </tr>\n",
              "    <tr>\n",
              "        <td>Andres Riera Herrera</td>\n",
              "        <td>1500</td>\n",
              "    </tr>\n",
              "    <tr>\n",
              "        <td>Daniel Quintero Quintero</td>\n",
              "        <td>1500</td>\n",
              "    </tr>\n",
              "    <tr>\n",
              "        <td>Juan Manuel Olivares</td>\n",
              "        <td>1500</td>\n",
              "    </tr>\n",
              "    <tr>\n",
              "        <td>Isaac Jimenez Ortiz</td>\n",
              "        <td>1600</td>\n",
              "    </tr>\n",
              "    <tr>\n",
              "        <td>Saul Moreno Santos</td>\n",
              "        <td>1600</td>\n",
              "    </tr>\n",
              "    <tr>\n",
              "        <td>Alejandro Fernandez</td>\n",
              "        <td>1850</td>\n",
              "    </tr>\n",
              "    <tr>\n",
              "        <td>Miguel Soto</td>\n",
              "        <td>1900</td>\n",
              "    </tr>\n",
              "</table>"
            ],
            "text/plain": [
              "[('Sergio Reyes Gallardo', 1000),\n",
              " ('Nil Soler Diez', 1100),\n",
              " ('Lucas Serrano Caballero', 1200),\n",
              " ('Pablo Pons Sanz', 1350),\n",
              " ('Guillermo Vidal Gomez', 1400),\n",
              " ('Andres Riera Herrera', 1500),\n",
              " ('Daniel Quintero Quintero', 1500),\n",
              " ('Juan Manuel Olivares', 1500),\n",
              " ('Isaac Jimenez Ortiz', 1600),\n",
              " ('Saul Moreno Santos', 1600),\n",
              " ('Alejandro Fernandez', 1850),\n",
              " ('Miguel Soto', 1900)]"
            ]
          },
          "execution_count": 12,
          "metadata": {},
          "output_type": "execute_result"
        }
      ]
    },
    {
      "cell_type": "markdown",
      "metadata": {
        "id": "ocCjJqrViEJ9"
      },
      "source": [
        "Además puede usarse el ordenar por campos de forma independiente, de forma ASCENDENTE mediante la clausula **ASC** y DESCENDENTE mediante la clausula **DESC**"
      ]
    },
    {
      "cell_type": "code",
      "metadata": {
        "id": "aDeRdAl5iEJ-",
        "outputId": "79a0eedd-e8d3-45f2-8c61-85cc39678977"
      },
      "source": [
        "%sql select nombre, salario FROM empleado ORDER BY salario DESC, nombre ASC;"
      ],
      "execution_count": null,
      "outputs": [
        {
          "name": "stdout",
          "output_type": "stream",
          "text": [
            " * sqlite:///love4pets.db\n",
            "Done.\n"
          ]
        },
        {
          "data": {
            "text/html": [
              "<table>\n",
              "    <tr>\n",
              "        <th>nombre</th>\n",
              "        <th>salario</th>\n",
              "    </tr>\n",
              "    <tr>\n",
              "        <td>Miguel Soto</td>\n",
              "        <td>1900</td>\n",
              "    </tr>\n",
              "    <tr>\n",
              "        <td>Alejandro Fernandez</td>\n",
              "        <td>1850</td>\n",
              "    </tr>\n",
              "    <tr>\n",
              "        <td>Isaac Jimenez Ortiz</td>\n",
              "        <td>1600</td>\n",
              "    </tr>\n",
              "    <tr>\n",
              "        <td>Saul Moreno Santos</td>\n",
              "        <td>1600</td>\n",
              "    </tr>\n",
              "    <tr>\n",
              "        <td>Andres Riera Herrera</td>\n",
              "        <td>1500</td>\n",
              "    </tr>\n",
              "    <tr>\n",
              "        <td>Daniel Quintero Quintero</td>\n",
              "        <td>1500</td>\n",
              "    </tr>\n",
              "    <tr>\n",
              "        <td>Juan Manuel Olivares</td>\n",
              "        <td>1500</td>\n",
              "    </tr>\n",
              "    <tr>\n",
              "        <td>Guillermo Vidal Gomez</td>\n",
              "        <td>1400</td>\n",
              "    </tr>\n",
              "    <tr>\n",
              "        <td>Pablo Pons Sanz</td>\n",
              "        <td>1350</td>\n",
              "    </tr>\n",
              "    <tr>\n",
              "        <td>Lucas Serrano Caballero</td>\n",
              "        <td>1200</td>\n",
              "    </tr>\n",
              "    <tr>\n",
              "        <td>Nil Soler Diez</td>\n",
              "        <td>1100</td>\n",
              "    </tr>\n",
              "    <tr>\n",
              "        <td>Sergio Reyes Gallardo</td>\n",
              "        <td>1000</td>\n",
              "    </tr>\n",
              "</table>"
            ],
            "text/plain": [
              "[('Miguel Soto', 1900),\n",
              " ('Alejandro Fernandez', 1850),\n",
              " ('Isaac Jimenez Ortiz', 1600),\n",
              " ('Saul Moreno Santos', 1600),\n",
              " ('Andres Riera Herrera', 1500),\n",
              " ('Daniel Quintero Quintero', 1500),\n",
              " ('Juan Manuel Olivares', 1500),\n",
              " ('Guillermo Vidal Gomez', 1400),\n",
              " ('Pablo Pons Sanz', 1350),\n",
              " ('Lucas Serrano Caballero', 1200),\n",
              " ('Nil Soler Diez', 1100),\n",
              " ('Sergio Reyes Gallardo', 1000)]"
            ]
          },
          "execution_count": 13,
          "metadata": {},
          "output_type": "execute_result"
        }
      ]
    },
    {
      "cell_type": "markdown",
      "metadata": {
        "id": "FoN2gxmxiEJ_"
      },
      "source": [
        "La instrucción  **Limit** reduce la cantidad de filas de salida en el resultado al número indicado.\n",
        "Cuando usamos la instrucción LIMIT junto con el ORDER BY estamos tomando alguno de los extremos de la consulta, por ejemplo los 3 sueldos mas altos, o los 5 sueldos mas bajos.\n",
        "\n",
        "Veamos un par de ejemplos de esto:"
      ]
    },
    {
      "cell_type": "code",
      "metadata": {
        "id": "xmCnG3EniEJ_",
        "outputId": "1f077d53-6764-46ed-8246-b0540a38eb94"
      },
      "source": [
        "%sql select nombre,salario FROM empleado ORDER BY salario DESC LIMIT 3;"
      ],
      "execution_count": null,
      "outputs": [
        {
          "name": "stdout",
          "output_type": "stream",
          "text": [
            " * sqlite:///love4pets.db\n",
            "Done.\n"
          ]
        },
        {
          "data": {
            "text/html": [
              "<table>\n",
              "    <tr>\n",
              "        <th>nombre</th>\n",
              "        <th>salario</th>\n",
              "    </tr>\n",
              "    <tr>\n",
              "        <td>Miguel Soto</td>\n",
              "        <td>1900</td>\n",
              "    </tr>\n",
              "    <tr>\n",
              "        <td>Alejandro Fernandez</td>\n",
              "        <td>1850</td>\n",
              "    </tr>\n",
              "    <tr>\n",
              "        <td>Saul Moreno Santos</td>\n",
              "        <td>1600</td>\n",
              "    </tr>\n",
              "</table>"
            ],
            "text/plain": [
              "[('Miguel Soto', 1900),\n",
              " ('Alejandro Fernandez', 1850),\n",
              " ('Saul Moreno Santos', 1600)]"
            ]
          },
          "execution_count": 14,
          "metadata": {},
          "output_type": "execute_result"
        }
      ]
    },
    {
      "cell_type": "code",
      "metadata": {
        "id": "Tk_IwOZgiEKA",
        "outputId": "228618b7-91d1-4b54-9af0-437e931fa158"
      },
      "source": [
        "%sql select nombre,salario FROM empleado ORDER BY salario ASC LIMIT 5;"
      ],
      "execution_count": null,
      "outputs": [
        {
          "name": "stdout",
          "output_type": "stream",
          "text": [
            " * sqlite:///love4pets.db\n",
            "Done.\n"
          ]
        },
        {
          "data": {
            "text/html": [
              "<table>\n",
              "    <tr>\n",
              "        <th>nombre</th>\n",
              "        <th>salario</th>\n",
              "    </tr>\n",
              "    <tr>\n",
              "        <td>Sergio Reyes Gallardo</td>\n",
              "        <td>1000</td>\n",
              "    </tr>\n",
              "    <tr>\n",
              "        <td>Nil Soler Diez</td>\n",
              "        <td>1100</td>\n",
              "    </tr>\n",
              "    <tr>\n",
              "        <td>Lucas Serrano Caballero</td>\n",
              "        <td>1200</td>\n",
              "    </tr>\n",
              "    <tr>\n",
              "        <td>Pablo Pons Sanz</td>\n",
              "        <td>1350</td>\n",
              "    </tr>\n",
              "    <tr>\n",
              "        <td>Guillermo Vidal Gomez</td>\n",
              "        <td>1400</td>\n",
              "    </tr>\n",
              "</table>"
            ],
            "text/plain": [
              "[('Sergio Reyes Gallardo', 1000),\n",
              " ('Nil Soler Diez', 1100),\n",
              " ('Lucas Serrano Caballero', 1200),\n",
              " ('Pablo Pons Sanz', 1350),\n",
              " ('Guillermo Vidal Gomez', 1400)]"
            ]
          },
          "execution_count": 15,
          "metadata": {},
          "output_type": "execute_result"
        }
      ]
    },
    {
      "cell_type": "markdown",
      "metadata": {
        "id": "vWN4RMyGiEKB"
      },
      "source": [
        "### Filtro sobre operación de selección, DISTINCT\n",
        "------\n",
        "La Instrucción DISTINCT omite en el resultado los campos que son iguales.\n",
        "\n",
        "Veamos un ejemplos:"
      ]
    },
    {
      "cell_type": "code",
      "metadata": {
        "id": "cKpNjACgiEKB",
        "outputId": "8c9d0e8e-c839-4939-ef17-dfa2a3f12629"
      },
      "source": [
        "%sql select DISTINCT salario FROM empleado ORDER BY salario DESC;"
      ],
      "execution_count": null,
      "outputs": [
        {
          "name": "stdout",
          "output_type": "stream",
          "text": [
            " * sqlite:///love4pets.db\n",
            "Done.\n"
          ]
        },
        {
          "data": {
            "text/html": [
              "<table>\n",
              "    <tr>\n",
              "        <th>salario</th>\n",
              "    </tr>\n",
              "    <tr>\n",
              "        <td>1900</td>\n",
              "    </tr>\n",
              "    <tr>\n",
              "        <td>1850</td>\n",
              "    </tr>\n",
              "    <tr>\n",
              "        <td>1600</td>\n",
              "    </tr>\n",
              "    <tr>\n",
              "        <td>1500</td>\n",
              "    </tr>\n",
              "    <tr>\n",
              "        <td>1400</td>\n",
              "    </tr>\n",
              "    <tr>\n",
              "        <td>1350</td>\n",
              "    </tr>\n",
              "    <tr>\n",
              "        <td>1200</td>\n",
              "    </tr>\n",
              "    <tr>\n",
              "        <td>1100</td>\n",
              "    </tr>\n",
              "    <tr>\n",
              "        <td>1000</td>\n",
              "    </tr>\n",
              "</table>"
            ],
            "text/plain": [
              "[(1900,),\n",
              " (1850,),\n",
              " (1600,),\n",
              " (1500,),\n",
              " (1400,),\n",
              " (1350,),\n",
              " (1200,),\n",
              " (1100,),\n",
              " (1000,)]"
            ]
          },
          "execution_count": 16,
          "metadata": {},
          "output_type": "execute_result"
        }
      ]
    },
    {
      "cell_type": "markdown",
      "metadata": {
        "id": "dRdBWUCEiEKB"
      },
      "source": [
        "En el ejemplo anterior se muestran solamente los diferentes salarios, aún cuando 2 empleados tienen un sueldo de 1600 y otros 2 de 1500"
      ]
    },
    {
      "cell_type": "markdown",
      "metadata": {
        "id": "n0TRnrj-iEKC"
      },
      "source": [
        "### La Clausula **WHERE**:\n",
        "Se usa para indicar que se limita la selección a los campos que cumplan una determinada condición.\n",
        "\n",
        "```sql\n",
        "select campo1,campo2,...,campoN FROM Tabla WHERE condición;\n",
        "```\n",
        "\n",
        "#### Operadores usados en la clausula WHERE\n",
        "| Operador |  Descripción |\n",
        "|----------|--------------|\n",
        "| = |  igualdad |\n",
        "| <> |  Distinto uno de otro |\n",
        "| > |  Mayor que |\n",
        "| < |  Menor que |\n",
        "| =< |  Mayor o igual que |\n",
        "| <= |  Menor o igual que |\n",
        "| Between |  Entre un cierto rango |\n",
        "| LIKE |  Cumple una estructura dada |\n",
        "| IN |  Permite comparar con multiples valores |\n",
        "\n",
        "Veamos algunos ejemplos de la clausula WHERE:"
      ]
    },
    {
      "cell_type": "code",
      "metadata": {
        "id": "i8M_B0MDiEKD",
        "outputId": "560db455-8952-4c30-8a4c-6d97b4ff0bcf"
      },
      "source": [
        "%sql select nombre, salario FROM empleado WHERE salario > 1500;"
      ],
      "execution_count": null,
      "outputs": [
        {
          "name": "stdout",
          "output_type": "stream",
          "text": [
            " * sqlite:///love4pets.db\n",
            "Done.\n"
          ]
        },
        {
          "data": {
            "text/html": [
              "<table>\n",
              "    <tr>\n",
              "        <th>nombre</th>\n",
              "        <th>salario</th>\n",
              "    </tr>\n",
              "    <tr>\n",
              "        <td>Saul Moreno Santos</td>\n",
              "        <td>1600</td>\n",
              "    </tr>\n",
              "    <tr>\n",
              "        <td>Isaac Jimenez Ortiz</td>\n",
              "        <td>1600</td>\n",
              "    </tr>\n",
              "    <tr>\n",
              "        <td>Miguel Soto</td>\n",
              "        <td>1900</td>\n",
              "    </tr>\n",
              "    <tr>\n",
              "        <td>Alejandro Fernandez</td>\n",
              "        <td>1850</td>\n",
              "    </tr>\n",
              "</table>"
            ],
            "text/plain": [
              "[('Saul Moreno Santos', 1600),\n",
              " ('Isaac Jimenez Ortiz', 1600),\n",
              " ('Miguel Soto', 1900),\n",
              " ('Alejandro Fernandez', 1850)]"
            ]
          },
          "execution_count": 17,
          "metadata": {},
          "output_type": "execute_result"
        }
      ]
    },
    {
      "cell_type": "code",
      "metadata": {
        "id": "aRGOBHFwiEKG",
        "outputId": "9c4c302e-892a-4292-fffc-68a946124d0a"
      },
      "source": [
        "%sql select nombre, salario FROM empleado WHERE salario = 1350;"
      ],
      "execution_count": null,
      "outputs": [
        {
          "name": "stdout",
          "output_type": "stream",
          "text": [
            " * sqlite:///love4pets.db\n",
            "Done.\n"
          ]
        },
        {
          "data": {
            "text/html": [
              "<table>\n",
              "    <tr>\n",
              "        <th>nombre</th>\n",
              "        <th>salario</th>\n",
              "    </tr>\n",
              "    <tr>\n",
              "        <td>Pablo Pons Sanz</td>\n",
              "        <td>1350</td>\n",
              "    </tr>\n",
              "</table>"
            ],
            "text/plain": [
              "[('Pablo Pons Sanz', 1350)]"
            ]
          },
          "execution_count": 18,
          "metadata": {},
          "output_type": "execute_result"
        }
      ]
    },
    {
      "cell_type": "code",
      "metadata": {
        "id": "1lrHEEVNiEKG",
        "outputId": "e1e4606d-f389-4135-97f7-2d33b8dc109c"
      },
      "source": [
        "%sql select nombre, salario FROM empleado WHERE ( salario >= 1400 AND salario <= 1600 );"
      ],
      "execution_count": null,
      "outputs": [
        {
          "name": "stdout",
          "output_type": "stream",
          "text": [
            " * sqlite:///love4pets.db\n",
            "Done.\n"
          ]
        },
        {
          "data": {
            "text/html": [
              "<table>\n",
              "    <tr>\n",
              "        <th>nombre</th>\n",
              "        <th>salario</th>\n",
              "    </tr>\n",
              "    <tr>\n",
              "        <td>Andres Riera Herrera</td>\n",
              "        <td>1500</td>\n",
              "    </tr>\n",
              "    <tr>\n",
              "        <td>Saul Moreno Santos</td>\n",
              "        <td>1600</td>\n",
              "    </tr>\n",
              "    <tr>\n",
              "        <td>Isaac Jimenez Ortiz</td>\n",
              "        <td>1600</td>\n",
              "    </tr>\n",
              "    <tr>\n",
              "        <td>Guillermo Vidal Gomez</td>\n",
              "        <td>1400</td>\n",
              "    </tr>\n",
              "    <tr>\n",
              "        <td>Daniel Quintero Quintero</td>\n",
              "        <td>1500</td>\n",
              "    </tr>\n",
              "    <tr>\n",
              "        <td>Juan Manuel Olivares</td>\n",
              "        <td>1500</td>\n",
              "    </tr>\n",
              "</table>"
            ],
            "text/plain": [
              "[('Andres Riera Herrera', 1500),\n",
              " ('Saul Moreno Santos', 1600),\n",
              " ('Isaac Jimenez Ortiz', 1600),\n",
              " ('Guillermo Vidal Gomez', 1400),\n",
              " ('Daniel Quintero Quintero', 1500),\n",
              " ('Juan Manuel Olivares', 1500)]"
            ]
          },
          "execution_count": 19,
          "metadata": {},
          "output_type": "execute_result"
        }
      ]
    },
    {
      "cell_type": "markdown",
      "metadata": {
        "id": "98MoVBEviEKG"
      },
      "source": [
        "<div style=\"background-color: #81F781\">\n",
        " <h1> Ejercicio 2. </h1><br>\n",
        "    Con el propósito actualizar la información de los clientes se quiere contactar a aquellos clientes que no tienen asociada una persona de contacto, para esto se pide que muestre de la tabla \"cliente\" los campos \"nombre\" y \"telefono\" de los clientes que no tienen un contacto registrado.\n",
        " <br><br>\n",
        "</div>"
      ]
    },
    {
      "cell_type": "code",
      "metadata": {
        "id": "Qtdk52YliEKH"
      },
      "source": [
        "%sql"
      ],
      "execution_count": null,
      "outputs": []
    },
    {
      "cell_type": "markdown",
      "metadata": {
        "id": "2lIQt_b5iEKH"
      },
      "source": [
        "### EL operador BETWEEN\n",
        "Esta última instrucción puede escribirse de otra forma usando el operador **BETWEEN**, este operador es usado cuando queremos indicar que deseamos recuperar los registros según un intervalo de valores dado sobre un campo."
      ]
    },
    {
      "cell_type": "code",
      "metadata": {
        "id": "Npua6KMqiEKH",
        "outputId": "d71ff2b4-4cea-4208-be0d-e035d865e800"
      },
      "source": [
        "%sql select nombre, salario FROM empleado WHERE salario Between 1400 AND 1600"
      ],
      "execution_count": null,
      "outputs": [
        {
          "name": "stdout",
          "output_type": "stream",
          "text": [
            " * sqlite:///love4pets.db\n",
            "Done.\n"
          ]
        },
        {
          "data": {
            "text/html": [
              "<table>\n",
              "    <tr>\n",
              "        <th>nombre</th>\n",
              "        <th>salario</th>\n",
              "    </tr>\n",
              "    <tr>\n",
              "        <td>Andres Riera Herrera</td>\n",
              "        <td>1500</td>\n",
              "    </tr>\n",
              "    <tr>\n",
              "        <td>Saul Moreno Santos</td>\n",
              "        <td>1600</td>\n",
              "    </tr>\n",
              "    <tr>\n",
              "        <td>Isaac Jimenez Ortiz</td>\n",
              "        <td>1600</td>\n",
              "    </tr>\n",
              "    <tr>\n",
              "        <td>Guillermo Vidal Gomez</td>\n",
              "        <td>1400</td>\n",
              "    </tr>\n",
              "    <tr>\n",
              "        <td>Daniel Quintero Quintero</td>\n",
              "        <td>1500</td>\n",
              "    </tr>\n",
              "    <tr>\n",
              "        <td>Juan Manuel Olivares</td>\n",
              "        <td>1500</td>\n",
              "    </tr>\n",
              "</table>"
            ],
            "text/plain": [
              "[('Andres Riera Herrera', 1500),\n",
              " ('Saul Moreno Santos', 1600),\n",
              " ('Isaac Jimenez Ortiz', 1600),\n",
              " ('Guillermo Vidal Gomez', 1400),\n",
              " ('Daniel Quintero Quintero', 1500),\n",
              " ('Juan Manuel Olivares', 1500)]"
            ]
          },
          "execution_count": 20,
          "metadata": {},
          "output_type": "execute_result"
        }
      ]
    },
    {
      "cell_type": "markdown",
      "metadata": {
        "id": "V3Gk7fsCiEKI"
      },
      "source": [
        "### EL operador Like\n",
        "Este operador es usado cuando se filtra la consulta con algún modelo o patrón sobre una columna.\n",
        "Este operador se combina con simbolos \"%\" y \"_\":\n",
        "* % Representa cero o mas caracteres a ser reemplazados en el patron por otros.\n",
        "* _ Representa un único caracter.\n",
        "\n",
        "Veamos algúnos ejemplos:"
      ]
    },
    {
      "cell_type": "code",
      "metadata": {
        "id": "-q5_vUNeiEKI"
      },
      "source": [
        "%sql select * FROM cliente WHERE nombre LIKE \"%Medina%\";"
      ],
      "execution_count": null,
      "outputs": []
    },
    {
      "cell_type": "markdown",
      "metadata": {
        "id": "H8lqradKiEKI"
      },
      "source": [
        "La instrucción anterior busca todos los clientes cuyo nombre contiene la secuencia de caracteres \"Medina\" en alguna posición."
      ]
    },
    {
      "cell_type": "code",
      "metadata": {
        "id": "eS61COC8iEKI"
      },
      "source": [
        "%sql select * FROM cliente WHERE email LIKE \"%@gmail.com\";"
      ],
      "execution_count": null,
      "outputs": []
    },
    {
      "cell_type": "markdown",
      "metadata": {
        "id": "gwLPLQdIiEKJ"
      },
      "source": [
        "EL comando anterior busca los clientes que tienen un correo que termine en \"@gmail.com\".\n",
        "\n",
        "**Veamos a consultar todos los clientes cuyo número telefónico comience por \"780\"**"
      ]
    },
    {
      "cell_type": "code",
      "metadata": {
        "id": "DXUMYxNpiEKJ"
      },
      "source": [
        "%sql select * FROM cliente WHERE telefono LIKE \"780-%\";"
      ],
      "execution_count": null,
      "outputs": []
    },
    {
      "cell_type": "markdown",
      "metadata": {
        "id": "2lkX-3QBiEKJ"
      },
      "source": [
        "<div style=\"background-color: #81F781\">\n",
        " <h1> Ejercicio 3. </h1><br>\n",
        "   Un empleado de la empresa Love4Pets se dió cuenta que un cliente dejó por accidente su celular, el empleado recuerda que alguno de sus apellidos era \"Leon\".\n",
        "   \n",
        "   Se quiere que determinar a quien pertenece el celular extraviado, y en caso de ser posible avisar a su persona de contacto que el celular está a salvo y pueden pasar buscandolo en cualquier momento.\n",
        "   \n",
        "   Se sabe que la tabla **\"cliente\"** tiene un campo **\"nombre\"** el cual contiene nombres y apellidos, el campo **\"contacto\"** que tiene el nombre de la persona de contacto y el campo **\"telefono_contacto\"** que tiene el telefono de la persona de contacto.\n",
        "   \n",
        "   <br><br>\n",
        " \n",
        "</div>"
      ]
    },
    {
      "cell_type": "code",
      "metadata": {
        "id": "KoDvAjhkiEKJ"
      },
      "source": [
        "%sql"
      ],
      "execution_count": null,
      "outputs": []
    },
    {
      "cell_type": "markdown",
      "metadata": {
        "id": "UGBkSq6jiEKJ"
      },
      "source": [
        "### Operadores AND, OR, NOT\n",
        "Estos operadores son usados para filtrar resultados según mas de una condición. \n",
        "\n",
        "**Operador AND:** Se muestran los resultados que cumplen las condiciones separadas por el operador AND, es decir el resultado de la operación AND tiene valor TRUE\n",
        "\n",
        "Sintaxis del Operador AND\n",
        "```sql\n",
        "select campo FROM Tabla WHERE condicion1 AND condicion2;\n",
        "```\n",
        "\n",
        "**Operador OR:** Se muestran los resultados que cumplen alguna de las condiciones separadas por el operador OR, es decir el resultado de la operación OR tiene valor TRUE\n",
        "\n",
        "Sintaxis del Operador OR\n",
        "```sql\n",
        "select campo FROM Tabla WHERE condicion1 OR condicion2;\n",
        "```\n",
        "\n",
        "**Operador NOT:** Se muestran los resultados que NO cumplen con la condicion indicada.\n",
        "\n",
        "Sintaxis del Operador NOT\n",
        "```sql\n",
        "select campo FROM Tabla WHERE NOT condicion1;\n",
        "```\n"
      ]
    },
    {
      "cell_type": "code",
      "metadata": {
        "id": "TL5cpH9FiEKK"
      },
      "source": [
        "%sql select * FROM empleado WHERE ( salario >= 1500 AND departamento_id = 6 )"
      ],
      "execution_count": null,
      "outputs": []
    },
    {
      "cell_type": "markdown",
      "metadata": {
        "id": "CrXphkRhiEKK"
      },
      "source": [
        "En el ejemplo anterior la consulta muestra los empleados que tienen un salario mayor o igual a 1500 y que trabajan en el departamento de informática el cual tiene código 6.\n",
        "\n",
        "Veamos como podemos usar **consultas anidadas** para buscar la misma consulta colocando el nombre del departamento en lugar del código."
      ]
    },
    {
      "cell_type": "code",
      "metadata": {
        "id": "YafLBsTHiEKK"
      },
      "source": [
        "%%sql \n",
        "select * FROM empleado\n",
        "WHERE \n",
        "( salario >= 1500 AND departamento_id = (select departamento_id FROM departamento WHERE nombre=\"informatica\" ) )  "
      ],
      "execution_count": null,
      "outputs": []
    },
    {
      "cell_type": "markdown",
      "metadata": {
        "id": "C0JVCn1liEKK"
      },
      "source": [
        "Veamos un ejemplo donde consultamos las mascotas asociadas a una persona con nombre \"Arnau Medina Garcia\""
      ]
    },
    {
      "cell_type": "code",
      "metadata": {
        "id": "ssX1pGhniEKK"
      },
      "source": [
        "%%sql \n",
        "select * FROM mascota WHERE  cliente_id=( select cliente_id FROM cliente WHERE nombre=\"Arnau Medina Garcia\" )"
      ],
      "execution_count": null,
      "outputs": []
    },
    {
      "cell_type": "markdown",
      "metadata": {
        "id": "1W7ezJ8MiEKK"
      },
      "source": [
        "Ejemplo con Operador **OR**"
      ]
    },
    {
      "cell_type": "code",
      "metadata": {
        "id": "l-btDAnxiEKL"
      },
      "source": [
        "%%sql \n",
        "select nombre, departamento_id from empleado where (empleado.departamento_id = 1) OR (empleado.departamento_id = 3)"
      ],
      "execution_count": null,
      "outputs": []
    },
    {
      "cell_type": "markdown",
      "metadata": {
        "id": "7qRVmCDeiEKL"
      },
      "source": [
        "En la consulta anterior se muestran los empleados que trabajan en el departamento de Finanzas o en el departamento de Recursos Humanos"
      ]
    },
    {
      "cell_type": "markdown",
      "metadata": {
        "id": "5_cpZT_6iEKL"
      },
      "source": [
        "Ejemplo con el operador **NOT**\n",
        "\n",
        "Veamos el complemento de la consulta anterior."
      ]
    },
    {
      "cell_type": "code",
      "metadata": {
        "id": "1NpopwRLiEKL",
        "outputId": "142fe037-af08-4d6f-cae2-93b407a21108"
      },
      "source": [
        "%%sql \n",
        "select nombre, departamento_id from empleado\n",
        "where\n",
        "NOT ( (empleado.departamento_id = 1) OR (empleado.departamento_id = 3) )"
      ],
      "execution_count": null,
      "outputs": [
        {
          "name": "stdout",
          "output_type": "stream",
          "text": [
            " * sqlite:///love4pets.db\n",
            "Done.\n"
          ]
        },
        {
          "data": {
            "text/html": [
              "<table>\n",
              "    <tr>\n",
              "        <th>nombre</th>\n",
              "        <th>departamento_id</th>\n",
              "    </tr>\n",
              "    <tr>\n",
              "        <td>Andres Riera Herrera</td>\n",
              "        <td>6</td>\n",
              "    </tr>\n",
              "    <tr>\n",
              "        <td>Lucas Serrano Caballero</td>\n",
              "        <td>2</td>\n",
              "    </tr>\n",
              "    <tr>\n",
              "        <td>Nil Soler Diez</td>\n",
              "        <td>5</td>\n",
              "    </tr>\n",
              "    <tr>\n",
              "        <td>Sergio Reyes Gallardo</td>\n",
              "        <td>5</td>\n",
              "    </tr>\n",
              "    <tr>\n",
              "        <td>Daniel Quintero Quintero</td>\n",
              "        <td>6</td>\n",
              "    </tr>\n",
              "    <tr>\n",
              "        <td>Miguel Soto</td>\n",
              "        <td>6</td>\n",
              "    </tr>\n",
              "    <tr>\n",
              "        <td>Alejandro Fernandez</td>\n",
              "        <td>6</td>\n",
              "    </tr>\n",
              "</table>"
            ],
            "text/plain": [
              "[('Andres Riera Herrera', 6),\n",
              " ('Lucas Serrano Caballero', 2),\n",
              " ('Nil Soler Diez', 5),\n",
              " ('Sergio Reyes Gallardo', 5),\n",
              " ('Daniel Quintero Quintero', 6),\n",
              " ('Miguel Soto', 6),\n",
              " ('Alejandro Fernandez', 6)]"
            ]
          },
          "execution_count": 21,
          "metadata": {},
          "output_type": "execute_result"
        }
      ]
    },
    {
      "cell_type": "markdown",
      "metadata": {
        "id": "RiPBKQhMiEKL"
      },
      "source": [
        "<div style=\"background-color: #81F781\">\n",
        " <h1> Ejercicio 4. </h1><br>\n",
        "      La empresa Love4Pets considera hacer un descuento sobre los productos que cuestan entre 10 y 20 euros, y complementos vitamínicos. \n",
        "      \n",
        "   Se requiere que liste las columnas \"nombre\", \"descripcion\", \"precio\" de productos a los que debe ser aplicado el descuento. ( asuma que los productos se encuentran en la tabla \"producto\" )\n",
        "   \n",
        "   Asuma que el producto vitaminico no lleva acentos, generalmente estos productos tienen la palabra vitamina en la **\"descripcion\"** pero podria ser alguna variante como vitaminico o comenzar por mayusculas, el departamento de informática recomendó usar la función Like para esta busqueda.\n",
        "   \n",
        "   <br><br>\n",
        " \n",
        "</div>"
      ]
    },
    {
      "cell_type": "code",
      "metadata": {
        "id": "5KMQ9IvmiEKM"
      },
      "source": [
        "%sql"
      ],
      "execution_count": null,
      "outputs": []
    },
    {
      "cell_type": "markdown",
      "metadata": {
        "id": "a-mCwahZiEKM"
      },
      "source": [
        "### Funciones Max() y Min()\n",
        "Con frecuencia tenemos una lista de valores y queremos obtener el mayor o el menor, esto es lo que hacen las funciones Max y Min.\n",
        "\n",
        "Sintaxis de la función MIN\n",
        "```sql\n",
        "SELECT MIN(column_name)\n",
        "FROM table_name\n",
        "WHERE condition; \n",
        "```\n",
        "\n",
        "Sintaxis de la función MAX\n",
        "```sql\n",
        "SELECT MAX(column_name)\n",
        "FROM table_name\n",
        "WHERE condition; \n",
        "```\n",
        "Veamos un ejemplo:"
      ]
    },
    {
      "cell_type": "code",
      "metadata": {
        "id": "XcckRH69iEKM"
      },
      "source": [
        "%sql select MIN(precio) from producto;"
      ],
      "execution_count": null,
      "outputs": []
    },
    {
      "cell_type": "code",
      "metadata": {
        "id": "eN3YT7XpiEKM"
      },
      "source": [
        "%sql select MAX(precio) from producto;"
      ],
      "execution_count": null,
      "outputs": []
    },
    {
      "cell_type": "markdown",
      "metadata": {
        "id": "glgmctOQiEKN"
      },
      "source": [
        "<div style=\"background-color: #81F781\">\n",
        " <h1> Ejercicio 5. </h1><br>\n",
        "    La empresa Love4Pets esta considerando realizar un aumento.\n",
        "    \n",
        "   Se requiere que indique cual es el menor sueldo que está pagando la empresa.\n",
        " <br><br>\n",
        "</div>"
      ]
    },
    {
      "cell_type": "code",
      "metadata": {
        "id": "UP3qk91jiEKN"
      },
      "source": [
        "%sql"
      ],
      "execution_count": null,
      "outputs": []
    },
    {
      "cell_type": "markdown",
      "metadata": {
        "id": "AkYxtme8iEKN"
      },
      "source": [
        "### Funciones COUNT(), AVG(), SUM()\n",
        "Nos permite contar la cantidad de resultados que arroja una consulta, obtener un valor promedio, o sumar los valores de una consulta.\n",
        "\n",
        "**Función count** Retorna la cantidad de filas que arroja una consulta.\n",
        "\n",
        "Sintaxis de la función COUNT\n",
        "```sql\n",
        "SELECT COUNT(column_name)\n",
        "FROM table_name\n",
        "WHERE condition; \n",
        "```\n",
        "\n",
        "**Función AVG** Retorna la el promedio de los valores de las filas que arroja una consulta.\n",
        "\n",
        "Sintaxis de la función COUNT\n",
        "```sql\n",
        "SELECT AVG(column_name)\n",
        "FROM table_name\n",
        "WHERE condition; \n",
        "```\n",
        "\n",
        "**Función SUM** Retorna la el promedio de los valores de las filas que arroja una consulta.\n",
        "\n",
        "Sintaxis de la función COUNT\n",
        "```sql\n",
        "SELECT SUM(column_name)\n",
        "FROM table_name\n",
        "WHERE condition; \n",
        "```"
      ]
    },
    {
      "cell_type": "code",
      "metadata": {
        "id": "8NX8h7XTiEKN",
        "outputId": "395b75f0-31dc-4e6c-d069-dcca1eb3bbe4"
      },
      "source": [
        "%sql select COUNT(salario) from empleado;"
      ],
      "execution_count": null,
      "outputs": [
        {
          "name": "stdout",
          "output_type": "stream",
          "text": [
            " * sqlite:///love4pets.db\n",
            "Done.\n"
          ]
        },
        {
          "data": {
            "text/html": [
              "<table>\n",
              "    <tr>\n",
              "        <th>COUNT(salario)</th>\n",
              "    </tr>\n",
              "    <tr>\n",
              "        <td>12</td>\n",
              "    </tr>\n",
              "</table>"
            ],
            "text/plain": [
              "[(12,)]"
            ]
          },
          "execution_count": 22,
          "metadata": {},
          "output_type": "execute_result"
        }
      ]
    },
    {
      "cell_type": "code",
      "metadata": {
        "id": "6vV4uVZciEKO"
      },
      "source": [
        "%sql select AVG(salario) from empleado;"
      ],
      "execution_count": null,
      "outputs": []
    },
    {
      "cell_type": "code",
      "metadata": {
        "id": "TyHFywSQiEKO"
      },
      "source": [
        "%sql select SUM(salario) from empleado;"
      ],
      "execution_count": null,
      "outputs": []
    },
    {
      "cell_type": "markdown",
      "metadata": {
        "id": "SHX_ZcA7iEKO"
      },
      "source": [
        "<div style=\"background-color: #81F781\">\n",
        " <h1> Ejercicio 6. </h1><br>\n",
        "    La empresa Love4Pets continúa estudiando un ajuste en los salarios de los empleados, por lo que se quiere conocer el presupuesto total requerido para el pago de los salarios.\n",
        " <br><br>"
      ]
    },
    {
      "cell_type": "code",
      "metadata": {
        "id": "wrvZLSHeiEKO"
      },
      "source": [
        "%sql"
      ],
      "execution_count": null,
      "outputs": []
    },
    {
      "cell_type": "markdown",
      "metadata": {
        "id": "eIEoa7WQiEKO"
      },
      "source": [
        "### El Operador IN\n",
        "Permite especificar multiples valores a la clausula WHERE\n",
        "\n",
        "Sintaxis del operador IN\n",
        "```sql\n",
        "SELECT column_name(s)\n",
        "FROM table_name\n",
        "WHERE column_name IN (value1, value2, ...); \n",
        "```\n",
        "Veamos un ejemplo"
      ]
    },
    {
      "cell_type": "code",
      "metadata": {
        "id": "WEKGlIYgiEKP"
      },
      "source": [
        "%sql select nombre from cliente where ciudad IN (\"Madrid\",\"Toledo\");"
      ],
      "execution_count": null,
      "outputs": []
    },
    {
      "cell_type": "markdown",
      "metadata": {
        "id": "wpp0QDf1iEKP"
      },
      "source": [
        "Hasta ahora hemos realizado consultas muy sencillas casi todas sobre una sola tabla, sin aprovechar las relaciones que existen entre las tablas.\n",
        "\n",
        "Algunas de las tablas en Love4Pets están relacionadas  por medio de claves foraneas, por ejemplo la tabla empleado tiene un campo departamento_id que almacena el código del departamento donde trabaja un empleado, por medio de está relación podemos consultar también el nombre del departamento, esta consulta puede hacerse haciendo consultas anidadas, pero también usando la clausula **JOIN**\n",
        "\n",
        "### Clausula JOIN\n",
        "La clausula JOIN es usada para combinar columnas de una o mas tablas por medio de campos que relacionan estas tablas.\n",
        "\n",
        "Existen diferentes tipos de JOIN.  \n",
        "#### **Inner JOIN**:\n",
        "Retorna los valores cumplen la relación entre ambas tablas, es decir las filas de una tabla que estan relacionadas con filas de otra tabla por medio de claves foraneas. El INNER JOIN también es llamado simplemente JOIN.\n",
        "![Texto alternativo](https://raw.githubusercontent.com/dasesu/practicasql/master/imagenes/inner%20join.png)\n",
        "\n",
        "Sintaxis del Inner Join\n",
        "\n",
        "```sql\n",
        "select campo1, campo2, campoN FROM tabla1 INNER JOIN tabla2 ON tabla1.campo = tabla2.campo;\n",
        "```\n",
        "\n",
        "Veamos un ejemplo:  \n",
        "Primero veamos la siguiente consulta\n"
      ]
    },
    {
      "cell_type": "code",
      "metadata": {
        "id": "iTC3w-hoiEKP"
      },
      "source": [
        "%%sql\n",
        "select empleado.nombre, departamento.nombre from empleado, departamento\n",
        "WHERE\n",
        "empleado.departamento_id = departamento.departamento_id;"
      ],
      "execution_count": null,
      "outputs": []
    },
    {
      "cell_type": "markdown",
      "metadata": {
        "id": "cvGFEP-PiEKP"
      },
      "source": [
        "Se muestran todos los empleados que trabajan en algun departamento, en esta consulta se excluyen empleados que no trabajan en ningun departamento y departamentos que no tienen ningun empleado.\n",
        "\n",
        "Veamos ahora la siguiente consulta"
      ]
    },
    {
      "cell_type": "code",
      "metadata": {
        "id": "quHzcwt5iEKP"
      },
      "source": [
        "%%sql\n",
        "select empleado.nombre, departamento.nombre from empleado\n",
        "INNER JOIN\n",
        "departamento ON empleado.departamento_id = departamento.departamento_id;"
      ],
      "execution_count": null,
      "outputs": []
    },
    {
      "cell_type": "markdown",
      "metadata": {
        "id": "NSkmMVWEiEKP"
      },
      "source": [
        "Esta instrucción realiza la misma consulta que el comando anterior, es decir muestra los empleados que trabajan en algun departamento"
      ]
    },
    {
      "cell_type": "markdown",
      "metadata": {
        "id": "7jpBKgOtiEKQ"
      },
      "source": [
        "#### **Left JOIN**:\n",
        "Retorna los registros de la tabla \"izquierda\" o la primera tabla, y los registros que coinciden con la segunda tabla, excluyendo los registros que se encuentren en la segunda tabla pero que no hagan match con la primera.\n",
        "![Texto alternativo](https://raw.githubusercontent.com/dasesu/practicasql/master/imagenes/left%20join.png)\n",
        "\n",
        "Sintaxis del LEFT JOIN\n",
        "```sql\n",
        "select campo1, campo2, campoN FROM tabla1 LEFT JOIN tabla2 ON tabla1.campo = tabla2.campo;\n",
        "```\n",
        "\n",
        "Veamos un ejemplo:  "
      ]
    },
    {
      "cell_type": "code",
      "metadata": {
        "id": "0JuJiAHuiEKQ",
        "outputId": "6e17acce-0a92-40ec-adac-e5fe681b2482"
      },
      "source": [
        "%%sql\n",
        "select empleado.nombre, departamento.nombre from empleado\n",
        "LEFT JOIN\n",
        "departamento ON empleado.departamento_id = departamento.departamento_id;"
      ],
      "execution_count": null,
      "outputs": [
        {
          "name": "stdout",
          "output_type": "stream",
          "text": [
            " * sqlite:///love4pets.db\n",
            "Done.\n"
          ]
        },
        {
          "data": {
            "text/html": [
              "<table>\n",
              "    <tr>\n",
              "        <th>nombre</th>\n",
              "        <th>nombre_1</th>\n",
              "    </tr>\n",
              "    <tr>\n",
              "        <td>Andres Riera Herrera</td>\n",
              "        <td>informatica</td>\n",
              "    </tr>\n",
              "    <tr>\n",
              "        <td>Lucas Serrano Caballero</td>\n",
              "        <td>ventas</td>\n",
              "    </tr>\n",
              "    <tr>\n",
              "        <td>Pablo Pons Sanz</td>\n",
              "        <td>finanzas</td>\n",
              "    </tr>\n",
              "    <tr>\n",
              "        <td>Saul Moreno Santos</td>\n",
              "        <td>finanzas</td>\n",
              "    </tr>\n",
              "    <tr>\n",
              "        <td>Nil Soler Diez</td>\n",
              "        <td>veterinario</td>\n",
              "    </tr>\n",
              "    <tr>\n",
              "        <td>Sergio Reyes Gallardo</td>\n",
              "        <td>veterinario</td>\n",
              "    </tr>\n",
              "    <tr>\n",
              "        <td>Isaac Jimenez Ortiz</td>\n",
              "        <td>recursos humanos</td>\n",
              "    </tr>\n",
              "    <tr>\n",
              "        <td>Guillermo Vidal Gomez</td>\n",
              "        <td>recursos humanos</td>\n",
              "    </tr>\n",
              "    <tr>\n",
              "        <td>Daniel Quintero Quintero</td>\n",
              "        <td>informatica</td>\n",
              "    </tr>\n",
              "    <tr>\n",
              "        <td>Juan Manuel Olivares</td>\n",
              "        <td>None</td>\n",
              "    </tr>\n",
              "    <tr>\n",
              "        <td>Miguel Soto</td>\n",
              "        <td>informatica</td>\n",
              "    </tr>\n",
              "    <tr>\n",
              "        <td>Alejandro Fernandez</td>\n",
              "        <td>informatica</td>\n",
              "    </tr>\n",
              "</table>"
            ],
            "text/plain": [
              "[('Andres Riera Herrera', 'informatica'),\n",
              " ('Lucas Serrano Caballero', 'ventas'),\n",
              " ('Pablo Pons Sanz', 'finanzas'),\n",
              " ('Saul Moreno Santos', 'finanzas'),\n",
              " ('Nil Soler Diez', 'veterinario'),\n",
              " ('Sergio Reyes Gallardo', 'veterinario'),\n",
              " ('Isaac Jimenez Ortiz', 'recursos humanos'),\n",
              " ('Guillermo Vidal Gomez', 'recursos humanos'),\n",
              " ('Daniel Quintero Quintero', 'informatica'),\n",
              " ('Juan Manuel Olivares', None),\n",
              " ('Miguel Soto', 'informatica'),\n",
              " ('Alejandro Fernandez', 'informatica')]"
            ]
          },
          "execution_count": 23,
          "metadata": {},
          "output_type": "execute_result"
        }
      ]
    },
    {
      "cell_type": "markdown",
      "metadata": {
        "id": "T1mZUPlLiEKQ"
      },
      "source": [
        "En el resultado anterior observe que el empleado \"Juan Manuel Olivares\" no está asociado a ningun departamento, sin embargo este es mostrado porque forma parte de la tabla1, pero no en la tabla2\n"
      ]
    },
    {
      "cell_type": "markdown",
      "metadata": {
        "id": "46AlKCFeiEKQ"
      },
      "source": [
        "#### **Right JOIN**:\n",
        "Retorna los registros de la tabla \"derecha\" o la segunda tabla, y los registros que coinciden con la primera tabla, excluyendo los registros que se encuentren en la primera tabla pero que no hagan match con la segunda.\n",
        "\n",
        "![Texto alternativo](https://raw.githubusercontent.com/dasesu/practicasql/master/imagenes/right%20join.png)\n",
        "\n",
        "Sintaxis del RIGHT JOIN\n",
        "```sql\n",
        "select campo1, campo2, campoN FROM tabla1 RIGHT JOIN tabla2 ON tabla1.campo = tabla2.campo;\n",
        "```\n",
        "\n",
        "**Esta instrucción no es reconocida por Sqlite3, por lo que al tratar de ejecutar esta sentencia se obtendrá un error.**\n",
        "\n",
        "Sin embargo esta instrucción puede construirse usando un LEFT JOIN invirtiendo el orden de las tablas.\n",
        "\n",
        "Veamos un ejemplo. ( El siguiente es un error provocado de forma intencional )"
      ]
    },
    {
      "cell_type": "code",
      "metadata": {
        "id": "OnOM4plviEKQ"
      },
      "source": [
        "%%sql\n",
        "select empleado.nombre, departamento.nombre from empleado\n",
        "RIGHT JOIN\n",
        "departamento ON empleado.departamento_id = departamento.departamento_id;"
      ],
      "execution_count": null,
      "outputs": []
    },
    {
      "cell_type": "markdown",
      "metadata": {
        "id": "WAzwSigKiEKQ"
      },
      "source": [
        "El siguiente código arroja el mismo resultado que debería arrojar el RIGHT JOIN, haciendo uso del LEFT JOIN, invirtiendo las la posición de las tablas"
      ]
    },
    {
      "cell_type": "code",
      "metadata": {
        "id": "XWfI0Y-9iEKR"
      },
      "source": [
        "%%sql\n",
        "select departamento.nombre, empleado.nombre from departamento\n",
        "LEFT JOIN\n",
        "empleado ON empleado.departamento_id = departamento.departamento_id;"
      ],
      "execution_count": null,
      "outputs": []
    },
    {
      "cell_type": "markdown",
      "metadata": {
        "id": "0kIq2J_uiEKR"
      },
      "source": [
        "<div style=\"background-color: #81F781\">\n",
        " <h1> Ejercicio 7. </h1><br>\n",
        "   Considerando la tabla \"cliente\" y la tabla \"mascota\" las cuales tienen una relación uno a muchos, como se muestra a continuación.\n",
        "   \n",
        "   ![relacionclientemascota.png](attachment:relacionclientemascota.png)\n",
        "    \n",
        " Indique los clientes que no tienen mascota registrada.\n",
        " <br><br>\n",
        "</div>"
      ]
    },
    {
      "cell_type": "code",
      "metadata": {
        "id": "9bi7_KofiEKR"
      },
      "source": [
        "%%sql"
      ],
      "execution_count": null,
      "outputs": []
    },
    {
      "cell_type": "markdown",
      "metadata": {
        "id": "zceVllQuiEKR"
      },
      "source": [
        "### Operador UNION\n",
        "Es usado para combinar resultados de varias consultas en una sola vista.\n",
        "* Cada Instrucción SELECT involucrada en la operación UNION tiene que tener la misma cantidad de columnas.\n",
        "* Las columnas ademas tienen que tener los mismos tipos de datos.\n",
        "\n",
        "**Sintaxis de la Operación UNION**\n",
        "```sql\n",
        "SELECT column_name(s) FROM table1\n",
        "UNION\n",
        "SELECT column_name(s) FROM table2; \n",
        "```"
      ]
    },
    {
      "cell_type": "code",
      "metadata": {
        "id": "RBXapcIdiEKR"
      },
      "source": [
        "%%sql\n",
        "select nombre,email,telefono from empleado\n",
        "UNION\n",
        "select nombre,email,telefono from cliente"
      ],
      "execution_count": null,
      "outputs": []
    },
    {
      "cell_type": "markdown",
      "metadata": {
        "id": "Yf4L7XRPiEKS"
      },
      "source": [
        "### La Instrucción GROUP BY\n",
        "Permite agrupar valores por un valor común a ellos\n",
        "\n",
        "Sintaxis de la instrucción GROUP BY\n",
        "```sql\n",
        "SELECT column_name(s)\n",
        "FROM table_name\n",
        "WHERE condition\n",
        "GROUP BY column_name(s)\n",
        "```\n",
        "\n",
        "Veamos un ejemplo contamos la cantidad de clientes que habitan en cada ciudad."
      ]
    },
    {
      "cell_type": "code",
      "metadata": {
        "id": "ZODXiBtciEKS"
      },
      "source": [
        "%%sql\n",
        "select COUNT(nombre),ciudad from cliente\n",
        "GROUP BY ciudad"
      ],
      "execution_count": null,
      "outputs": []
    },
    {
      "cell_type": "markdown",
      "metadata": {
        "id": "uaoBEhooiEKS"
      },
      "source": [
        "<div style=\"background-color: #81F781\">\n",
        " <h1> Ejercicio 8. </h1><br>\n",
        " No todas las personas tienen la misma cantidad de mascotas. Se requiere que usted indique el cliente y cantidad de mascotas que tiene cada cliente que tenga mascotas.\n",
        " <br><br>\n",
        "</div>"
      ]
    },
    {
      "cell_type": "code",
      "metadata": {
        "id": "o9DQx2fRiEKS"
      },
      "source": [
        "%%sql"
      ],
      "execution_count": null,
      "outputs": []
    },
    {
      "cell_type": "markdown",
      "metadata": {
        "id": "68ILpXoXiEKS"
      },
      "source": [
        "### La Instrucción HAVING\n",
        "Permite filtrar una busqueda donde se aplica una función de agregación sobre la condición.\n",
        "\n",
        "Sintaxis de la instrucción GROUP BY\n",
        "```sql\n",
        "SELECT column_name(s)\n",
        "FROM table_name\n",
        "WHERE condition\n",
        "HAVING column_name(s)\n",
        "```\n",
        "\n",
        "Tomando el mismo ejemplo anterior queremos mostrar las ciudades que tengan mas de 5 clientes."
      ]
    },
    {
      "cell_type": "code",
      "metadata": {
        "id": "5pWmFr4UiEKS"
      },
      "source": [
        "%%sql\n",
        "select COUNT(nombre),ciudad from cliente\n",
        "GROUP BY ciudad HAVING COUNT(nombre) > 5;"
      ],
      "execution_count": null,
      "outputs": []
    },
    {
      "cell_type": "markdown",
      "metadata": {
        "id": "nOpnF66biEKT"
      },
      "source": [
        "<div style=\"background-color: #81F781\">\n",
        " <h1> Ejercicio 9. </h1><br>\n",
        " Se requiere que usted indique los clientes que tienen mas de una mascota.\n",
        " <br><br>\n",
        "</div>"
      ]
    },
    {
      "cell_type": "code",
      "metadata": {
        "id": "NpS2Lf22iEKT"
      },
      "source": [
        "%%sql"
      ],
      "execution_count": null,
      "outputs": []
    },
    {
      "cell_type": "markdown",
      "metadata": {
        "id": "f39aOL3ViEKT"
      },
      "source": [
        "### La Instrucción Insert\n",
        "La instrucción insert permite agregar nuevos valores a las tablas\n",
        "\n",
        "```sql\n",
        "INSERT INTO table_name (columna1, columna2, columna3, ...)\n",
        "VALUES (valor1, valor2, valor3, ...); \n",
        "```\n",
        "\n",
        "donde el valor1 es insertado en la columna1, el valor2 en la columna2 y asi sucesivamente."
      ]
    },
    {
      "cell_type": "code",
      "metadata": {
        "id": "e3WO9HXUiEKT"
      },
      "source": [
        "%sql insert into departamento( departamento_id, nombre) values(8,\"cosmetica\");"
      ],
      "execution_count": null,
      "outputs": []
    },
    {
      "cell_type": "markdown",
      "metadata": {
        "id": "mv8JD3nyiEKT"
      },
      "source": [
        "### La Instrucción DELETE\n",
        "La instrucción DELETE permite ELIMINAR filas que cumplan con una determinada condición\n",
        "\n",
        "```sql\n",
        "DELETE FROM table_name\n",
        "WHERE condition;\n",
        "```\n"
      ]
    },
    {
      "cell_type": "code",
      "metadata": {
        "id": "eePqAInciEKT"
      },
      "source": [
        "%sql delete from departamento where departamento_id=8;"
      ],
      "execution_count": null,
      "outputs": []
    }
  ]
}