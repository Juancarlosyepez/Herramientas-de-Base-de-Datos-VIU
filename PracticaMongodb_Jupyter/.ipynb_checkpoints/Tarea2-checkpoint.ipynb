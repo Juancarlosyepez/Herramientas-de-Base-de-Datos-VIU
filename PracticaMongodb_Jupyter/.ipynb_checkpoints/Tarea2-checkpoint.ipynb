{
 "cells": [
  {
   "cell_type": "code",
   "execution_count": 2,
   "id": "e3a306d3",
   "metadata": {},
   "outputs": [],
   "source": [
    "import datetime\n",
    "import pymongo\n",
    "from pymongo import MongoClient"
   ]
  },
  {
   "cell_type": "code",
   "execution_count": 3,
   "id": "8c90b7be",
   "metadata": {},
   "outputs": [],
   "source": [
    "client = MongoClient('localhost',27017)"
   ]
  },
  {
   "cell_type": "code",
   "execution_count": 4,
   "id": "8e15d42b",
   "metadata": {},
   "outputs": [
    {
     "data": {
      "text/plain": [
       "['admin',\n",
       " 'auth',\n",
       " 'config',\n",
       " 'crud-mongo',\n",
       " 'local',\n",
       " 'love4pets',\n",
       " 'misclientes',\n",
       " 'prueba1',\n",
       " 'teamapp']"
      ]
     },
     "execution_count": 4,
     "metadata": {},
     "output_type": "execute_result"
    }
   ],
   "source": [
    "client.list_database_names()"
   ]
  },
  {
   "cell_type": "code",
   "execution_count": 5,
   "id": "e43ecd67",
   "metadata": {},
   "outputs": [
    {
     "data": {
      "text/plain": [
       "Database(MongoClient(host=['localhost:27017'], document_class=dict, tz_aware=False, connect=True), 'stats')"
      ]
     },
     "execution_count": 5,
     "metadata": {},
     "output_type": "execute_result"
    }
   ],
   "source": [
    "client.stats"
   ]
  },
  {
   "cell_type": "code",
   "execution_count": 6,
   "id": "c4201c75",
   "metadata": {},
   "outputs": [],
   "source": [
    "db = client.love4pets"
   ]
  },
  {
   "cell_type": "code",
   "execution_count": 7,
   "id": "dc9a5ca7",
   "metadata": {},
   "outputs": [],
   "source": [
    "collect_names = db.list_collection_names()"
   ]
  },
  {
   "cell_type": "code",
   "execution_count": 8,
   "id": "88838c14",
   "metadata": {},
   "outputs": [
    {
     "data": {
      "text/plain": [
       "['empleado']"
      ]
     },
     "execution_count": 8,
     "metadata": {},
     "output_type": "execute_result"
    }
   ],
   "source": [
    "collect_names"
   ]
  },
  {
   "cell_type": "code",
   "execution_count": 9,
   "id": "bedfd5dc",
   "metadata": {},
   "outputs": [
    {
     "data": {
      "text/plain": [
       "[{'name': 'empleado',\n",
       "  'type': 'collection',\n",
       "  'options': {},\n",
       "  'info': {'readOnly': False,\n",
       "   'uuid': UUID('668bfd0f-6a8c-4436-bb44-645afad39b58')},\n",
       "  'idIndex': {'v': 2,\n",
       "   'key': {'_id': 1},\n",
       "   'name': '_id_',\n",
       "   'ns': 'love4pets.empleado'}}]"
      ]
     },
     "execution_count": 9,
     "metadata": {},
     "output_type": "execute_result"
    }
   ],
   "source": [
    "list(db.list_collections())"
   ]
  },
  {
   "cell_type": "code",
   "execution_count": 10,
   "id": "7a7fe19d",
   "metadata": {},
   "outputs": [
    {
     "data": {
      "text/plain": [
       "[{'_id': ObjectId('615fc1e3093834dae49ce64d'), 'name': 'jordi'}]"
      ]
     },
     "execution_count": 10,
     "metadata": {},
     "output_type": "execute_result"
    }
   ],
   "source": [
    "coleccion = db.love4pets\n",
    "coleccion.insert_one({'name':'jordi'})\n",
    "list(coleccion.find())"
   ]
  },
  {
   "cell_type": "code",
   "execution_count": 11,
   "id": "cb9e6e9f",
   "metadata": {},
   "outputs": [
    {
     "data": {
      "text/plain": [
       "[{'name': 'empleado',\n",
       "  'type': 'collection',\n",
       "  'options': {},\n",
       "  'info': {'readOnly': False,\n",
       "   'uuid': UUID('668bfd0f-6a8c-4436-bb44-645afad39b58')},\n",
       "  'idIndex': {'v': 2,\n",
       "   'key': {'_id': 1},\n",
       "   'name': '_id_',\n",
       "   'ns': 'love4pets.empleado'}},\n",
       " {'name': 'cliente',\n",
       "  'type': 'collection',\n",
       "  'options': {},\n",
       "  'info': {'readOnly': False,\n",
       "   'uuid': UUID('6984b4bd-5dd4-4516-9516-3d2a4939cd34')},\n",
       "  'idIndex': {'v': 2,\n",
       "   'key': {'_id': 1},\n",
       "   'name': '_id_',\n",
       "   'ns': 'love4pets.cliente'}}]"
      ]
     },
     "execution_count": 11,
     "metadata": {},
     "output_type": "execute_result"
    }
   ],
   "source": [
    "db.love4pets.rename('cliente')\n",
    "coleccion = db.cliente\n",
    "list(db.list_collections())"
   ]
  },
  {
   "cell_type": "code",
   "execution_count": 14,
   "id": "ecf0cd4e",
   "metadata": {},
   "outputs": [],
   "source": [
    "#@title Contact\n",
    "\n",
    "Name = \"Jordi \" #@param {type:\"string\"}\n",
    "Age = 44 #@param {type:\"slider\", min:10, max:80, step:1}\n",
    "Gender = \"Male\" #@param [\"Male\", \"Female\"]\n",
    "Likes_Python = \"Yes\" #@param [\"Yes\", \"No\"]\n",
    "if Likes_Python is \"Yes\":\n",
    "  Likes_Python = True\n",
    "else:\n",
    "  Likes_Python = False\n",
    "\n",
    "\n",
    "#@markdown Address\n",
    "Street = \"Torrent de l'Olla\" #@param {type:\"string\"}\n",
    "Number = 70 #@param {type:\"integer\"}\n",
    "City = \"Barcelona\" #@param {type:\"string\"}\n",
    "PostalCode = \"08012\" #@param {type:\"string\"}"
   ]
  },
  {
   "cell_type": "code",
   "execution_count": null,
   "id": "b5b78444",
   "metadata": {},
   "outputs": [],
   "source": []
  }
 ],
 "metadata": {
  "kernelspec": {
   "display_name": "Python 3",
   "language": "python",
   "name": "python3"
  },
  "language_info": {
   "codemirror_mode": {
    "name": "ipython",
    "version": 3
   },
   "file_extension": ".py",
   "mimetype": "text/x-python",
   "name": "python",
   "nbconvert_exporter": "python",
   "pygments_lexer": "ipython3",
   "version": "3.7.11"
  }
 },
 "nbformat": 4,
 "nbformat_minor": 5
}
