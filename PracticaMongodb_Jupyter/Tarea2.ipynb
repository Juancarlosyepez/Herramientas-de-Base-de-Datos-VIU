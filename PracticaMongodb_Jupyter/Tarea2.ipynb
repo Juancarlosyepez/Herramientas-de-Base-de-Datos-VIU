{
 "cells": [
  {
   "cell_type": "code",
   "execution_count": 6,
   "id": "e3a306d3",
   "metadata": {},
   "outputs": [],
   "source": [
    "import pymongo\n",
    "from pymongo import MongoClient"
   ]
  },
  {
   "cell_type": "code",
   "execution_count": 7,
   "id": "8c90b7be",
   "metadata": {},
   "outputs": [],
   "source": [
    "client = MongoClient('localhost')"
   ]
  },
  {
   "cell_type": "code",
   "execution_count": 8,
   "id": "8e15d42b",
   "metadata": {},
   "outputs": [
    {
     "data": {
      "text/plain": [
       "['admin',\n",
       " 'auth',\n",
       " 'config',\n",
       " 'crud-mongo',\n",
       " 'local',\n",
       " 'love4pets',\n",
       " 'misclientes',\n",
       " 'mitienda',\n",
       " 'prueba1',\n",
       " 'teamapp',\n",
       " 'teststore']"
      ]
     },
     "execution_count": 8,
     "metadata": {},
     "output_type": "execute_result"
    }
   ],
   "source": [
    "client.list_database_names()"
   ]
  },
  {
   "cell_type": "code",
   "execution_count": 9,
   "id": "e43ecd67",
   "metadata": {},
   "outputs": [
    {
     "data": {
      "text/plain": [
       "Database(MongoClient(host=['localhost:27017'], document_class=dict, tz_aware=False, connect=True), 'stats')"
      ]
     },
     "execution_count": 9,
     "metadata": {},
     "output_type": "execute_result"
    }
   ],
   "source": [
    "client.stats"
   ]
  },
  {
   "cell_type": "code",
   "execution_count": 10,
   "id": "c4201c75",
   "metadata": {},
   "outputs": [],
   "source": [
    "db = client.love4pets"
   ]
  },
  {
   "cell_type": "code",
   "execution_count": 11,
   "id": "dc9a5ca7",
   "metadata": {},
   "outputs": [],
   "source": [
    "collect_names = db.list_collection_names()"
   ]
  },
  {
   "cell_type": "code",
   "execution_count": 12,
   "id": "88838c14",
   "metadata": {},
   "outputs": [
    {
     "data": {
      "text/plain": [
       "['empleado',\n",
       " 'orden',\n",
       " 'producto',\n",
       " 'mascota',\n",
       " 'cliente',\n",
       " 'departamento',\n",
       " 'proveedor',\n",
       " 'suministro',\n",
       " 'detalle_orden']"
      ]
     },
     "execution_count": 12,
     "metadata": {},
     "output_type": "execute_result"
    }
   ],
   "source": [
    "collect_names"
   ]
  },
  {
   "cell_type": "code",
   "execution_count": 13,
   "id": "bedfd5dc",
   "metadata": {},
   "outputs": [
    {
     "data": {
      "text/plain": [
       "[{'name': 'empleado',\n",
       "  'type': 'collection',\n",
       "  'options': {},\n",
       "  'info': {'readOnly': False,\n",
       "   'uuid': UUID('0fc12c87-74ed-4deb-ab8d-13f2a9f6f441')},\n",
       "  'idIndex': {'v': 2,\n",
       "   'key': {'_id': 1},\n",
       "   'name': '_id_',\n",
       "   'ns': 'love4pets.empleado'}},\n",
       " {'name': 'orden',\n",
       "  'type': 'collection',\n",
       "  'options': {},\n",
       "  'info': {'readOnly': False,\n",
       "   'uuid': UUID('262f557d-9389-4a5d-b43f-3ac7a45d31a5')},\n",
       "  'idIndex': {'v': 2,\n",
       "   'key': {'_id': 1},\n",
       "   'name': '_id_',\n",
       "   'ns': 'love4pets.orden'}},\n",
       " {'name': 'producto',\n",
       "  'type': 'collection',\n",
       "  'options': {},\n",
       "  'info': {'readOnly': False,\n",
       "   'uuid': UUID('41f73070-9f89-49b0-b920-9e3f392c95e1')},\n",
       "  'idIndex': {'v': 2,\n",
       "   'key': {'_id': 1},\n",
       "   'name': '_id_',\n",
       "   'ns': 'love4pets.producto'}},\n",
       " {'name': 'mascota',\n",
       "  'type': 'collection',\n",
       "  'options': {},\n",
       "  'info': {'readOnly': False,\n",
       "   'uuid': UUID('47f0d62e-bf81-4ae0-9a89-a48259511b42')},\n",
       "  'idIndex': {'v': 2,\n",
       "   'key': {'_id': 1},\n",
       "   'name': '_id_',\n",
       "   'ns': 'love4pets.mascota'}},\n",
       " {'name': 'cliente',\n",
       "  'type': 'collection',\n",
       "  'options': {},\n",
       "  'info': {'readOnly': False,\n",
       "   'uuid': UUID('6984b4bd-5dd4-4516-9516-3d2a4939cd34')},\n",
       "  'idIndex': {'v': 2,\n",
       "   'key': {'_id': 1},\n",
       "   'name': '_id_',\n",
       "   'ns': 'love4pets.cliente'}},\n",
       " {'name': 'departamento',\n",
       "  'type': 'collection',\n",
       "  'options': {},\n",
       "  'info': {'readOnly': False,\n",
       "   'uuid': UUID('b2b54558-f1cf-4cdb-93bf-f755c152654f')},\n",
       "  'idIndex': {'v': 2,\n",
       "   'key': {'_id': 1},\n",
       "   'name': '_id_',\n",
       "   'ns': 'love4pets.departamento'}},\n",
       " {'name': 'proveedor',\n",
       "  'type': 'collection',\n",
       "  'options': {},\n",
       "  'info': {'readOnly': False,\n",
       "   'uuid': UUID('b7f4b196-7ff2-4ed7-a33d-c2b29c78c28a')},\n",
       "  'idIndex': {'v': 2,\n",
       "   'key': {'_id': 1},\n",
       "   'name': '_id_',\n",
       "   'ns': 'love4pets.proveedor'}},\n",
       " {'name': 'suministro',\n",
       "  'type': 'collection',\n",
       "  'options': {},\n",
       "  'info': {'readOnly': False,\n",
       "   'uuid': UUID('e8be202d-8d6e-479c-a712-482baa8ecda1')},\n",
       "  'idIndex': {'v': 2,\n",
       "   'key': {'_id': 1},\n",
       "   'name': '_id_',\n",
       "   'ns': 'love4pets.suministro'}},\n",
       " {'name': 'detalle_orden',\n",
       "  'type': 'collection',\n",
       "  'options': {},\n",
       "  'info': {'readOnly': False,\n",
       "   'uuid': UUID('f94b29f9-f656-458c-94be-c5d04aae9ad6')},\n",
       "  'idIndex': {'v': 2,\n",
       "   'key': {'_id': 1},\n",
       "   'name': '_id_',\n",
       "   'ns': 'love4pets.detalle_orden'}}]"
      ]
     },
     "execution_count": 13,
     "metadata": {},
     "output_type": "execute_result"
    }
   ],
   "source": [
    "list(db.list_collections())"
   ]
  },
  {
   "cell_type": "code",
   "execution_count": 20,
   "id": "7a7fe19d",
   "metadata": {},
   "outputs": [
    {
     "data": {
      "text/plain": [
       "[{'_id': ObjectId('6168c941c1c998ab2aca4e89'),\n",
       "  'cliente_id': 1,\n",
       "  'nombre': 'Mario Flores Gallardo',\n",
       "  'email': 'marioflores@gmail.com',\n",
       "  'telefono': '036-15-36',\n",
       "  'contacto': 'Aintzane Alvarez Iglesias',\n",
       "  'telefono_contacto': '210-35-57',\n",
       "  'ciudad': 'Madrid'},\n",
       " {'_id': ObjectId('6168c941c1c998ab2aca4e8a'),\n",
       "  'cliente_id': 2,\n",
       "  'nombre': 'Arnau Medina Garcia',\n",
       "  'email': 'arnaumedina@gmail.com',\n",
       "  'telefono': '094-10-88',\n",
       "  'contacto': '',\n",
       "  'telefono_contacto': '',\n",
       "  'ciudad': 'Madrid'},\n",
       " {'_id': ObjectId('6168c941c1c998ab2aca4e8b'),\n",
       "  'cliente_id': 3,\n",
       "  'nombre': 'Ivan Medina Rubio',\n",
       "  'email': 'ivanmedina@gmail.com',\n",
       "  'telefono': '083-08-72',\n",
       "  'contacto': 'Javier Domenech',\n",
       "  'telefono_contacto': '488-48-46',\n",
       "  'ciudad': 'Toledo'},\n",
       " {'_id': ObjectId('6168c941c1c998ab2aca4e8c'),\n",
       "  'cliente_id': 4,\n",
       "  'nombre': 'Jan Vargas Santana',\n",
       "  'email': 'vargasjan@gmail.com',\n",
       "  'telefono': '780-65-24',\n",
       "  'contacto': '',\n",
       "  'telefono_contacto': '',\n",
       "  'ciudad': 'Madrid'},\n",
       " {'_id': ObjectId('6168c941c1c998ab2aca4e8d'),\n",
       "  'cliente_id': 5,\n",
       "  'nombre': 'Carlos Costa Guerrero',\n",
       "  'email': 'carloscostag@gmail.com',\n",
       "  'telefono': '180-65-24',\n",
       "  'contacto': 'Cristian Jimenez',\n",
       "  'telefono_contacto': '801-28-09',\n",
       "  'ciudad': 'Madrid'},\n",
       " {'_id': ObjectId('6168c941c1c998ab2aca4e8e'),\n",
       "  'cliente_id': 6,\n",
       "  'nombre': 'Roberto Martin Ortega',\n",
       "  'email': 'robertmartin@gmail.com',\n",
       "  'telefono': '742-63-27',\n",
       "  'contacto': 'Jorge Vila Gallardo',\n",
       "  'telefono_contacto': '564-52-13',\n",
       "  'ciudad': 'Madrid'},\n",
       " {'_id': ObjectId('6168c941c1c998ab2aca4e8f'),\n",
       "  'cliente_id': 7,\n",
       "  'nombre': 'Gabriel Gonzalez Ortega',\n",
       "  'email': 'gabogonzo@gmail.com',\n",
       "  'telefono': '780-13-14',\n",
       "  'contacto': 'Miguel Bosch Parra',\n",
       "  'telefono_contacto': '882-17-20',\n",
       "  'ciudad': 'Madrid'},\n",
       " {'_id': ObjectId('6168c941c1c998ab2aca4e90'),\n",
       "  'cliente_id': 8,\n",
       "  'nombre': 'Rayan Leon Ferrer',\n",
       "  'email': 'rayito@gmail.com',\n",
       "  'telefono': '430-65-24',\n",
       "  'contacto': 'Santiago Perez Ramos',\n",
       "  'telefono_contacto': '577-21-24',\n",
       "  'ciudad': 'Madrid'},\n",
       " {'_id': ObjectId('6168c941c1c998ab2aca4e91'),\n",
       "  'cliente_id': 9,\n",
       "  'nombre': 'Aitor Ruiz Sanchez',\n",
       "  'email': 'aitorsanchez@gmail.com',\n",
       "  'telefono': '780-77-24',\n",
       "  'contacto': 'Gabriel Gonzalez Ortega',\n",
       "  'telefono_contacto': '784-96-31',\n",
       "  'ciudad': 'Madrid'},\n",
       " {'_id': ObjectId('6168c941c1c998ab2aca4e92'),\n",
       "  'cliente_id': 10,\n",
       "  'nombre': 'Eric Rubio Carrasco',\n",
       "  'email': 'ericrubio@gmail.com',\n",
       "  'telefono': '780-65-79',\n",
       "  'contacto': 'Cristian Jimenez Martinez',\n",
       "  'telefono_contacto': '147-01-12',\n",
       "  'ciudad': 'Madrid'},\n",
       " {'_id': ObjectId('6168c941c1c998ab2aca4e93'),\n",
       "  'cliente_id': 11,\n",
       "  'nombre': 'Alberto Sanz Ruiz',\n",
       "  'email': 'albert@gmail.com',\n",
       "  'telefono': '781-15-24',\n",
       "  'contacto': 'Gabriel Gonzalez Ortega',\n",
       "  'telefono_contacto': '028-51-21',\n",
       "  'ciudad': 'Madrid'},\n",
       " {'_id': ObjectId('6168c941c1c998ab2aca4e94'),\n",
       "  'cliente_id': 12,\n",
       "  'nombre': 'Jesus Medina Hernandez',\n",
       "  'email': 'jmedinah@gmail.com',\n",
       "  'telefono': '782-35-25',\n",
       "  'contacto': 'Vctor Gonzalez Castillo',\n",
       "  'telefono_contacto': '661-85-12',\n",
       "  'ciudad': 'Madrid'},\n",
       " {'_id': ObjectId('6168c941c1c998ab2aca4e95'),\n",
       "  'cliente_id': 13,\n",
       "  'nombre': 'Pol Moya Pena',\n",
       "  'email': 'polmoya@gmail.com',\n",
       "  'telefono': '780-25-24',\n",
       "  'contacto': '',\n",
       "  'telefono_contacto': '',\n",
       "  'ciudad': 'Toledo'},\n",
       " {'_id': ObjectId('6168c941c1c998ab2aca4e96'),\n",
       "  'cliente_id': 14,\n",
       "  'nombre': 'Jose Gallardo Rodriguez',\n",
       "  'email': 'josegallardo@gmail.com',\n",
       "  'telefono': '783-65-11',\n",
       "  'contacto': 'Hector Martin Morales',\n",
       "  'telefono_contacto': '867-97-99',\n",
       "  'ciudad': 'Madrid'},\n",
       " {'_id': ObjectId('6168c941c1c998ab2aca4e97'),\n",
       "  'cliente_id': 15,\n",
       "  'nombre': 'Manuel Angel Gil',\n",
       "  'email': 'manano@gmail.com',\n",
       "  'telefono': '733-65-16',\n",
       "  'contacto': 'Hector Navarro',\n",
       "  'telefono_contacto': '067-97-91',\n",
       "  'ciudad': 'Madrid'}]"
      ]
     },
     "execution_count": 20,
     "metadata": {},
     "output_type": "execute_result"
    }
   ],
   "source": [
    "coleccion = db.cliente\n",
    "list(coleccion.find())"
   ]
  },
  {
   "cell_type": "code",
   "execution_count": 21,
   "id": "b9679e9e",
   "metadata": {},
   "outputs": [
    {
     "name": "stdout",
     "output_type": "stream",
     "text": [
      "15\n"
     ]
    }
   ],
   "source": [
    "number_of_products = coleccion.count_documents({})\n",
    "print(number_of_products)"
   ]
  },
  {
   "cell_type": "code",
   "execution_count": 19,
   "id": "b5b78444",
   "metadata": {},
   "outputs": [
    {
     "ename": "NameError",
     "evalue": "name 'cliente' is not defined",
     "output_type": "error",
     "traceback": [
      "\u001b[1;31m---------------------------------------------------------------------------\u001b[0m",
      "\u001b[1;31mNameError\u001b[0m                                 Traceback (most recent call last)",
      "\u001b[1;32m<ipython-input-19-402858a23aba>\u001b[0m in \u001b[0;36m<module>\u001b[1;34m\u001b[0m\n\u001b[1;32m----> 1\u001b[1;33m \u001b[0mnumber_of_products\u001b[0m \u001b[1;33m=\u001b[0m \u001b[0mcliente\u001b[0m\u001b[1;33m.\u001b[0m\u001b[0mcount_documents\u001b[0m\u001b[1;33m(\u001b[0m\u001b[1;33m{\u001b[0m\u001b[1;33m}\u001b[0m\u001b[1;33m)\u001b[0m\u001b[1;33m\u001b[0m\u001b[1;33m\u001b[0m\u001b[0m\n\u001b[0m\u001b[0;32m      2\u001b[0m \u001b[0mprint\u001b[0m\u001b[1;33m(\u001b[0m\u001b[0mnumber_of_products\u001b[0m\u001b[1;33m)\u001b[0m\u001b[1;33m\u001b[0m\u001b[1;33m\u001b[0m\u001b[0m\n",
      "\u001b[1;31mNameError\u001b[0m: name 'cliente' is not defined"
     ]
    }
   ],
   "source": [
    "from pymongo import MongoClient\n",
    "\n",
    "MONGO_URI = 'localhost'\n",
    "\n",
    "client = MongoClient(MONGO_URI)\n",
    "\n",
    "db = client['teststore']\n",
    "\n",
    "collection = db['products']\n",
    "\n",
    "#collection.insert_one({\"_id\":2 , \"name\": \"keyboard\",\"price\":300})\n",
    "\n",
    "# product_one = {\"name\":\"mause\"}\n",
    "# product_two = {\"name\":\"monitor\"}\n",
    "\n",
    "# collection.insert_many([product_one, product_two])\n",
    "\n",
    "# results = collection.find({\"name\":\"keyboard\"})\n",
    "\n",
    "# for r in results:\n",
    "#     print(r['name'])\n",
    "\n",
    "# result = collection.find_one({\"name\":\"keyboard\"})\n",
    "\n",
    "# result = collection.delete_many({\"price\":300})\n",
    "\n",
    "# collection.delete_many({})\n",
    "\n",
    "# collection.insert_one({\"name\":\"laptop\"})\n",
    "\n",
    "# collection.update_one({\"name\":\"laptop\"},{\"$set\":{\"name\":\"keyboard\",\"price\":300}})\n",
    "\n",
    "collection.update_one({\"name\":\"keyboard\"},{\"$inc\":{\"price\":10}})\n",
    "\n",
    "number_of_products = collection.count_documents({})\n",
    "print(number_of_products)"
   ]
  },
  {
   "cell_type": "code",
   "execution_count": 5,
   "id": "67ac3303",
   "metadata": {},
   "outputs": [
    {
     "data": {
      "text/plain": [
       "[{'_id': ObjectId('616623dc329a4549d01db11a'),\n",
       "  'name': 'keyboard',\n",
       "  'price': 400}]"
      ]
     },
     "execution_count": 5,
     "metadata": {},
     "output_type": "execute_result"
    }
   ],
   "source": [
    "list ( collection.find().limit(1) )  "
   ]
  },
  {
   "cell_type": "code",
   "execution_count": 6,
   "id": "890070a7",
   "metadata": {},
   "outputs": [
    {
     "data": {
      "text/plain": [
       "<pymongo.cursor.Cursor at 0x41d6cc6648>"
      ]
     },
     "execution_count": 6,
     "metadata": {},
     "output_type": "execute_result"
    }
   ],
   "source": [
    "collection.find()"
   ]
  },
  {
   "cell_type": "code",
   "execution_count": 7,
   "id": "60bff796",
   "metadata": {},
   "outputs": [
    {
     "data": {
      "text/plain": [
       "[{'_id': ObjectId('616623dc329a4549d01db11a'),\n",
       "  'name': 'keyboard',\n",
       "  'price': 400},\n",
       " {'_id': ObjectId('616626bfc24a7c6df0a8bdd4'), 'name': 'mause'}]"
      ]
     },
     "execution_count": 7,
     "metadata": {},
     "output_type": "execute_result"
    }
   ],
   "source": [
    "list(collection.find())"
   ]
  },
  {
   "cell_type": "code",
   "execution_count": null,
   "id": "40401f92",
   "metadata": {},
   "outputs": [],
   "source": []
  }
 ],
 "metadata": {
  "kernelspec": {
   "display_name": "Python 3",
   "language": "python",
   "name": "python3"
  },
  "language_info": {
   "codemirror_mode": {
    "name": "ipython",
    "version": 3
   },
   "file_extension": ".py",
   "mimetype": "text/x-python",
   "name": "python",
   "nbconvert_exporter": "python",
   "pygments_lexer": "ipython3",
   "version": "3.7.11"
  }
 },
 "nbformat": 4,
 "nbformat_minor": 5
}
